{
 "cells": [
  {
   "cell_type": "code",
   "execution_count": 172,
   "metadata": {},
   "outputs": [],
   "source": [
    "import tensorflow as tf\n",
    "import numpy as np\n",
    "import pandas as pd\n",
    "import math as mt\n",
    "import os\n",
    "import pickle\n",
    "import mlflow\n",
    "import mlflow.keras"
   ]
  },
  {
   "cell_type": "code",
   "execution_count": 173,
   "metadata": {},
   "outputs": [],
   "source": [
    "# print(\"numpy==\"+np.__version__)\n",
    "# print(\"tensorflow==\"+tf.__version__)\n",
    "# print(\"pandas==\"+pd.__version__)\n",
    "# print(\"mlflow==\"+mlflow.__version__)\n"
   ]
  },
  {
   "cell_type": "code",
   "execution_count": 174,
   "metadata": {},
   "outputs": [],
   "source": [
    "bs=10\n",
    "epochs=150"
   ]
  },
  {
   "cell_type": "code",
   "execution_count": 175,
   "metadata": {},
   "outputs": [],
   "source": [
    "gpus = tf.config.list_physical_devices('GPU')\n",
    "if gpus:\n",
    "  try:\n",
    "    # Currently, memory growth needs to be the same across GPUs\n",
    "    for gpu in gpus:\n",
    "      tf.config.experimental.set_memory_growth(gpu, True)\n",
    "    logical_gpus = tf.config.list_logical_devices('GPU')\n",
    "    print(len(gpus), \"Physical GPUs,\", len(logical_gpus), \"Logical GPUs\")\n",
    "  except RuntimeError as e:\n",
    "    # Memory growth must be set before GPUs have been initialized\n",
    "    print(e)"
   ]
  },
  {
   "cell_type": "code",
   "execution_count": 176,
   "metadata": {},
   "outputs": [
    {
     "data": {
      "text/plain": [
       "<Experiment: artifact_location='./mlruns/4', experiment_id='4', lifecycle_stage='active', name='graph-neural-network-trial-batch-norm', tags={}>"
      ]
     },
     "execution_count": 176,
     "metadata": {},
     "output_type": "execute_result"
    }
   ],
   "source": [
    "\n",
    "\n",
    "\n",
    "mlflow.set_tracking_uri(\"sqlite:///mlflow.db\")\n",
    "mlflow.set_experiment(\"graph-neural-network-trial-batch-norm\")"
   ]
  },
  {
   "cell_type": "code",
   "execution_count": 177,
   "metadata": {},
   "outputs": [],
   "source": [
    "mlflow.tensorflow.autolog()"
   ]
  },
  {
   "cell_type": "code",
   "execution_count": 178,
   "metadata": {},
   "outputs": [],
   "source": [
    "# def adjm(h,w,near):\n",
    "#   am=[[0 for i in range(w*h)] for j in range(h*w)]\n",
    "#   img=[[0 for i in range(w)] for j in range(h)]\n",
    "  \n",
    "#   dr=[[1,0],[0,1],[1,1],[-1,-1],[-1,0],[0,-1],[-1,1],[1,-1]]\n",
    "\n",
    "#   for i,v in enumerate(img):\n",
    "#     for j,v2 in enumerate(img[i]):\n",
    "#       timg=[[0 for i in range(w)] for j in range(h)]\n",
    "#       for k in range(0,near+1):\n",
    "#         for d in dr:\n",
    "#           posy=i+d[0]*k\n",
    "#           posx=j+d[1]*k\n",
    "#           if posy>=0 and posy<h and posx>=0 and posx<w:\n",
    "#             timg[posy][posx]=1\n",
    "#             am[i*w+j][posy*w+posx]=1\n",
    "#         print(timg)  \n",
    "\n",
    "#   return am\n",
    "\n",
    "# val=adjm(4,5,1)"
   ]
  },
  {
   "cell_type": "code",
   "execution_count": 179,
   "metadata": {},
   "outputs": [],
   "source": [
    "with open('data/train/x_train.pkl','rb') as f:\n",
    "        x1=pickle.load(f)\n",
    "with open('data/train/y_train.pkl','rb') as f:\n",
    "        y1=pickle.load( f)\n",
    "with open('data/valid/x_valid.pkl','rb') as f:\n",
    "        x2=pickle.load(f)\n",
    "with open('data/valid/y_valid.pkl','rb') as f:\n",
    "        y2=pickle.load( f)\n",
    "# with open('data/test/x_test.pkl','rb') as f:\n",
    "#         x3=pickle.load(f)\n",
    "# with open('data/test/y_test.pkl','rb') as f:\n",
    "#         y3=pickle.load( f)"
   ]
  },
  {
   "cell_type": "code",
   "execution_count": 180,
   "metadata": {},
   "outputs": [],
   "source": [
    "with open('data/test/x_test.pkl','rb') as f:\n",
    "        x3=pickle.load(f)\n",
    "with open('data/test/y_test.pkl','rb') as f:\n",
    "        y3=pickle.load( f)"
   ]
  },
  {
   "cell_type": "code",
   "execution_count": 181,
   "metadata": {},
   "outputs": [
    {
     "data": {
      "text/plain": [
       "(420, 9, 12)"
      ]
     },
     "execution_count": 181,
     "metadata": {},
     "output_type": "execute_result"
    }
   ],
   "source": [
    "x1.shape"
   ]
  },
  {
   "cell_type": "code",
   "execution_count": 182,
   "metadata": {},
   "outputs": [
    {
     "name": "stdout",
     "output_type": "stream",
     "text": [
      "6.0\n"
     ]
    }
   ],
   "source": [
    "print(max(y1))"
   ]
  },
  {
   "cell_type": "code",
   "execution_count": 183,
   "metadata": {},
   "outputs": [],
   "source": [
    "class GCN(tf.keras.layers.Layer):\n",
    "    def __init__(self,inp_shape=9*12,out_shape=9*12,h=9, w=12,near=3):\n",
    "        super(GCN, self).__init__()\n",
    "        self.am=[[0 for i in range(w*h)] for j in range(h*w)]\n",
    "        self.img=[[0 for i in range(w)] for j in range(h)]\n",
    "  \n",
    "        self.dr=[[1,0],[0,1],[1,1],[-1,-1],[-1,0],[0,-1],[-1,1],[1,-1]]\n",
    "\n",
    "        for i,v in enumerate(self.img):\n",
    "           for j,v2 in enumerate(self.img[i]):\n",
    "        # timg=[[0 for i in range(w)] for j in range(h)]\n",
    "              for k in range(0,near+1):\n",
    "                for d in self.dr:\n",
    "                  posy=i+d[0]*k\n",
    "                  posx=j+d[1]*k\n",
    "                  if posy>=0 and posy<h and posx>=0 and posx<w:\n",
    "            # timg[posy][posx]=1\n",
    "                    self.am[i*w+j][posy*w+posx]=1\n",
    "        # print(timg) \n",
    "        self.am=np.array(self.am) \n",
    "        self.D = np.diag(np.sum(self.am, axis=0)) \n",
    "        self.Dinv=np.linalg.inv(self.D)\n",
    "        self.am=tf.Variable(self.am,trainable=True,dtype=tf.float32,name=\"ajm\")\n",
    "        self.Dinv=tf.Variable(self.Dinv,trainable=True,dtype=tf.float32,name=\"dm\")\n",
    "        # self.norm=tf.matmul(self.Dinv*self.am)\n",
    "        self.w = self.add_weight(\n",
    "            shape=(inp_shape, out_shape), initializer=\"random_normal\", trainable=True,dtype=tf.float32,name='adjw'\n",
    "        )\n",
    "        # self.b = self.add_weight(shape=(units,), initializer=\"zeros\", trainable=True)\n",
    "    \n",
    "    def call(self, inputs):\n",
    "        inputs=tf.cast(inputs,dtype=tf.float32)\n",
    "        # inputs=tf.transpose()\n",
    "        print(inputs.shape)\n",
    "        # print(\"inpshape\",tf.transpose(inputs,perm=[1,0]).shape)\n",
    "        # print(self.Dinv.shape)\n",
    "        # print(self.am.shape)\n",
    "        # print(self.w.shape)\n",
    "        first_half=tf.matmul(inputs,tf.matmul(self.Dinv,self.am))\n",
    "    \n",
    "        return tf.matmul(first_half, self.w) "
   ]
  },
  {
   "cell_type": "code",
   "execution_count": 184,
   "metadata": {},
   "outputs": [],
   "source": [
    "def build_model(near=3,lay=2,bs=bs,n_out=7):\n",
    "    inputs = tf.keras.Input( shape=(9,12))\n",
    "    mlflow.log_param(\"layers\", lay)\n",
    "    mlflow.log_param(\"nearest\", near)\n",
    "    mlflow.set_tag(\"layer\", \"changed\")\n",
    "    print(inputs.shape)\n",
    "    # x=tf.reshape(inputs,[inputs.shape[1]*inputs.shape[2]],name=\"initial reshape\")\n",
    "    x=tf.keras.layers.Flatten()(inputs)\n",
    "    for i in range(lay):\n",
    "        x=GCN(near=near)(x)\n",
    "        x=tf.keras.layers.Activation('relu',name=\"graph_layer\"+str(i+1))(x)\n",
    "    x=tf.keras.layers.BatchNormalization()(x)\n",
    "    x=tf.keras.layers.Dense(units=32,activation=\"relu\",name=\"dense1\")(x)\n",
    "    output=tf.keras.layers.Dense(n_out,activation=\"softmax\",name=\"out_layer\")(x)\n",
    "    model = tf.keras.Model(inputs=inputs, outputs=output, name=\"graph_neuralnetwork\")\n",
    "\n",
    "    model.compile(\n",
    "    loss=tf.keras.losses.SparseCategoricalCrossentropy(),\n",
    "    optimizer=tf.keras.optimizers.Adam(learning_rate=0.01),\n",
    "    metrics=[\"accuracy\"],\n",
    ")\n",
    "    return model"
   ]
  },
  {
   "cell_type": "code",
   "execution_count": 185,
   "metadata": {},
   "outputs": [
    {
     "ename": "MlflowException",
     "evalue": "Run with id=afad619951784d10b02a660cc75ff333 not found",
     "output_type": "error",
     "traceback": [
      "\u001b[1;31m---------------------------------------------------------------------------\u001b[0m",
      "\u001b[1;31mMlflowException\u001b[0m                           Traceback (most recent call last)",
      "\u001b[1;32me:\\projects\\python\\Mac-Neural-Network-Project\\buid-train.ipynb Cell 14'\u001b[0m in \u001b[0;36m<cell line: 1>\u001b[1;34m()\u001b[0m\n\u001b[1;32m----> <a href='vscode-notebook-cell:/e%3A/projects/python/Mac-Neural-Network-Project/buid-train.ipynb#ch0000013?line=0'>1</a>\u001b[0m model\u001b[39m=\u001b[39mbuild_model()\n",
      "\u001b[1;32me:\\projects\\python\\Mac-Neural-Network-Project\\buid-train.ipynb Cell 13'\u001b[0m in \u001b[0;36mbuild_model\u001b[1;34m(near, lay, bs, n_out)\u001b[0m\n\u001b[0;32m      <a href='vscode-notebook-cell:/e%3A/projects/python/Mac-Neural-Network-Project/buid-train.ipynb#ch0000012?line=0'>1</a>\u001b[0m \u001b[39mdef\u001b[39;00m \u001b[39mbuild_model\u001b[39m(near\u001b[39m=\u001b[39m\u001b[39m3\u001b[39m,lay\u001b[39m=\u001b[39m\u001b[39m2\u001b[39m,bs\u001b[39m=\u001b[39mbs,n_out\u001b[39m=\u001b[39m\u001b[39m7\u001b[39m):\n\u001b[0;32m      <a href='vscode-notebook-cell:/e%3A/projects/python/Mac-Neural-Network-Project/buid-train.ipynb#ch0000012?line=1'>2</a>\u001b[0m     inputs \u001b[39m=\u001b[39m tf\u001b[39m.\u001b[39mkeras\u001b[39m.\u001b[39mInput( shape\u001b[39m=\u001b[39m(\u001b[39m9\u001b[39m,\u001b[39m12\u001b[39m))\n\u001b[1;32m----> <a href='vscode-notebook-cell:/e%3A/projects/python/Mac-Neural-Network-Project/buid-train.ipynb#ch0000012?line=2'>3</a>\u001b[0m     mlflow\u001b[39m.\u001b[39;49mlog_param(\u001b[39m\"\u001b[39;49m\u001b[39mlayers\u001b[39;49m\u001b[39m\"\u001b[39;49m, lay)\n\u001b[0;32m      <a href='vscode-notebook-cell:/e%3A/projects/python/Mac-Neural-Network-Project/buid-train.ipynb#ch0000012?line=3'>4</a>\u001b[0m     mlflow\u001b[39m.\u001b[39mlog_param(\u001b[39m\"\u001b[39m\u001b[39mnearest\u001b[39m\u001b[39m\"\u001b[39m, near)\n\u001b[0;32m      <a href='vscode-notebook-cell:/e%3A/projects/python/Mac-Neural-Network-Project/buid-train.ipynb#ch0000012?line=4'>5</a>\u001b[0m     mlflow\u001b[39m.\u001b[39mset_tag(\u001b[39m\"\u001b[39m\u001b[39mlayer\u001b[39m\u001b[39m\"\u001b[39m, \u001b[39m\"\u001b[39m\u001b[39mchanged\u001b[39m\u001b[39m\"\u001b[39m)\n",
      "File \u001b[1;32mc:\\Users\\Acer\\AppData\\Local\\Programs\\Python\\Python310\\lib\\site-packages\\mlflow\\tracking\\fluent.py:505\u001b[0m, in \u001b[0;36mlog_param\u001b[1;34m(key, value)\u001b[0m\n\u001b[0;32m    484\u001b[0m \u001b[39m\"\"\"\u001b[39;00m\n\u001b[0;32m    485\u001b[0m \u001b[39mLog a parameter under the current run. If no run is active, this method will create\u001b[39;00m\n\u001b[0;32m    486\u001b[0m \u001b[39ma new active run.\u001b[39;00m\n\u001b[1;32m   (...)\u001b[0m\n\u001b[0;32m    502\u001b[0m \u001b[39m        mlflow.log_param(\"learning_rate\", 0.01)\u001b[39;00m\n\u001b[0;32m    503\u001b[0m \u001b[39m\"\"\"\u001b[39;00m\n\u001b[0;32m    504\u001b[0m run_id \u001b[39m=\u001b[39m _get_or_start_run()\u001b[39m.\u001b[39minfo\u001b[39m.\u001b[39mrun_id\n\u001b[1;32m--> 505\u001b[0m MlflowClient()\u001b[39m.\u001b[39;49mlog_param(run_id, key, value)\n",
      "File \u001b[1;32mc:\\Users\\Acer\\AppData\\Local\\Programs\\Python\\Python310\\lib\\site-packages\\mlflow\\tracking\\client.py:743\u001b[0m, in \u001b[0;36mMlflowClient.log_param\u001b[1;34m(self, run_id, key, value)\u001b[0m\n\u001b[0;32m    692\u001b[0m \u001b[39mdef\u001b[39;00m \u001b[39mlog_param\u001b[39m(\u001b[39mself\u001b[39m, run_id: \u001b[39mstr\u001b[39m, key: \u001b[39mstr\u001b[39m, value: Any) \u001b[39m-\u001b[39m\u001b[39m>\u001b[39m \u001b[39mNone\u001b[39;00m:\n\u001b[0;32m    693\u001b[0m     \u001b[39m\"\"\"\u001b[39;00m\n\u001b[0;32m    694\u001b[0m \u001b[39m    Log a parameter against the run ID.\u001b[39;00m\n\u001b[0;32m    695\u001b[0m \n\u001b[1;32m   (...)\u001b[0m\n\u001b[0;32m    741\u001b[0m \u001b[39m        status: FINISHED\u001b[39;00m\n\u001b[0;32m    742\u001b[0m \u001b[39m    \"\"\"\u001b[39;00m\n\u001b[1;32m--> 743\u001b[0m     \u001b[39mself\u001b[39;49m\u001b[39m.\u001b[39;49m_tracking_client\u001b[39m.\u001b[39;49mlog_param(run_id, key, value)\n",
      "File \u001b[1;32mc:\\Users\\Acer\\AppData\\Local\\Programs\\Python\\Python310\\lib\\site-packages\\mlflow\\tracking\\_tracking_service\\client.py:240\u001b[0m, in \u001b[0;36mTrackingServiceClient.log_param\u001b[1;34m(self, run_id, key, value)\u001b[0m\n\u001b[0;32m    238\u001b[0m     \u001b[39mraise\u001b[39;00m MlflowException(msg, INVALID_PARAMETER_VALUE)\n\u001b[0;32m    239\u001b[0m \u001b[39melse\u001b[39;00m:\n\u001b[1;32m--> 240\u001b[0m     \u001b[39mraise\u001b[39;00m e\n",
      "File \u001b[1;32mc:\\Users\\Acer\\AppData\\Local\\Programs\\Python\\Python310\\lib\\site-packages\\mlflow\\tracking\\_tracking_service\\client.py:234\u001b[0m, in \u001b[0;36mTrackingServiceClient.log_param\u001b[1;34m(self, run_id, key, value)\u001b[0m\n\u001b[0;32m    232\u001b[0m param \u001b[39m=\u001b[39m Param(key, \u001b[39mstr\u001b[39m(value))\n\u001b[0;32m    233\u001b[0m \u001b[39mtry\u001b[39;00m:\n\u001b[1;32m--> 234\u001b[0m     \u001b[39mself\u001b[39;49m\u001b[39m.\u001b[39;49mstore\u001b[39m.\u001b[39;49mlog_param(run_id, param)\n\u001b[0;32m    235\u001b[0m \u001b[39mexcept\u001b[39;00m MlflowException \u001b[39mas\u001b[39;00m e:\n\u001b[0;32m    236\u001b[0m     \u001b[39mif\u001b[39;00m e\u001b[39m.\u001b[39merror_code \u001b[39m==\u001b[39m ErrorCode\u001b[39m.\u001b[39mName(INVALID_PARAMETER_VALUE):\n",
      "File \u001b[1;32mc:\\Users\\Acer\\AppData\\Local\\Programs\\Python\\Python310\\lib\\site-packages\\mlflow\\store\\tracking\\sqlalchemy_store.py:791\u001b[0m, in \u001b[0;36mSqlAlchemyStore.log_param\u001b[1;34m(self, run_id, param)\u001b[0m\n\u001b[0;32m    789\u001b[0m \u001b[39mdef\u001b[39;00m \u001b[39mlog_param\u001b[39m(\u001b[39mself\u001b[39m, run_id, param):\n\u001b[0;32m    790\u001b[0m     \u001b[39mwith\u001b[39;00m \u001b[39mself\u001b[39m\u001b[39m.\u001b[39mManagedSessionMaker() \u001b[39mas\u001b[39;00m session:\n\u001b[1;32m--> 791\u001b[0m         run \u001b[39m=\u001b[39m \u001b[39mself\u001b[39;49m\u001b[39m.\u001b[39;49m_get_run(run_uuid\u001b[39m=\u001b[39;49mrun_id, session\u001b[39m=\u001b[39;49msession)\n\u001b[0;32m    792\u001b[0m         \u001b[39mself\u001b[39m\u001b[39m.\u001b[39m_check_run_is_active(run)\n\u001b[0;32m    793\u001b[0m         \u001b[39m# if we try to update the value of an existing param this will fail\u001b[39;00m\n\u001b[0;32m    794\u001b[0m         \u001b[39m# because it will try to create it with same run_uuid, param key\u001b[39;00m\n",
      "File \u001b[1;32mc:\\Users\\Acer\\AppData\\Local\\Programs\\Python\\Python310\\lib\\site-packages\\mlflow\\store\\tracking\\sqlalchemy_store.py:468\u001b[0m, in \u001b[0;36mSqlAlchemyStore._get_run\u001b[1;34m(self, session, run_uuid, eager)\u001b[0m\n\u001b[0;32m    463\u001b[0m runs \u001b[39m=\u001b[39m (\n\u001b[0;32m    464\u001b[0m     session\u001b[39m.\u001b[39mquery(SqlRun)\u001b[39m.\u001b[39moptions(\u001b[39m*\u001b[39mquery_options)\u001b[39m.\u001b[39mfilter(SqlRun\u001b[39m.\u001b[39mrun_uuid \u001b[39m==\u001b[39m run_uuid)\u001b[39m.\u001b[39mall()\n\u001b[0;32m    465\u001b[0m )\n\u001b[0;32m    467\u001b[0m \u001b[39mif\u001b[39;00m \u001b[39mlen\u001b[39m(runs) \u001b[39m==\u001b[39m \u001b[39m0\u001b[39m:\n\u001b[1;32m--> 468\u001b[0m     \u001b[39mraise\u001b[39;00m MlflowException(\n\u001b[0;32m    469\u001b[0m         \u001b[39m\"\u001b[39m\u001b[39mRun with id=\u001b[39m\u001b[39m{}\u001b[39;00m\u001b[39m not found\u001b[39m\u001b[39m\"\u001b[39m\u001b[39m.\u001b[39mformat(run_uuid), RESOURCE_DOES_NOT_EXIST\n\u001b[0;32m    470\u001b[0m     )\n\u001b[0;32m    471\u001b[0m \u001b[39mif\u001b[39;00m \u001b[39mlen\u001b[39m(runs) \u001b[39m>\u001b[39m \u001b[39m1\u001b[39m:\n\u001b[0;32m    472\u001b[0m     \u001b[39mraise\u001b[39;00m MlflowException(\n\u001b[0;32m    473\u001b[0m         \u001b[39m\"\u001b[39m\u001b[39mExpected only 1 run with id=\u001b[39m\u001b[39m{}\u001b[39;00m\u001b[39m. Found \u001b[39m\u001b[39m{}\u001b[39;00m\u001b[39m.\u001b[39m\u001b[39m\"\u001b[39m\u001b[39m.\u001b[39mformat(run_uuid, \u001b[39mlen\u001b[39m(runs)),\n\u001b[0;32m    474\u001b[0m         INVALID_STATE,\n\u001b[0;32m    475\u001b[0m     )\n",
      "\u001b[1;31mMlflowException\u001b[0m: Run with id=afad619951784d10b02a660cc75ff333 not found"
     ]
    }
   ],
   "source": [
    "model=build_model()"
   ]
  },
  {
   "cell_type": "code",
   "execution_count": null,
   "metadata": {},
   "outputs": [
    {
     "name": "stdout",
     "output_type": "stream",
     "text": [
      "Model: \"graph_neuralnetwork\"\n",
      "_________________________________________________________________\n",
      " Layer (type)                Output Shape              Param #   \n",
      "=================================================================\n",
      " input_2 (InputLayer)        [(None, 9, 12)]           0         \n",
      "                                                                 \n",
      " flatten (Flatten)           (None, 108)               0         \n",
      "                                                                 \n",
      " gcn (GCN)                   (None, 108)               34992     \n",
      "                                                                 \n",
      " graph_layer1 (Activation)   (None, 108)               0         \n",
      "                                                                 \n",
      " gcn_1 (GCN)                 (None, 108)               34992     \n",
      "                                                                 \n",
      " graph_layer2 (Activation)   (None, 108)               0         \n",
      "                                                                 \n",
      " batch_normalization (BatchN  (None, 108)              432       \n",
      " ormalization)                                                   \n",
      "                                                                 \n",
      " dense1 (Dense)              (None, 32)                3488      \n",
      "                                                                 \n",
      " out_layer (Dense)           (None, 7)                 231       \n",
      "                                                                 \n",
      "=================================================================\n",
      "Total params: 74,135\n",
      "Trainable params: 73,919\n",
      "Non-trainable params: 216\n",
      "_________________________________________________________________\n"
     ]
    }
   ],
   "source": [
    "model.summary()"
   ]
  },
  {
   "cell_type": "code",
   "execution_count": null,
   "metadata": {},
   "outputs": [],
   "source": [
    "callback = tf.keras.callbacks.EarlyStopping(monitor='loss', patience=10)"
   ]
  },
  {
   "cell_type": "code",
   "execution_count": null,
   "metadata": {},
   "outputs": [],
   "source": [
    "# cp_callback = tf.keras.callbacks.ModelCheckpoint(filepath=\"mode/base_model\",\n",
    "#                                                  save_weights_only=True,\n",
    "#                                                  verbose=1)"
   ]
  },
  {
   "cell_type": "code",
   "execution_count": null,
   "metadata": {},
   "outputs": [
    {
     "name": "stdout",
     "output_type": "stream",
     "text": [
      "WARNING:tensorflow:Model failed to serialize as JSON. Ignoring... \n",
      "Layer GCN has arguments ['self', 'inp_shape', 'out_shape', 'h', 'w', 'near']\n",
      "in `__init__` and therefore must override `get_config()`.\n",
      "\n",
      "Example:\n",
      "\n",
      "class CustomLayer(keras.layers.Layer):\n",
      "    def __init__(self, arg1, arg2):\n",
      "        super().__init__()\n",
      "        self.arg1 = arg1\n",
      "        self.arg2 = arg2\n",
      "\n",
      "    def get_config(self):\n",
      "        config = super().get_config()\n",
      "        config.update({\n",
      "            \"arg1\": self.arg1,\n",
      "            \"arg2\": self.arg2,\n",
      "        })\n",
      "        return config\n",
      "Epoch 1/150\n",
      "(10, 108)\n",
      "(10, 108)\n",
      "(10, 108)\n",
      "(10, 108)\n"
     ]
    },
    {
     "name": "stderr",
     "output_type": "stream",
     "text": [
      "2022-06-26 21:58:17.807976: W tensorflow/core/platform/profile_utils/cpu_utils.cc:128] Failed to get CPU frequency: 0 Hz\n",
      "2022-06-26 21:58:17.983518: I tensorflow/core/grappler/optimizers/custom_graph_optimizer_registry.cc:113] Plugin optimizer for device_type GPU is enabled.\n"
     ]
    },
    {
     "name": "stdout",
     "output_type": "stream",
     "text": [
      "(10, 108)\n",
      "(10, 108)\n",
      "42/42 - 1s - loss: 2.0358 - accuracy: 0.1762 - val_loss: 25.1917 - val_accuracy: 0.1429 - 872ms/epoch - 21ms/step\n",
      "Epoch 2/150\n"
     ]
    },
    {
     "name": "stderr",
     "output_type": "stream",
     "text": [
      "2022-06-26 21:58:18.569194: I tensorflow/core/grappler/optimizers/custom_graph_optimizer_registry.cc:113] Plugin optimizer for device_type GPU is enabled.\n"
     ]
    },
    {
     "name": "stdout",
     "output_type": "stream",
     "text": [
      "42/42 - 0s - loss: 1.9269 - accuracy: 0.1905 - val_loss: 2.8952 - val_accuracy: 0.2286 - 353ms/epoch - 8ms/step\n",
      "Epoch 3/150\n",
      "42/42 - 0s - loss: 1.8775 - accuracy: 0.2405 - val_loss: 2.5265 - val_accuracy: 0.1000 - 355ms/epoch - 8ms/step\n",
      "Epoch 4/150\n",
      "42/42 - 0s - loss: 1.8484 - accuracy: 0.2690 - val_loss: 1.8844 - val_accuracy: 0.1714 - 322ms/epoch - 8ms/step\n",
      "Epoch 5/150\n",
      "42/42 - 0s - loss: 1.8262 - accuracy: 0.2143 - val_loss: 3.4422 - val_accuracy: 0.1429 - 392ms/epoch - 9ms/step\n",
      "Epoch 6/150\n",
      "42/42 - 0s - loss: 1.7972 - accuracy: 0.2167 - val_loss: 5.4988 - val_accuracy: 0.1429 - 317ms/epoch - 8ms/step\n",
      "Epoch 7/150\n",
      "42/42 - 0s - loss: 1.7776 - accuracy: 0.2310 - val_loss: 1.9551 - val_accuracy: 0.1429 - 316ms/epoch - 8ms/step\n",
      "Epoch 8/150\n",
      "42/42 - 0s - loss: 1.8169 - accuracy: 0.2524 - val_loss: 2.1486 - val_accuracy: 0.1500 - 315ms/epoch - 7ms/step\n",
      "Epoch 9/150\n",
      "42/42 - 0s - loss: 1.7873 - accuracy: 0.2405 - val_loss: 2.6139 - val_accuracy: 0.1571 - 313ms/epoch - 7ms/step\n",
      "Epoch 10/150\n",
      "42/42 - 0s - loss: 1.7643 - accuracy: 0.2429 - val_loss: 2.1261 - val_accuracy: 0.1786 - 319ms/epoch - 8ms/step\n",
      "Epoch 11/150\n",
      "42/42 - 0s - loss: 1.8297 - accuracy: 0.2071 - val_loss: 8.7367 - val_accuracy: 0.1429 - 336ms/epoch - 8ms/step\n",
      "Epoch 12/150\n",
      "42/42 - 0s - loss: 1.9109 - accuracy: 0.2071 - val_loss: 3.6452 - val_accuracy: 0.1429 - 311ms/epoch - 7ms/step\n",
      "Epoch 13/150\n",
      "42/42 - 0s - loss: 1.9597 - accuracy: 0.2167 - val_loss: 26.0132 - val_accuracy: 0.1429 - 323ms/epoch - 8ms/step\n",
      "Epoch 14/150\n",
      "42/42 - 0s - loss: 1.8767 - accuracy: 0.2286 - val_loss: 8.5610 - val_accuracy: 0.1429 - 317ms/epoch - 8ms/step\n",
      "Epoch 15/150\n",
      "42/42 - 0s - loss: 1.8526 - accuracy: 0.2476 - val_loss: 2.5257 - val_accuracy: 0.1429 - 318ms/epoch - 8ms/step\n",
      "Epoch 16/150\n",
      "42/42 - 0s - loss: 1.8444 - accuracy: 0.2238 - val_loss: 1.9224 - val_accuracy: 0.2143 - 321ms/epoch - 8ms/step\n",
      "Epoch 17/150\n",
      "42/42 - 0s - loss: 1.8329 - accuracy: 0.2643 - val_loss: 4.9596 - val_accuracy: 0.1429 - 313ms/epoch - 7ms/step\n",
      "Epoch 18/150\n",
      "42/42 - 0s - loss: 1.8101 - accuracy: 0.2833 - val_loss: 22784.5957 - val_accuracy: 0.1000 - 318ms/epoch - 8ms/step\n",
      "Epoch 19/150\n",
      "42/42 - 0s - loss: 1.8410 - accuracy: 0.2500 - val_loss: 2.4834 - val_accuracy: 0.1429 - 317ms/epoch - 8ms/step\n",
      "Epoch 20/150\n",
      "42/42 - 0s - loss: 1.8122 - accuracy: 0.2619 - val_loss: 1.8494 - val_accuracy: 0.1929 - 319ms/epoch - 8ms/step\n",
      "(None, 108)\n",
      "(None, 108)\n",
      "(None, 108)\n",
      "(None, 108)\n",
      "(None, 108)\n",
      "(None, 108)\n",
      "(None, 108)\n",
      "(None, 108)\n",
      "(None, 108)\n",
      "(None, 108)\n"
     ]
    },
    {
     "name": "stderr",
     "output_type": "stream",
     "text": [
      "2022-06-26 21:58:25.092529: W tensorflow/python/util/util.cc:368] Sets are not currently considered sequences, but this may change in the future, so consider avoiding using them.\n"
     ]
    },
    {
     "name": "stdout",
     "output_type": "stream",
     "text": [
      "INFO:tensorflow:Assets written to: /var/folders/v9/13sg2_p569zdm3chj4w3dmr00000gn/T/tmpvk06le_6/model/data/model/assets\n"
     ]
    }
   ],
   "source": [
    "# with mlflow.start_run(nested=true):\n",
    "history = model.fit(x1,y1, batch_size=bs, epochs=epochs, callbacks=[callback],validation_data=(x2,y2),verbose=2)\n"
   ]
  },
  {
   "cell_type": "code",
   "execution_count": null,
   "metadata": {},
   "outputs": [
    {
     "name": "stdout",
     "output_type": "stream",
     "text": [
      "(None, 108)\n",
      "(None, 108)\n",
      "(None, 108)\n",
      "(None, 108)\n",
      "(None, 108)\n",
      "(None, 108)\n",
      "(None, 108)\n",
      "(None, 108)\n",
      "(None, 108)\n",
      "(None, 108)\n",
      "INFO:tensorflow:Assets written to: /Users/ariqrahman/Desktop/Mac-Neural-Network-Project/model/base_model/gcn1/assets\n"
     ]
    }
   ],
   "source": [
    "model.save('/Users/ariqrahman/Desktop/Mac-Neural-Network-Project/model/base_model/gcn1')"
   ]
  },
  {
   "cell_type": "code",
   "execution_count": 186,
   "metadata": {},
   "outputs": [],
   "source": [
    "model1=tf.keras.models.load_model(\"model/base_model/gcn1\")"
   ]
  },
  {
   "cell_type": "code",
   "execution_count": 187,
   "metadata": {},
   "outputs": [
    {
     "name": "stdout",
     "output_type": "stream",
     "text": [
      "Model: \"graph_neuralnetwork\"\n",
      "_________________________________________________________________\n",
      " Layer (type)                Output Shape              Param #   \n",
      "=================================================================\n",
      " input_2 (InputLayer)        [(None, 9, 12)]           0         \n",
      "                                                                 \n",
      " flatten (Flatten)           (None, 108)               0         \n",
      "                                                                 \n",
      " gcn (GCN)                   (None, 108)               34992     \n",
      "                                                                 \n",
      " graph_layer1 (Activation)   (None, 108)               0         \n",
      "                                                                 \n",
      " gcn_1 (GCN)                 (None, 108)               34992     \n",
      "                                                                 \n",
      " graph_layer2 (Activation)   (None, 108)               0         \n",
      "                                                                 \n",
      " batch_normalization (BatchN  (None, 108)              432       \n",
      " ormalization)                                                   \n",
      "                                                                 \n",
      " dense1 (Dense)              (None, 32)                3488      \n",
      "                                                                 \n",
      " out_layer (Dense)           (None, 7)                 231       \n",
      "                                                                 \n",
      "=================================================================\n",
      "Total params: 74,135\n",
      "Trainable params: 73,919\n",
      "Non-trainable params: 216\n",
      "_________________________________________________________________\n"
     ]
    }
   ],
   "source": [
    "model1.summary()"
   ]
  },
  {
   "cell_type": "code",
   "execution_count": null,
   "metadata": {},
   "outputs": [],
   "source": []
  }
 ],
 "metadata": {
  "interpreter": {
   "hash": "5ccd6447379f5e6f7b170904fd40d7e61f0af72b45d9bab3c3472de833a965dd"
  },
  "kernelspec": {
   "display_name": "Python 3.9.7 ('base')",
   "language": "python",
   "name": "python3"
  },
  "language_info": {
   "codemirror_mode": {
    "name": "ipython",
    "version": 3
   },
   "file_extension": ".py",
   "mimetype": "text/x-python",
   "name": "python",
   "nbconvert_exporter": "python",
   "pygments_lexer": "ipython3",
   "version": "3.9.7"
  },
  "orig_nbformat": 4
 },
 "nbformat": 4,
 "nbformat_minor": 2
}
