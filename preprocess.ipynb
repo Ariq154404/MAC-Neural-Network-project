{
 "cells": [
  {
   "cell_type": "code",
   "execution_count": 127,
   "metadata": {},
   "outputs": [],
   "source": [
    "import tensorflow as tf\n",
    "import numpy as np\n",
    "import pandas as pd\n",
    "import math as mt\n",
    "import os\n",
    "import pickle"
   ]
  },
  {
   "cell_type": "code",
   "execution_count": null,
   "metadata": {},
   "outputs": [],
   "source": []
  },
  {
   "cell_type": "code",
   "execution_count": 128,
   "metadata": {},
   "outputs": [],
   "source": [
    "AUTOTUNE = tf.data.experimental.AUTOTUNE"
   ]
  },
  {
   "cell_type": "code",
   "execution_count": 129,
   "metadata": {},
   "outputs": [
    {
     "data": {
      "text/html": [
       "<div>\n",
       "<style scoped>\n",
       "    .dataframe tbody tr th:only-of-type {\n",
       "        vertical-align: middle;\n",
       "    }\n",
       "\n",
       "    .dataframe tbody tr th {\n",
       "        vertical-align: top;\n",
       "    }\n",
       "\n",
       "    .dataframe thead th {\n",
       "        text-align: right;\n",
       "    }\n",
       "</style>\n",
       "<table border=\"1\" class=\"dataframe\">\n",
       "  <thead>\n",
       "    <tr style=\"text-align: right;\">\n",
       "      <th></th>\n",
       "      <th>image</th>\n",
       "      <th>class</th>\n",
       "      <th>is_valid</th>\n",
       "    </tr>\n",
       "  </thead>\n",
       "  <tbody>\n",
       "    <tr>\n",
       "      <th>0</th>\n",
       "      <td>ISIC_0024310_0</td>\n",
       "      <td>0</td>\n",
       "      <td>False</td>\n",
       "    </tr>\n",
       "    <tr>\n",
       "      <th>1</th>\n",
       "      <td>ISIC_0024310_1</td>\n",
       "      <td>0</td>\n",
       "      <td>False</td>\n",
       "    </tr>\n",
       "    <tr>\n",
       "      <th>2</th>\n",
       "      <td>ISIC_0024310_2</td>\n",
       "      <td>0</td>\n",
       "      <td>False</td>\n",
       "    </tr>\n",
       "    <tr>\n",
       "      <th>3</th>\n",
       "      <td>ISIC_0024310_3</td>\n",
       "      <td>0</td>\n",
       "      <td>False</td>\n",
       "    </tr>\n",
       "    <tr>\n",
       "      <th>4</th>\n",
       "      <td>ISIC_0024310_4</td>\n",
       "      <td>0</td>\n",
       "      <td>False</td>\n",
       "    </tr>\n",
       "  </tbody>\n",
       "</table>\n",
       "</div>"
      ],
      "text/plain": [
       "            image  class  is_valid\n",
       "0  ISIC_0024310_0      0     False\n",
       "1  ISIC_0024310_1      0     False\n",
       "2  ISIC_0024310_2      0     False\n",
       "3  ISIC_0024310_3      0     False\n",
       "4  ISIC_0024310_4      0     False"
      ]
     },
     "execution_count": 129,
     "metadata": {},
     "output_type": "execute_result"
    }
   ],
   "source": [
    "df=pd.read_csv(\"data/labl.csv\")\n",
    "df.head()\n"
   ]
  },
  {
   "cell_type": "code",
   "execution_count": 130,
   "metadata": {},
   "outputs": [],
   "source": [
    "batch_size=10"
   ]
  },
  {
   "cell_type": "code",
   "execution_count": 131,
   "metadata": {},
   "outputs": [],
   "source": [
    "def train_valid_test(pathcsv,trainprop,validprop,testprop,bs=batch_size):\n",
    "    df=pd.read_csv(pathcsv)\n",
    "    df=df.sample(frac=1).reset_index()\n",
    "    x=df[\"is_valid\"].value_counts()\n",
    "    tot={i:[] for i in range(7)}\n",
    "    x_train=[]\n",
    "    x_test=[]\n",
    "    x_valid=[]\n",
    "    y_train=[]\n",
    "    y_valid=[]\n",
    "    y_test=[]\n",
    "    print((x[0]//7))\n",
    "    train_amnt=((int(trainprop*(x[0]//7))//bs)*bs)\n",
    "    print(train_amnt)\n",
    "    valid_amnt=int((int(((x[0]//7)-train_amnt)*validprop)//bs)*bs)\n",
    "    test_amnt=int((int(x[1]*testprop)//bs)*bs)\n",
    "    print(test_amnt,int(x[1]*testprop))\n",
    "    for i,row in df.iterrows():\n",
    "        if row[\"is_valid\"]==False:\n",
    "            tot[int(row[\"class\"])].append(row[\"image\"]+\".jpg\")\n",
    "        elif test_amnt>0:\n",
    "            x_test.append(row[\"image\"]+\".jpg\")\n",
    "            y_test.append(int(row[\"class\"]))\n",
    "            test_amnt-=1\n",
    "        \n",
    "    \n",
    "    for v in tot:\n",
    "        x_train+=(tot[v][:train_amnt])\n",
    "        y_train+=[v]*train_amnt\n",
    "        x_valid+=(tot[v][train_amnt:train_amnt+valid_amnt])\n",
    "        y_valid+=[v]*valid_amnt\n",
    "    return x_train,y_train,x_valid,y_valid,x_test,y_test"
   ]
  },
  {
   "cell_type": "code",
   "execution_count": 133,
   "metadata": {},
   "outputs": [
    {
     "name": "stdout",
     "output_type": "stream",
     "text": [
      "6035\n",
      "4520\n",
      "750 758\n"
     ]
    }
   ],
   "source": [
    "pathcsv = \"data/labl.csv\"\n",
    "x_train,y_train,x_valid,y_valid,x_test,y_test=train_valid_test(pathcsv,0.75,0.75,0.76)"
   ]
  },
  {
   "cell_type": "code",
   "execution_count": 134,
   "metadata": {},
   "outputs": [
    {
     "name": "stdout",
     "output_type": "stream",
     "text": [
      "31640 31640 7910 7910 750 750\n"
     ]
    }
   ],
   "source": [
    "print(len(x_train),len(y_train),len(x_valid),len(y_valid),len(x_test),len(y_test))"
   ]
  },
  {
   "cell_type": "code",
   "execution_count": 135,
   "metadata": {},
   "outputs": [
    {
     "name": "stdout",
     "output_type": "stream",
     "text": [
      "['ISIC_0026230.jpg', 'ISIC_0027514.jpg', 'ISIC_0025842.jpg', 'ISIC_0025965.jpg', 'ISIC_0029109.jpg', 'ISIC_0027687.jpg', 'ISIC_0025465.jpg', 'ISIC_0032533.jpg', 'ISIC_0024940.jpg', 'ISIC_0031389.jpg', 'ISIC_0033409.jpg', 'ISIC_0033843.jpg', 'ISIC_0032520.jpg', 'ISIC_0025921.jpg', 'ISIC_0027086.jpg', 'ISIC_0028011.jpg', 'ISIC_0025610.jpg', 'ISIC_0025504.jpg', 'ISIC_0028392.jpg', 'ISIC_0033238.jpg', 'ISIC_0033537.jpg', 'ISIC_0025972.jpg', 'ISIC_0032642.jpg', 'ISIC_0032062.jpg', 'ISIC_0026420.jpg', 'ISIC_0027772.jpg', 'ISIC_0033544.jpg', 'ISIC_0031464.jpg', 'ISIC_0029978.jpg', 'ISIC_0030474.jpg', 'ISIC_0030197.jpg', 'ISIC_0033950.jpg', 'ISIC_0030780.jpg', 'ISIC_0031933.jpg', 'ISIC_0029034.jpg', 'ISIC_0028003.jpg', 'ISIC_0027551.jpg', 'ISIC_0026291.jpg', 'ISIC_0024920.jpg', 'ISIC_0029025.jpg', 'ISIC_0032931.jpg', 'ISIC_0027250.jpg', 'ISIC_0029981.jpg', 'ISIC_0025276.jpg', 'ISIC_0032448.jpg', 'ISIC_0026412.jpg', 'ISIC_0029865.jpg', 'ISIC_0031450.jpg', 'ISIC_0031046.jpg', 'ISIC_0028131.jpg', 'ISIC_0030488.jpg', 'ISIC_0030552.jpg', 'ISIC_0025525.jpg', 'ISIC_0033907.jpg', 'ISIC_0027453.jpg', 'ISIC_0030293.jpg', 'ISIC_0031055.jpg', 'ISIC_0034052.jpg', 'ISIC_0032160.jpg', 'ISIC_0027196.jpg', 'ISIC_0025046.jpg', 'ISIC_0031111.jpg', 'ISIC_0025817.jpg', 'ISIC_0031286.jpg', 'ISIC_0025699.jpg', 'ISIC_0032073.jpg', 'ISIC_0029041.jpg', 'ISIC_0032913.jpg', 'ISIC_0032382.jpg', 'ISIC_0029881.jpg', 'ISIC_0031704.jpg', 'ISIC_0025644.jpg', 'ISIC_0030380.jpg', 'ISIC_0024726.jpg', 'ISIC_0034207.jpg', 'ISIC_0028555.jpg', 'ISIC_0027705.jpg', 'ISIC_0030890.jpg', 'ISIC_0033450.jpg', 'ISIC_0028406.jpg', 'ISIC_0029945.jpg', 'ISIC_0028289.jpg', 'ISIC_0030994.jpg', 'ISIC_0026012.jpg', 'ISIC_0025588.jpg', 'ISIC_0031213.jpg', 'ISIC_0028332.jpg', 'ISIC_0026739.jpg', 'ISIC_0033700.jpg', 'ISIC_0030331.jpg', 'ISIC_0031586.jpg', 'ISIC_0031057.jpg', 'ISIC_0026640.jpg', 'ISIC_0026855.jpg', 'ISIC_0032560.jpg', 'ISIC_0027273.jpg', 'ISIC_0030657.jpg', 'ISIC_0032349.jpg', 'ISIC_0027010.jpg', 'ISIC_0031742.jpg', 'ISIC_0024456.jpg', 'ISIC_0029218.jpg', 'ISIC_0032104.jpg', 'ISIC_0028847.jpg', 'ISIC_0028923.jpg', 'ISIC_0031208.jpg', 'ISIC_0027019.jpg', 'ISIC_0034279.jpg', 'ISIC_0030084.jpg', 'ISIC_0027787.jpg', 'ISIC_0025248.jpg', 'ISIC_0025852.jpg', 'ISIC_0029330.jpg', 'ISIC_0029365.jpg', 'ISIC_0025758.jpg', 'ISIC_0032271.jpg', 'ISIC_0026067.jpg', 'ISIC_0024906.jpg', 'ISIC_0026247.jpg', 'ISIC_0030766.jpg', 'ISIC_0025318.jpg', 'ISIC_0033249.jpg', 'ISIC_0032548.jpg', 'ISIC_0031167.jpg', 'ISIC_0029154.jpg', 'ISIC_0033294.jpg', 'ISIC_0030500.jpg', 'ISIC_0026008.jpg', 'ISIC_0032172.jpg', 'ISIC_0032307.jpg', 'ISIC_0030579.jpg', 'ISIC_0029970.jpg', 'ISIC_0029098.jpg', 'ISIC_0028599.jpg', 'ISIC_0027448.jpg', 'ISIC_0032431.jpg', 'ISIC_0029880.jpg', 'ISIC_0032957.jpg', 'ISIC_0026612.jpg', 'ISIC_0027519.jpg', 'ISIC_0028787.jpg', 'ISIC_0029303.jpg', 'ISIC_0027275.jpg', 'ISIC_0031314.jpg', 'ISIC_0033453.jpg', 'ISIC_0030927.jpg', 'ISIC_0029254.jpg', 'ISIC_0032745.jpg', 'ISIC_0025897.jpg', 'ISIC_0025865.jpg', 'ISIC_0024689.jpg', 'ISIC_0027309.jpg', 'ISIC_0026114.jpg', 'ISIC_0028772.jpg', 'ISIC_0027237.jpg', 'ISIC_0033128.jpg', 'ISIC_0026190.jpg', 'ISIC_0034294.jpg', 'ISIC_0032542.jpg', 'ISIC_0029255.jpg', 'ISIC_0030532.jpg', 'ISIC_0028558.jpg', 'ISIC_0033994.jpg', 'ISIC_0029278.jpg', 'ISIC_0031406.jpg', 'ISIC_0030968.jpg', 'ISIC_0030871.jpg', 'ISIC_0032984.jpg', 'ISIC_0027686.jpg', 'ISIC_0030338.jpg', 'ISIC_0030623.jpg', 'ISIC_0030027.jpg', 'ISIC_0031494.jpg', 'ISIC_0024772.jpg', 'ISIC_0029530.jpg', 'ISIC_0029394.jpg', 'ISIC_0026904.jpg', 'ISIC_0025995.jpg', 'ISIC_0029859.jpg', 'ISIC_0026609.jpg', 'ISIC_0026273.jpg', 'ISIC_0033368.jpg', 'ISIC_0032347.jpg', 'ISIC_0032912.jpg', 'ISIC_0027106.jpg', 'ISIC_0027254.jpg', 'ISIC_0033050.jpg', 'ISIC_0024931.jpg', 'ISIC_0029496.jpg', 'ISIC_0028809.jpg', 'ISIC_0034035.jpg', 'ISIC_0027298.jpg', 'ISIC_0025305.jpg', 'ISIC_0031865.jpg', 'ISIC_0027722.jpg', 'ISIC_0032631.jpg', 'ISIC_0034205.jpg', 'ISIC_0024355.jpg', 'ISIC_0034312.jpg', 'ISIC_0029436.jpg', 'ISIC_0026668.jpg', 'ISIC_0033265.jpg', 'ISIC_0028250.jpg', 'ISIC_0030050.jpg', 'ISIC_0030565.jpg', 'ISIC_0029144.jpg', 'ISIC_0028790.jpg', 'ISIC_0033963.jpg', 'ISIC_0030583.jpg', 'ISIC_0026807.jpg', 'ISIC_0025983.jpg', 'ISIC_0030790.jpg', 'ISIC_0026956.jpg', 'ISIC_0029925.jpg', 'ISIC_0031407.jpg', 'ISIC_0030598.jpg', 'ISIC_0028270.jpg', 'ISIC_0031132.jpg', 'ISIC_0032085.jpg', 'ISIC_0026459.jpg', 'ISIC_0032616.jpg', 'ISIC_0031950.jpg', 'ISIC_0033709.jpg', 'ISIC_0028462.jpg', 'ISIC_0025941.jpg', 'ISIC_0031338.jpg', 'ISIC_0032310.jpg', 'ISIC_0032684.jpg', 'ISIC_0025512.jpg', 'ISIC_0032195.jpg', 'ISIC_0026227.jpg', 'ISIC_0033618.jpg', 'ISIC_0032476.jpg', 'ISIC_0027561.jpg', 'ISIC_0032558.jpg', 'ISIC_0032945.jpg', 'ISIC_0025546.jpg', 'ISIC_0029759.jpg', 'ISIC_0026436.jpg', 'ISIC_0033626.jpg', 'ISIC_0024433.jpg', 'ISIC_0027457.jpg', 'ISIC_0033005.jpg', 'ISIC_0028508.jpg', 'ISIC_0033313.jpg', 'ISIC_0027710.jpg', 'ISIC_0026331.jpg', 'ISIC_0032897.jpg', 'ISIC_0027097.jpg', 'ISIC_0031357.jpg', 'ISIC_0031599.jpg', 'ISIC_0030767.jpg', 'ISIC_0026866.jpg', 'ISIC_0026274.jpg', 'ISIC_0032605.jpg', 'ISIC_0031342.jpg', 'ISIC_0026897.jpg', 'ISIC_0031782.jpg', 'ISIC_0028637.jpg', 'ISIC_0025908.jpg', 'ISIC_0032305.jpg', 'ISIC_0026825.jpg', 'ISIC_0025623.jpg', 'ISIC_0024706.jpg', 'ISIC_0030056.jpg', 'ISIC_0024971.jpg', 'ISIC_0030841.jpg', 'ISIC_0032749.jpg', 'ISIC_0028901.jpg', 'ISIC_0026297.jpg', 'ISIC_0030729.jpg', 'ISIC_0031838.jpg', 'ISIC_0031198.jpg', 'ISIC_0027720.jpg', 'ISIC_0027922.jpg', 'ISIC_0032231.jpg', 'ISIC_0024371.jpg', 'ISIC_0032019.jpg', 'ISIC_0029853.jpg', 'ISIC_0029874.jpg', 'ISIC_0028076.jpg', 'ISIC_0032739.jpg', 'ISIC_0030320.jpg', 'ISIC_0025364.jpg', 'ISIC_0028549.jpg', 'ISIC_0028753.jpg', 'ISIC_0028276.jpg', 'ISIC_0028894.jpg', 'ISIC_0026376.jpg', 'ISIC_0028919.jpg', 'ISIC_0027449.jpg', 'ISIC_0033241.jpg', 'ISIC_0030943.jpg', 'ISIC_0030988.jpg', 'ISIC_0024985.jpg', 'ISIC_0032786.jpg', 'ISIC_0026212.jpg', 'ISIC_0033187.jpg', 'ISIC_0026088.jpg', 'ISIC_0033961.jpg', 'ISIC_0026264.jpg', 'ISIC_0029785.jpg', 'ISIC_0027411.jpg', 'ISIC_0029960.jpg', 'ISIC_0028175.jpg', 'ISIC_0026238.jpg', 'ISIC_0031134.jpg', 'ISIC_0028553.jpg', 'ISIC_0028681.jpg', 'ISIC_0031763.jpg', 'ISIC_0024651.jpg', 'ISIC_0029712.jpg', 'ISIC_0024541.jpg', 'ISIC_0027399.jpg', 'ISIC_0034263.jpg', 'ISIC_0031337.jpg', 'ISIC_0033052.jpg', 'ISIC_0025726.jpg', 'ISIC_0027020.jpg', 'ISIC_0028528.jpg', 'ISIC_0031638.jpg', 'ISIC_0032166.jpg', 'ISIC_0026139.jpg', 'ISIC_0031148.jpg', 'ISIC_0028892.jpg', 'ISIC_0027096.jpg', 'ISIC_0029885.jpg', 'ISIC_0033824.jpg', 'ISIC_0026463.jpg', 'ISIC_0028703.jpg', 'ISIC_0033778.jpg', 'ISIC_0027420.jpg', 'ISIC_0034139.jpg', 'ISIC_0025085.jpg', 'ISIC_0030521.jpg', 'ISIC_0030005.jpg', 'ISIC_0033307.jpg', 'ISIC_0033359.jpg', 'ISIC_0031020.jpg', 'ISIC_0027596.jpg', 'ISIC_0030981.jpg', 'ISIC_0029779.jpg', 'ISIC_0031803.jpg', 'ISIC_0024892.jpg', 'ISIC_0029491.jpg', 'ISIC_0028033.jpg', 'ISIC_0025728.jpg', 'ISIC_0034029.jpg', 'ISIC_0026077.jpg', 'ISIC_0031835.jpg', 'ISIC_0033232.jpg', 'ISIC_0025302.jpg', 'ISIC_0029984.jpg', 'ISIC_0030738.jpg', 'ISIC_0030420.jpg', 'ISIC_0026122.jpg', 'ISIC_0028784.jpg', 'ISIC_0027295.jpg', 'ISIC_0028098.jpg', 'ISIC_0026883.jpg', 'ISIC_0030572.jpg', 'ISIC_0025647.jpg', 'ISIC_0030377.jpg', 'ISIC_0031491.jpg', 'ISIC_0027153.jpg', 'ISIC_0027209.jpg', 'ISIC_0031009.jpg', 'ISIC_0025444.jpg', 'ISIC_0026659.jpg', 'ISIC_0026359.jpg', 'ISIC_0029417.jpg', 'ISIC_0029206.jpg', 'ISIC_0028464.jpg', 'ISIC_0029289.jpg', 'ISIC_0031635.jpg', 'ISIC_0033947.jpg', 'ISIC_0031350.jpg', 'ISIC_0030838.jpg', 'ISIC_0028966.jpg', 'ISIC_0025759.jpg', 'ISIC_0032851.jpg', 'ISIC_0024358.jpg', 'ISIC_0028858.jpg', 'ISIC_0026245.jpg', 'ISIC_0031161.jpg', 'ISIC_0030956.jpg', 'ISIC_0031802.jpg', 'ISIC_0033896.jpg', 'ISIC_0030953.jpg', 'ISIC_0026693.jpg', 'ISIC_0029947.jpg', 'ISIC_0025925.jpg', 'ISIC_0027896.jpg', 'ISIC_0032673.jpg', 'ISIC_0026884.jpg', 'ISIC_0033837.jpg', 'ISIC_0028773.jpg', 'ISIC_0024381.jpg', 'ISIC_0029848.jpg', 'ISIC_0030809.jpg', 'ISIC_0025235.jpg', 'ISIC_0031179.jpg', 'ISIC_0032449.jpg', 'ISIC_0026611.jpg', 'ISIC_0034216.jpg', 'ISIC_0024655.jpg', 'ISIC_0031264.jpg', 'ISIC_0031816.jpg', 'ISIC_0027057.jpg', 'ISIC_0027234.jpg', 'ISIC_0032983.jpg', 'ISIC_0031431.jpg', 'ISIC_0026319.jpg', 'ISIC_0024379.jpg', 'ISIC_0032644.jpg', 'ISIC_0032290.jpg', 'ISIC_0025376.jpg', 'ISIC_0034060.jpg', 'ISIC_0032619.jpg', 'ISIC_0026960.jpg', 'ISIC_0030563.jpg', 'ISIC_0028963.jpg', 'ISIC_0030068.jpg', 'ISIC_0028826.jpg', 'ISIC_0025263.jpg', 'ISIC_0033572.jpg', 'ISIC_0033718.jpg', 'ISIC_0031788.jpg', 'ISIC_0025725.jpg', 'ISIC_0027619.jpg', 'ISIC_0026644.jpg', 'ISIC_0026753.jpg', 'ISIC_0027212.jpg', 'ISIC_0033361.jpg', 'ISIC_0027971.jpg', 'ISIC_0034278.jpg', 'ISIC_0026990.jpg', 'ISIC_0029406.jpg', 'ISIC_0028355.jpg', 'ISIC_0029490.jpg', 'ISIC_0024567.jpg', 'ISIC_0024716.jpg', 'ISIC_0024457.jpg', 'ISIC_0027931.jpg', 'ISIC_0027204.jpg', 'ISIC_0028978.jpg', 'ISIC_0029846.jpg', 'ISIC_0033392.jpg', 'ISIC_0033508.jpg', 'ISIC_0029175.jpg', 'ISIC_0031855.jpg', 'ISIC_0033242.jpg', 'ISIC_0032394.jpg', 'ISIC_0030365.jpg', 'ISIC_0029523.jpg', 'ISIC_0031535.jpg', 'ISIC_0029843.jpg', 'ISIC_0029521.jpg', 'ISIC_0030970.jpg', 'ISIC_0029644.jpg', 'ISIC_0031324.jpg', 'ISIC_0026946.jpg', 'ISIC_0030965.jpg', 'ISIC_0027385.jpg', 'ISIC_0028976.jpg', 'ISIC_0028167.jpg', 'ISIC_0024883.jpg', 'ISIC_0032447.jpg', 'ISIC_0025366.jpg', 'ISIC_0028434.jpg', 'ISIC_0026486.jpg', 'ISIC_0024929.jpg', 'ISIC_0032509.jpg', 'ISIC_0026725.jpg', 'ISIC_0030718.jpg', 'ISIC_0031512.jpg', 'ISIC_0026105.jpg', 'ISIC_0031065.jpg', 'ISIC_0026672.jpg', 'ISIC_0026772.jpg', 'ISIC_0030807.jpg', 'ISIC_0028547.jpg', 'ISIC_0026820.jpg', 'ISIC_0028341.jpg', 'ISIC_0031412.jpg', 'ISIC_0031028.jpg', 'ISIC_0028675.jpg', 'ISIC_0030141.jpg', 'ISIC_0030348.jpg', 'ISIC_0033908.jpg', 'ISIC_0027795.jpg', 'ISIC_0030292.jpg', 'ISIC_0031351.jpg', 'ISIC_0027936.jpg', 'ISIC_0025252.jpg', 'ISIC_0033987.jpg', 'ISIC_0032676.jpg', 'ISIC_0031986.jpg', 'ISIC_0028234.jpg', 'ISIC_0027758.jpg', 'ISIC_0031660.jpg', 'ISIC_0028762.jpg', 'ISIC_0024359.jpg', 'ISIC_0028172.jpg', 'ISIC_0033119.jpg', 'ISIC_0026844.jpg', 'ISIC_0027025.jpg', 'ISIC_0027635.jpg', 'ISIC_0025230.jpg', 'ISIC_0027489.jpg', 'ISIC_0026423.jpg', 'ISIC_0031774.jpg', 'ISIC_0029313.jpg', 'ISIC_0027835.jpg', 'ISIC_0031095.jpg', 'ISIC_0027530.jpg', 'ISIC_0033494.jpg', 'ISIC_0028704.jpg', 'ISIC_0028249.jpg', 'ISIC_0028849.jpg', 'ISIC_0027412.jpg', 'ISIC_0030237.jpg', 'ISIC_0032223.jpg', 'ISIC_0024778.jpg', 'ISIC_0032780.jpg', 'ISIC_0028546.jpg', 'ISIC_0025601.jpg', 'ISIC_0026912.jpg', 'ISIC_0030733.jpg', 'ISIC_0032611.jpg', 'ISIC_0027845.jpg', 'ISIC_0032622.jpg', 'ISIC_0026195.jpg', 'ISIC_0025200.jpg', 'ISIC_0029460.jpg', 'ISIC_0025902.jpg', 'ISIC_0024338.jpg', 'ISIC_0029226.jpg', 'ISIC_0029252.jpg', 'ISIC_0027875.jpg', 'ISIC_0031385.jpg', 'ISIC_0028187.jpg', 'ISIC_0027714.jpg', 'ISIC_0026030.jpg', 'ISIC_0031209.jpg', 'ISIC_0028083.jpg', 'ISIC_0028722.jpg', 'ISIC_0028957.jpg', 'ISIC_0033746.jpg', 'ISIC_0027684.jpg', 'ISIC_0028288.jpg', 'ISIC_0029607.jpg', 'ISIC_0026413.jpg', 'ISIC_0027811.jpg', 'ISIC_0029734.jpg', 'ISIC_0028945.jpg', 'ISIC_0029642.jpg', 'ISIC_0024791.jpg', 'ISIC_0030604.jpg', 'ISIC_0030655.jpg', 'ISIC_0032096.jpg', 'ISIC_0034256.jpg', 'ISIC_0030148.jpg', 'ISIC_0025148.jpg', 'ISIC_0026878.jpg', 'ISIC_0029176.jpg', 'ISIC_0029863.jpg', 'ISIC_0029618.jpg', 'ISIC_0028360.jpg', 'ISIC_0034310.jpg', 'ISIC_0030206.jpg', 'ISIC_0029555.jpg', 'ISIC_0033745.jpg', 'ISIC_0025780.jpg', 'ISIC_0029005.jpg', 'ISIC_0026549.jpg', 'ISIC_0029554.jpg', 'ISIC_0028807.jpg', 'ISIC_0027143.jpg', 'ISIC_0026106.jpg', 'ISIC_0029322.jpg', 'ISIC_0025747.jpg', 'ISIC_0031722.jpg', 'ISIC_0027938.jpg', 'ISIC_0028730.jpg', 'ISIC_0026806.jpg', 'ISIC_0032695.jpg', 'ISIC_0030308.jpg', 'ISIC_0026394.jpg', 'ISIC_0027666.jpg', 'ISIC_0032198.jpg', 'ISIC_0026926.jpg', 'ISIC_0025349.jpg', 'ISIC_0031917.jpg', 'ISIC_0032672.jpg', 'ISIC_0031523.jpg', 'ISIC_0031269.jpg', 'ISIC_0031049.jpg', 'ISIC_0025562.jpg', 'ISIC_0024793.jpg', 'ISIC_0029036.jpg', 'ISIC_0030376.jpg', 'ISIC_0033202.jpg', 'ISIC_0026979.jpg', 'ISIC_0031738.jpg', 'ISIC_0029748.jpg', 'ISIC_0026803.jpg', 'ISIC_0024943.jpg', 'ISIC_0025545.jpg', 'ISIC_0034022.jpg', 'ISIC_0026433.jpg', 'ISIC_0032596.jpg', 'ISIC_0025068.jpg', 'ISIC_0032608.jpg', 'ISIC_0027863.jpg', 'ISIC_0029669.jpg', 'ISIC_0027503.jpg', 'ISIC_0031130.jpg', 'ISIC_0025204.jpg', 'ISIC_0032395.jpg', 'ISIC_0030449.jpg', 'ISIC_0030367.jpg', 'ISIC_0028122.jpg', 'ISIC_0024801.jpg', 'ISIC_0024596.jpg', 'ISIC_0028690.jpg', 'ISIC_0024884.jpg', 'ISIC_0032299.jpg', 'ISIC_0031801.jpg', 'ISIC_0030985.jpg', 'ISIC_0024701.jpg', 'ISIC_0027443.jpg', 'ISIC_0026132.jpg', 'ISIC_0033491.jpg', 'ISIC_0029281.jpg', 'ISIC_0025254.jpg', 'ISIC_0030218.jpg', 'ISIC_0032327.jpg', 'ISIC_0026537.jpg', 'ISIC_0032958.jpg', 'ISIC_0034283.jpg', 'ISIC_0031830.jpg', 'ISIC_0033078.jpg', 'ISIC_0032213.jpg', 'ISIC_0026648.jpg', 'ISIC_0032400.jpg', 'ISIC_0030676.jpg', 'ISIC_0032061.jpg', 'ISIC_0026992.jpg', 'ISIC_0026347.jpg', 'ISIC_0029756.jpg', 'ISIC_0026225.jpg', 'ISIC_0033245.jpg', 'ISIC_0031880.jpg', 'ISIC_0024879.jpg', 'ISIC_0034056.jpg', 'ISIC_0030618.jpg', 'ISIC_0031477.jpg', 'ISIC_0030228.jpg', 'ISIC_0027957.jpg', 'ISIC_0024820.jpg', 'ISIC_0028840.jpg', 'ISIC_0027293.jpg', 'ISIC_0028007.jpg', 'ISIC_0032277.jpg', 'ISIC_0025987.jpg', 'ISIC_0030903.jpg', 'ISIC_0029434.jpg', 'ISIC_0033748.jpg', 'ISIC_0031884.jpg', 'ISIC_0025534.jpg', 'ISIC_0027232.jpg', 'ISIC_0024537.jpg', 'ISIC_0030700.jpg', 'ISIC_0029397.jpg', 'ISIC_0025224.jpg', 'ISIC_0028084.jpg', 'ISIC_0026571.jpg', 'ISIC_0032747.jpg', 'ISIC_0028168.jpg', 'ISIC_0034016.jpg', 'ISIC_0028985.jpg', 'ISIC_0026520.jpg', 'ISIC_0030226.jpg', 'ISIC_0033216.jpg', 'ISIC_0033447.jpg', 'ISIC_0028313.jpg', 'ISIC_0030873.jpg', 'ISIC_0026975.jpg', 'ISIC_0031795.jpg', 'ISIC_0032036.jpg', 'ISIC_0024699.jpg', 'ISIC_0025942.jpg', 'ISIC_0030706.jpg', 'ISIC_0025487.jpg', 'ISIC_0034296.jpg', 'ISIC_0027994.jpg', 'ISIC_0024872.jpg', 'ISIC_0028842.jpg', 'ISIC_0033458.jpg', 'ISIC_0026013.jpg', 'ISIC_0030684.jpg', 'ISIC_0030335.jpg', 'ISIC_0025161.jpg', 'ISIC_0030422.jpg', 'ISIC_0024994.jpg', 'ISIC_0031726.jpg', 'ISIC_0032248.jpg', 'ISIC_0030139.jpg', 'ISIC_0033371.jpg', 'ISIC_0028035.jpg', 'ISIC_0029790.jpg', 'ISIC_0028545.jpg', 'ISIC_0026271.jpg', 'ISIC_0026546.jpg', 'ISIC_0028152.jpg', 'ISIC_0028465.jpg', 'ISIC_0024639.jpg', 'ISIC_0034301.jpg', 'ISIC_0026161.jpg', 'ISIC_0029974.jpg', 'ISIC_0032572.jpg', 'ISIC_0025267.jpg', 'ISIC_0028449.jpg', 'ISIC_0030052.jpg', 'ISIC_0026314.jpg', 'ISIC_0031991.jpg', 'ISIC_0032585.jpg', 'ISIC_0030251.jpg', 'ISIC_0030041.jpg', 'ISIC_0029310.jpg', 'ISIC_0033035.jpg', 'ISIC_0027624.jpg', 'ISIC_0025999.jpg', 'ISIC_0028647.jpg', 'ISIC_0030236.jpg', 'ISIC_0024486.jpg', 'ISIC_0024426.jpg', 'ISIC_0029751.jpg', 'ISIC_0029177.jpg', 'ISIC_0030936.jpg', 'ISIC_0027481.jpg', 'ISIC_0026443.jpg', 'ISIC_0027396.jpg', 'ISIC_0033373.jpg', 'ISIC_0027088.jpg', 'ISIC_0032675.jpg', 'ISIC_0031125.jpg', 'ISIC_0024369.jpg', 'ISIC_0026941.jpg']\n"
     ]
    }
   ],
   "source": [
    "print(x_test)"
   ]
  },
  {
   "cell_type": "code",
   "execution_count": 136,
   "metadata": {},
   "outputs": [],
   "source": [
    "def find_suitable(h,w,mxval):\n",
    "    gcd=mt.gcd(h,w)\n",
    "    val=1\n",
    "    while(val<=gcd):\n",
    "        if h%val==0 and w%val==0 and (h//val)*(w/val)<=mxval:\n",
    "            # print(val)\n",
    "            return h//val,w//val\n",
    "        val+=1"
   ]
  },
  {
   "cell_type": "code",
   "execution_count": 137,
   "metadata": {},
   "outputs": [],
   "source": [
    "rh=None\n",
    "rw=None"
   ]
  },
  {
   "cell_type": "code",
   "execution_count": 138,
   "metadata": {},
   "outputs": [],
   "source": [
    "def preprocess_image(path,mxval):\n",
    "  global rh\n",
    "  global rw\n",
    "  image = tf.io.read_file(path)\n",
    "  image = tf.image.decode_jpeg(image, channels=1)\n",
    "  sh=image.shape\n",
    "  if rh==None and rw==None:\n",
    "    rh,rw=find_suitable(sh[0],sh[1],mxval)\n",
    "  image = tf.image.resize(image, [rh,rw])\n",
    "  image=tf.squeeze(image)\n",
    "  sh=image.shape\n",
    "  # print(sh)\n",
    "  image=image.numpy()\n",
    "  numdig=len(str(sh[0]*sh[1]))\n",
    "  mv=255.0*((10)**numdig)+sh[0]*sh[1]\n",
    "  cnt=1\n",
    "  for i, v in enumerate(image):\n",
    "    for j,val in enumerate(v):\n",
    "      image[i][j]=image[i][j]*((10)**numdig)+cnt\n",
    "      cnt+=1\n",
    "  \n",
    "  image/=mv\n",
    "  image=np.float32(image)\n",
    "  # print(image.shape)\n",
    "  # image=image.reshape(rw*rh,)\n",
    "  # print(image.shape)\n",
    "  return image"
   ]
  },
  {
   "cell_type": "code",
   "execution_count": 139,
   "metadata": {},
   "outputs": [
    {
     "name": "stdout",
     "output_type": "stream",
     "text": [
      "ISIC_0026230.jpg\n"
     ]
    }
   ],
   "source": [
    "print(x_test[0])"
   ]
  },
  {
   "cell_type": "code",
   "execution_count": null,
   "metadata": {},
   "outputs": [
    {
     "name": "stdout",
     "output_type": "stream",
     "text": [
      "(9, 12)\n",
      "(108,)\n"
     ]
    }
   ],
   "source": [
    "# for i in range(5):\n",
    "#     image=preprocess_image(\"data/balanced_image/\"+'ISIC_0033544.jpg',200)"
   ]
  },
  {
   "cell_type": "code",
   "execution_count": 140,
   "metadata": {},
   "outputs": [],
   "source": [
    "# image=preprocess_image(\"data/balanced_image/ISIC_0033544.jpg\",200)\n",
    "x1=[]\n",
    "x2=[]\n",
    "x3=[]\n",
    "y1=[]\n",
    "y2=[]\n",
    "y3=[]\n",
    "\n",
    "for i,v in enumerate(x_train):\n",
    "    try:\n",
    "        # print(\"data/balanced_image/\"+x_train[i])\n",
    "        x1.append(preprocess_image(\"data/balanced_image/\"+x_train[i],200))\n",
    "        y1.append(y_train[i])\n",
    "    except Exception as e:\n",
    "        print(x_train[i],y_train[i])\n",
    "        \n",
    "for i,v in enumerate(x_valid):\n",
    "    try:\n",
    "        x2.append(preprocess_image(\"data/balanced_image/\"+x_valid[i],200))\n",
    "        y2.append(y_valid[i])\n",
    "    except Exception as e:\n",
    "        print(x_valid[i],y_valid[i])\n",
    "for i,v in enumerate(x_test):\n",
    "    try:\n",
    "        x3.append(preprocess_image(\"data/balanced_image/\"+x_test[i],200))\n",
    "        y3.append(y_test[i])\n",
    "    except Exception as e:\n",
    "        print(x_test[i],y_test[i])\n",
    "    "
   ]
  },
  {
   "cell_type": "code",
   "execution_count": null,
   "metadata": {},
   "outputs": [],
   "source": [
    "def oh(arr,depth=7):\n",
    "     return tf.one_hot(arr, depth)\n",
    "     "
   ]
  },
  {
   "cell_type": "code",
   "execution_count": null,
   "metadata": {},
   "outputs": [],
   "source": [
    "# x1=np.array(x1)\n",
    "# y1=np.float32(np.array(oh(y1)))\n",
    "# x2=np.array(x2)\n",
    "# y2=np.float32(np.array(oh(y2)))\n",
    "# x3=np.array(x3)\n",
    "# y3=np.float32(np.array(oh(y3)))"
   ]
  },
  {
   "cell_type": "code",
   "execution_count": null,
   "metadata": {},
   "outputs": [],
   "source": [
    "x1=np.array(x1)\n",
    "y1=np.float32(np.array(y1))\n",
    "x2=np.array(x2)\n",
    "y2=np.float32(np.array(y2))\n",
    "x3=np.array(x3)\n",
    "y3=np.float32(np.array(y3))"
   ]
  },
  {
   "cell_type": "code",
   "execution_count": null,
   "metadata": {},
   "outputs": [
    {
     "data": {
      "text/plain": [
       "(420,)"
      ]
     },
     "execution_count": 26,
     "metadata": {},
     "output_type": "execute_result"
    }
   ],
   "source": [
    "y1.shape"
   ]
  },
  {
   "cell_type": "code",
   "execution_count": null,
   "metadata": {},
   "outputs": [],
   "source": [
    "# for i in range(10):\n",
    "#     x1.append(preprocess_image(\"data/balanced_image/\"+'ISIC_0033544.jpg',200))\n",
    "#     y1.append(1)\n",
    "#     x2.append(preprocess_image(\"data/balanced_image/\"+'ISIC_0033544.jpg',200))\n",
    "#     y2.append(1)"
   ]
  },
  {
   "cell_type": "code",
   "execution_count": null,
   "metadata": {},
   "outputs": [
    {
     "data": {
      "text/plain": [
       "(420, 9, 12)"
      ]
     },
     "execution_count": 27,
     "metadata": {},
     "output_type": "execute_result"
    }
   ],
   "source": [
    "x1.shape"
   ]
  },
  {
   "cell_type": "code",
   "execution_count": null,
   "metadata": {},
   "outputs": [],
   "source": [
    "with open('data/train/x_train.pkl','wb') as f:\n",
    "        pickle.dump(x1, f)\n",
    "with open('data/train/y_train.pkl','wb') as f:\n",
    "        pickle.dump(y1, f)\n",
    "with open('data/valid/x_valid.pkl','wb') as f:\n",
    "        pickle.dump(x2, f)\n",
    "with open('data/valid/y_valid.pkl','wb') as f:\n",
    "        pickle.dump(y2, f)\n",
    "with open('data/test/x_test.pkl','wb') as f:\n",
    "        pickle.dump(x3, f)\n",
    "with open('data/test/y_test.pkl','wb') as f:\n",
    "        pickle.dump(y3, f)"
   ]
  }
 ],
 "metadata": {
  "interpreter": {
   "hash": "4a9b5cea0784dd84a54eb32a9034ea0f7d299d9a522482e4c348f8e08377d626"
  },
  "kernelspec": {
   "display_name": "Python 3.7.7",
   "language": "python",
   "name": "python3"
  },
  "language_info": {
   "codemirror_mode": {
    "name": "ipython",
    "version": 3
   },
   "file_extension": ".py",
   "mimetype": "text/x-python",
   "name": "python",
   "nbconvert_exporter": "python",
   "pygments_lexer": "ipython3",
   "version": "3.9.7"
  },
  "orig_nbformat": 4
 },
 "nbformat": 4,
 "nbformat_minor": 2
}
