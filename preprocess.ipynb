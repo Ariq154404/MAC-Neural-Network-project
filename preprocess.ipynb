{
 "cells": [
  {
   "cell_type": "code",
   "execution_count": 106,
   "metadata": {},
   "outputs": [],
   "source": [
    "import tensorflow as tf\n",
    "import numpy as np\n",
    "import pandas as pd\n",
    "import math as mt\n",
    "import os\n",
    "import pickle"
   ]
  },
  {
   "cell_type": "code",
   "execution_count": null,
   "metadata": {},
   "outputs": [],
   "source": []
  },
  {
   "cell_type": "code",
   "execution_count": 107,
   "metadata": {},
   "outputs": [],
   "source": [
    "AUTOTUNE = tf.data.experimental.AUTOTUNE"
   ]
  },
  {
   "cell_type": "code",
   "execution_count": 108,
   "metadata": {},
   "outputs": [
    {
     "data": {
      "text/html": [
       "<div>\n",
       "<style scoped>\n",
       "    .dataframe tbody tr th:only-of-type {\n",
       "        vertical-align: middle;\n",
       "    }\n",
       "\n",
       "    .dataframe tbody tr th {\n",
       "        vertical-align: top;\n",
       "    }\n",
       "\n",
       "    .dataframe thead th {\n",
       "        text-align: right;\n",
       "    }\n",
       "</style>\n",
       "<table border=\"1\" class=\"dataframe\">\n",
       "  <thead>\n",
       "    <tr style=\"text-align: right;\">\n",
       "      <th></th>\n",
       "      <th>image</th>\n",
       "      <th>class</th>\n",
       "      <th>is_valid</th>\n",
       "    </tr>\n",
       "  </thead>\n",
       "  <tbody>\n",
       "    <tr>\n",
       "      <th>0</th>\n",
       "      <td>ISIC_0024310_0</td>\n",
       "      <td>0</td>\n",
       "      <td>False</td>\n",
       "    </tr>\n",
       "    <tr>\n",
       "      <th>1</th>\n",
       "      <td>ISIC_0024310_1</td>\n",
       "      <td>0</td>\n",
       "      <td>False</td>\n",
       "    </tr>\n",
       "    <tr>\n",
       "      <th>2</th>\n",
       "      <td>ISIC_0024310_2</td>\n",
       "      <td>0</td>\n",
       "      <td>False</td>\n",
       "    </tr>\n",
       "    <tr>\n",
       "      <th>3</th>\n",
       "      <td>ISIC_0024310_3</td>\n",
       "      <td>0</td>\n",
       "      <td>False</td>\n",
       "    </tr>\n",
       "    <tr>\n",
       "      <th>4</th>\n",
       "      <td>ISIC_0024310_4</td>\n",
       "      <td>0</td>\n",
       "      <td>False</td>\n",
       "    </tr>\n",
       "  </tbody>\n",
       "</table>\n",
       "</div>"
      ],
      "text/plain": [
       "            image  class  is_valid\n",
       "0  ISIC_0024310_0      0     False\n",
       "1  ISIC_0024310_1      0     False\n",
       "2  ISIC_0024310_2      0     False\n",
       "3  ISIC_0024310_3      0     False\n",
       "4  ISIC_0024310_4      0     False"
      ]
     },
     "execution_count": 108,
     "metadata": {},
     "output_type": "execute_result"
    }
   ],
   "source": [
    "df=pd.read_csv(\"data/labl.csv\")\n",
    "df.head()\n"
   ]
  },
  {
   "cell_type": "code",
   "execution_count": 109,
   "metadata": {},
   "outputs": [],
   "source": [
    "batch_size=10"
   ]
  },
  {
   "cell_type": "code",
   "execution_count": 110,
   "metadata": {},
   "outputs": [],
   "source": [
    "def train_valid_test(pathcsv,trainprop,validprop,testprop,bs=batch_size):\n",
    "    df=pd.read_csv(pathcsv)\n",
    "    df=df.sample(frac=1).reset_index()\n",
    "    x=df[\"is_valid\"].value_counts()\n",
    "    tot={i:[] for i in range(7)}\n",
    "    x_train=[]\n",
    "    x_test=[]\n",
    "    x_valid=[]\n",
    "    y_train=[]\n",
    "    y_valid=[]\n",
    "    y_test=[]\n",
    "    print((x[0]//7))\n",
    "    train_amnt=((int(trainprop*(x[0]//7))//bs)*bs)\n",
    "    print(train_amnt)\n",
    "    valid_amnt=int((int(((x[0]//7)-train_amnt)*validprop)//bs)*bs)\n",
    "    test_amnt=int((int(x[1]*testprop)//bs)*bs)\n",
    "    print(test_amnt,int(x[1]*testprop))\n",
    "    for i,row in df.iterrows():\n",
    "        if row[\"is_valid\"]==False:\n",
    "            tot[int(row[\"class\"])].append(row[\"image\"]+\".jpg\")\n",
    "        elif test_amnt>0:\n",
    "            x_test.append(row[\"image\"]+\".jpg\")\n",
    "            y_test.append(int(row[\"class\"]))\n",
    "            test_amnt-=1\n",
    "        \n",
    "    \n",
    "    for v in tot:\n",
    "        x_train+=(tot[v][:train_amnt])\n",
    "        y_train+=[v]*train_amnt\n",
    "        x_valid+=(tot[v][train_amnt:train_amnt+valid_amnt])\n",
    "        y_valid+=[v]*valid_amnt\n",
    "    return x_train,y_train,x_valid,y_valid,x_test,y_test"
   ]
  },
  {
   "cell_type": "code",
   "execution_count": 111,
   "metadata": {},
   "outputs": [
    {
     "name": "stdout",
     "output_type": "stream",
     "text": [
      "6035\n",
      "60\n",
      "20 29\n"
     ]
    }
   ],
   "source": [
    "pathcsv=\"data/labl.csv\"\n",
    "x_train,y_train,x_valid,y_valid,x_test,y_test=train_valid_test(pathcsv,0.01,0.005,0.03)"
   ]
  },
  {
   "cell_type": "code",
   "execution_count": 112,
   "metadata": {},
   "outputs": [
    {
     "name": "stdout",
     "output_type": "stream",
     "text": [
      "420 420 140 140 20 20\n"
     ]
    }
   ],
   "source": [
    "print(len(x_train),len(y_train),len(x_valid),len(y_valid),len(x_test),len(y_test))"
   ]
  },
  {
   "cell_type": "code",
   "execution_count": 113,
   "metadata": {},
   "outputs": [
    {
     "name": "stdout",
     "output_type": "stream",
     "text": [
      "['ISIC_0028971.jpg', 'ISIC_0026644.jpg', 'ISIC_0027561.jpg', 'ISIC_0027863.jpg', 'ISIC_0029127.jpg', 'ISIC_0026921.jpg', 'ISIC_0024906.jpg', 'ISIC_0029175.jpg', 'ISIC_0028599.jpg', 'ISIC_0024519.jpg', 'ISIC_0033468.jpg', 'ISIC_0027033.jpg', 'ISIC_0025624.jpg', 'ISIC_0027254.jpg', 'ISIC_0027057.jpg', 'ISIC_0034263.jpg', 'ISIC_0032897.jpg', 'ISIC_0024726.jpg', 'ISIC_0025525.jpg', 'ISIC_0034052.jpg']\n"
     ]
    }
   ],
   "source": [
    "print(x_test)"
   ]
  },
  {
   "cell_type": "code",
   "execution_count": 114,
   "metadata": {},
   "outputs": [],
   "source": [
    "def find_suitable(h,w,mxval):\n",
    "    gcd=mt.gcd(h,w)\n",
    "    val=1\n",
    "    while(val<=gcd):\n",
    "        if h%val==0 and w%val==0 and (h//val)*(w/val)<=mxval:\n",
    "            # print(val)\n",
    "            return h//val,w//val\n",
    "        val+=1"
   ]
  },
  {
   "cell_type": "code",
   "execution_count": 115,
   "metadata": {},
   "outputs": [],
   "source": [
    "rh=None\n",
    "rw=None"
   ]
  },
  {
   "cell_type": "code",
   "execution_count": 116,
   "metadata": {},
   "outputs": [],
   "source": [
    "def preprocess_image(path,mxval):\n",
    "  global rh\n",
    "  global rw\n",
    "  image = tf.io.read_file(path)\n",
    "  image = tf.image.decode_jpeg(image, channels=1)\n",
    "  sh=image.shape\n",
    "  if rh==None and rw==None:\n",
    "    rh,rw=find_suitable(sh[0],sh[1],mxval)\n",
    "  image = tf.image.resize(image, [rh,rw])\n",
    "  image=tf.squeeze(image)\n",
    "  sh=image.shape\n",
    "  # print(sh)\n",
    "  image=image.numpy()\n",
    "  numdig=len(str(sh[0]*sh[1]))\n",
    "  mv=255.0*((10)**numdig)+sh[0]*sh[1]\n",
    "  cnt=1\n",
    "  for i, v in enumerate(image):\n",
    "    for j,val in enumerate(v):\n",
    "      image[i][j]=image[i][j]*((10)**numdig)+cnt\n",
    "      cnt+=1\n",
    "  \n",
    "  image/=mv\n",
    "  image=np.float32(image)\n",
    "  # print(image.shape)\n",
    "  # image=image.reshape(rw*rh,)\n",
    "  # print(image.shape)\n",
    "  return image"
   ]
  },
  {
   "cell_type": "code",
   "execution_count": 117,
   "metadata": {},
   "outputs": [
    {
     "name": "stdout",
     "output_type": "stream",
     "text": [
      "ISIC_0028971.jpg\n"
     ]
    }
   ],
   "source": [
    "print(x_test[0])"
   ]
  },
  {
   "cell_type": "code",
   "execution_count": 118,
   "metadata": {},
   "outputs": [],
   "source": [
    "# for i in range(5):\n",
    "#     image=preprocess_image(\"data/balanced_image/\"+'ISIC_0033544.jpg',200)"
   ]
  },
  {
   "cell_type": "code",
   "execution_count": 119,
   "metadata": {},
   "outputs": [],
   "source": [
    "# image=preprocess_image(\"data/balanced_image/ISIC_0033544.jpg\",200)\n",
    "x1=[]\n",
    "x2=[]\n",
    "x3=[]\n",
    "y1=[]\n",
    "y2=[]\n",
    "y3=[]\n",
    "\n",
    "for i,v in enumerate(x_train):\n",
    "    try:\n",
    "        # print(\"data/balanced_image/\"+x_train[i])\n",
    "        x1.append(preprocess_image(\"data/balanced_image/\"+x_train[i],200))\n",
    "        y1.append(y_train[i])\n",
    "    except Exception as e:\n",
    "        print(x_train[i],y_train[i])\n",
    "        \n",
    "for i,v in enumerate(x_valid):\n",
    "    try:\n",
    "        x2.append(preprocess_image(\"data/balanced_image/\"+x_valid[i],200))\n",
    "        y2.append(y_valid[i])\n",
    "    except Exception as e:\n",
    "        print(x_valid[i],y_valid[i])\n",
    "for i,v in enumerate(x_test):\n",
    "    try:\n",
    "        x3.append(preprocess_image(\"data/balanced_image/\"+x_test[i],200))\n",
    "        y3.append(y_test[i])\n",
    "    except Exception as e:\n",
    "        print(x_test[i],y_test[i])\n",
    "    "
   ]
  },
  {
   "cell_type": "code",
   "execution_count": 120,
   "metadata": {},
   "outputs": [],
   "source": [
    "def oh(arr,depth=7):\n",
    "     return tf.one_hot(arr, depth)\n",
    "     "
   ]
  },
  {
   "cell_type": "code",
   "execution_count": 121,
   "metadata": {},
   "outputs": [],
   "source": [
    "# x1=np.array(x1)\n",
    "# y1=np.float32(np.array(oh(y1)))\n",
    "# x2=np.array(x2)\n",
    "# y2=np.float32(np.array(oh(y2)))\n",
    "# x3=np.array(x3)\n",
    "# y3=np.float32(np.array(oh(y3)))"
   ]
  },
  {
   "cell_type": "code",
   "execution_count": 122,
   "metadata": {},
   "outputs": [],
   "source": [
    "x1=np.array(x1)\n",
    "y1=np.float32(np.array(y1))\n",
    "x2=np.array(x2)\n",
    "y2=np.float32(np.array(y2))\n",
    "x3=np.array(x3)\n",
    "y3=np.float32(np.array(y3))"
   ]
  },
  {
   "cell_type": "code",
   "execution_count": 123,
   "metadata": {},
   "outputs": [
    {
     "data": {
      "text/plain": [
       "(420,)"
      ]
     },
     "execution_count": 123,
     "metadata": {},
     "output_type": "execute_result"
    }
   ],
   "source": [
    "y1.shape"
   ]
  },
  {
   "cell_type": "code",
   "execution_count": 124,
   "metadata": {},
   "outputs": [],
   "source": [
    "# for i in range(10):\n",
    "#     x1.append(preprocess_image(\"data/balanced_image/\"+'ISIC_0033544.jpg',200))\n",
    "#     y1.append(1)\n",
    "#     x2.append(preprocess_image(\"data/balanced_image/\"+'ISIC_0033544.jpg',200))\n",
    "#     y2.append(1)"
   ]
  },
  {
   "cell_type": "code",
   "execution_count": 125,
   "metadata": {},
   "outputs": [
    {
     "data": {
      "text/plain": [
       "(420, 9, 12)"
      ]
     },
     "execution_count": 125,
     "metadata": {},
     "output_type": "execute_result"
    }
   ],
   "source": [
    "x1.shape"
   ]
  },
  {
   "cell_type": "code",
   "execution_count": 126,
   "metadata": {},
   "outputs": [],
   "source": [
    "with open('data/train/x_train.pkl','wb') as f:\n",
    "        pickle.dump(x1, f)\n",
    "with open('data/train/y_train.pkl','wb') as f:\n",
    "        pickle.dump(y1, f)\n",
    "with open('data/valid/x_valid.pkl','wb') as f:\n",
    "        pickle.dump(x2, f)\n",
    "with open('data/valid/y_valid.pkl','wb') as f:\n",
    "        pickle.dump(y2, f)\n",
    "with open('data/test/x_test.pkl','wb') as f:\n",
    "        pickle.dump(x3, f)\n",
    "with open('data/test/y_test.pkl','wb') as f:\n",
    "        pickle.dump(y3, f)"
   ]
  }
 ],
 "metadata": {
  "kernelspec": {
   "display_name": "Python 3.10.4 64-bit",
   "language": "python",
   "name": "python3"
  },
  "language_info": {
   "codemirror_mode": {
    "name": "ipython",
    "version": 3
   },
   "file_extension": ".py",
   "mimetype": "text/x-python",
   "name": "python",
   "nbconvert_exporter": "python",
   "pygments_lexer": "ipython3",
   "version": "3.10.4"
  },
  "orig_nbformat": 4,
  "vscode": {
   "interpreter": {
    "hash": "58837b1b657ea91009af8409fc244ae3b5ccf93ea980d6fb6b80adc5f697f4cc"
   }
  }
 },
 "nbformat": 4,
 "nbformat_minor": 2
}
