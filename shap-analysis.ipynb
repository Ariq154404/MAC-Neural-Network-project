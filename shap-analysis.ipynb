{
 "cells": [
  {
   "cell_type": "code",
   "execution_count": 9,
   "metadata": {},
   "outputs": [],
   "source": [
    "import tensorflow as tf\n",
    "import numpy as np\n",
    "import pandas as pd\n",
    "import math as mt\n",
    "import os\n",
    "import pickle\n",
    "import mlflow\n",
    "import mlflow.keras\n",
    "import shap\n",
    "from tensorflow import keras\n",
    "import matplotlib.pyplot as plt"
   ]
  },
  {
   "cell_type": "code",
   "execution_count": 44,
   "metadata": {},
   "outputs": [],
   "source": [
    "with open('data/train/x_train.pkl','rb') as f:\n",
    "        x1=pickle.load(f)\n",
    "with open('data/train/y_train.pkl','rb') as f:\n",
    "        y1=pickle.load( f)\n",
    "with open('data/valid/x_valid.pkl','rb') as f:\n",
    "        x2=pickle.load(f)\n",
    "with open('data/valid/y_valid.pkl','rb') as f:\n",
    "        y2=pickle.load( f)\n",
    "with open('data/test/x_test.pkl','rb') as f:\n",
    "        x3=pickle.load(f)\n",
    "with open('data/test/y_test.pkl','rb') as f:\n",
    "        y3=pickle.load( f)"
   ]
  },
  {
   "cell_type": "code",
   "execution_count": 45,
   "metadata": {},
   "outputs": [
    {
     "name": "stdout",
     "output_type": "stream",
     "text": [
      "WARNING:tensorflow:From c:\\Users\\Acer\\AppData\\Local\\Programs\\Python\\Python310\\lib\\site-packages\\keras\\layers\\normalization\\batch_normalization.py:514: _colocate_with (from tensorflow.python.framework.ops) is deprecated and will be removed in a future version.\n",
      "Instructions for updating:\n",
      "Colocations handled automatically by placer.\n"
     ]
    }
   ],
   "source": [
    "model = tf.keras.models.load_model(\"model/base_model/gcn1\")"
   ]
  },
  {
   "cell_type": "code",
   "execution_count": 47,
   "metadata": {},
   "outputs": [
    {
     "data": {
      "text/plain": [
       "(31640,)"
      ]
     },
     "execution_count": 47,
     "metadata": {},
     "output_type": "execute_result"
    }
   ],
   "source": [
    "y1.shape"
   ]
  },
  {
   "cell_type": "code",
   "execution_count": 48,
   "metadata": {},
   "outputs": [],
   "source": [
    "# Name each one of the classes\n",
    "class_names = ['MEL','NV','BCC','AKIEC','BKL','DF','VASC']\n",
    "# Save an example for each category in a dict\n",
    "images_dict = dict()\n",
    "for i, l in enumerate(y1):\n",
    "  # print(l)\n",
    "  if len(images_dict)==7:\n",
    "    break\n",
    "  if l not in images_dict.keys():\n",
    "    images_dict[int(l)] = x1[i].reshape((9, 12))"
   ]
  },
  {
   "cell_type": "code",
   "execution_count": 49,
   "metadata": {},
   "outputs": [
    {
     "data": {
      "text/plain": [
       "dict_keys([0, 1, 2, 3, 4, 5, 6])"
      ]
     },
     "execution_count": 49,
     "metadata": {},
     "output_type": "execute_result"
    }
   ],
   "source": [
    "images_dict.keys()"
   ]
  },
  {
   "cell_type": "code",
   "execution_count": 50,
   "metadata": {},
   "outputs": [
    {
     "data": {
      "image/png": "[encoded data removed]",
      "text/plain": [
       "<Figure size 1152x1080 with 8 Axes>"
      ]
     },
     "metadata": {
      "needs_background": "light"
     },
     "output_type": "display_data"
    }
   ],
   "source": [
    "# Function to plot images\n",
    "def plot_categories(images):\n",
    "  fig, axes = plt.subplots(1, 8, figsize=(16, 15))\n",
    "  axes = axes.flatten()\n",
    "  \n",
    "  # Plot an empty canvas\n",
    "  ax = axes[0]\n",
    "  dummy_array = np.array([[[0, 0, 0, 0]]], dtype='uint8')\n",
    "  ax.set_title(\"reference\")\n",
    "  ax.set_axis_off()\n",
    "  ax.imshow(dummy_array, interpolation='nearest')\n",
    "\n",
    "  # Plot an image for every category\n",
    "  for k,v in images.items():\n",
    "    ax = axes[k+1]\n",
    "    ax.imshow(v, cmap=plt.cm.binary)\n",
    "    ax.set_title(f\"{class_names[k]}\")\n",
    "    ax.set_axis_off()\n",
    "\n",
    "  plt.tight_layout()\n",
    "  plt.show()\n",
    "\n",
    "\n",
    "# Use the function to plot\n",
    "plot_categories(images_dict)"
   ]
  },
  {
   "cell_type": "code",
   "execution_count": 73,
   "metadata": {},
   "outputs": [],
   "source": [
    "# Take a random sample of 5000 training images\n",
    "background = x1[np.random.choice(x1.shape[0], 5000, replace=False)]\n",
    "# Use DeepExplainer to explain predictions of the model\n",
    "e = shap.Explainer(model, background)\n"
   ]
  },
  {
   "cell_type": "code",
   "execution_count": 53,
   "metadata": {},
   "outputs": [
    {
     "name": "stdout",
     "output_type": "stream",
     "text": [
      "{2.0: array([[0.6311092 , 0.6144535 , 0.65953636, 0.7183389 , 0.7056031 ,\n",
      "        0.69090736, 0.7095309 , 0.698755  , 0.6850393 , 0.6762234 ,\n",
      "        0.6389882 , 0.6419321 ],\n",
      "       [0.6576156 , 0.65761954, 0.6576234 , 0.71250606, 0.69389045,\n",
      "        0.71153396, 0.704678  , 0.6919422 , 0.6939061 , 0.6654907 ,\n",
      "        0.6233556 , 0.6478589 ],\n",
      "       [0.6655024 , 0.66746634, 0.6978495 , 0.69001365, 0.66453815,\n",
      "        0.6723819 , 0.63318676, 0.67238975, 0.67729354, 0.6714176 ,\n",
      "        0.6547619 , 0.6420261 ],\n",
      "       [0.64105004, 0.6880929 , 0.67633706, 0.5999028 , 0.373532  ,\n",
      "        0.35883626, 0.43821833, 0.63127774, 0.6636209 , 0.68420434,\n",
      "        0.6499091 , 0.62541354],\n",
      "       [0.6646165 , 0.66462046, 0.6626644 , 0.63032913, 0.57937425,\n",
      "        0.38338274, 0.3079284 , 0.52548724, 0.6568081 , 0.63329256,\n",
      "        0.64701617, 0.62546057],\n",
      "       [0.65878373, 0.68034714, 0.6685913 , 0.6930947 , 0.65781945,\n",
      "        0.5706054 , 0.35991424, 0.5176945 , 0.65979505, 0.66175896,\n",
      "        0.6598029 , 0.6215877 ],\n",
      "       [0.6362913 , 0.68823403, 0.67941815, 0.70490146, 0.6725661 ,\n",
      "        0.6882497 , 0.6490545 , 0.6588582 , 0.65788215, 0.63436663,\n",
      "        0.60399127, 0.5941954 ],\n",
      "       [0.6343784 , 0.59028333, 0.6608456 , 0.683389  , 0.67751306,\n",
      "        0.634398  , 0.65890133, 0.64126563, 0.6745888 , 0.6285338 ,\n",
      "        0.60893816, 0.61874187],\n",
      "       [0.64520514, 0.6099299 , 0.6334533 , 0.6442369 , 0.68441993,\n",
      "        0.6569845 , 0.6638483 , 0.6422927 , 0.6560163 , 0.6472004 ,\n",
      "        0.615845  , 0.614869  ]], dtype=float32), 1.0: array([[0.82318467, 0.76243   , 0.78105354, 0.81633663, 0.81928045,\n",
      "        0.8016448 , 0.80360866, 0.76637346, 0.75853753, 0.76050144,\n",
      "        0.7409058 , 0.72229016],\n",
      "       [0.7830527 , 0.77717674, 0.7693408 , 0.7928642 , 0.7840483 ,\n",
      "        0.73701334, 0.5371019 , 0.6654829 , 0.76152456, 0.7585885 ,\n",
      "        0.7056737 , 0.7370369 ],\n",
      "       [0.75958025, 0.77918375, 0.7811476 , 0.71843296, 0.49696207,\n",
      "        0.4793264 , 0.36761293, 0.51363343, 0.5146173 , 0.6939571 ,\n",
      "        0.7478597 , 0.7263042 ],\n",
      "       [0.91152376, 0.78021073, 0.77629477, 0.59206295, 0.45683005,\n",
      "        0.4685937 , 0.4480181 , 0.46370164, 0.446066  , 0.72634333,\n",
      "        0.72242737, 0.77535003],\n",
      "       [0.76065433, 0.7929975 , 0.7596822 , 0.44413346, 0.33046004,\n",
      "        0.45002118, 0.46962464, 0.52352726, 0.46669254, 0.71855056,\n",
      "        0.76657337, 0.7077787 ],\n",
      "       [0.731302  , 0.78814465, 0.7440496 , 0.3030638 , 0.26876852,\n",
      "        0.3638302 , 0.44027236, 0.408917  , 0.4657596 , 0.7195776 ,\n",
      "        0.7607406 , 0.72448534],\n",
      "       [0.71076953, 0.7519325 , 0.7333169 , 0.33545008, 0.30409473,\n",
      "        0.39131662, 0.42561975, 0.40406415, 0.5314651 , 0.7431441 ,\n",
      "        0.7549077 , 0.75001174],\n",
      "       [0.75589556, 0.74021983, 0.72748405, 0.4481945 , 0.51973677,\n",
      "        0.44722235, 0.43546656, 0.5452279 , 0.7392673 , 0.74613106,\n",
      "        0.73927516, 0.74319893],\n",
      "       [0.7677023 , 0.7549665 , 0.75497043, 0.72655505, 0.72753894,\n",
      "        0.6971636 , 0.70304734, 0.7304906 , 0.7814534 , 0.76773757,\n",
      "        0.7638216 , 0.7363862 ]], dtype=float32), 4.0: array([[0.5458512 , 0.6124935 , 0.6017177 , 0.6634602 , 0.58800584,\n",
      "        0.68894744, 0.66837186, 0.6409364 , 0.6938591 , 0.6556439 ,\n",
      "        0.5801896 , 0.5929332 ],\n",
      "       [0.5341385 , 0.59882087, 0.6311641 , 0.64390767, 0.6096124 ,\n",
      "        0.667435  , 0.5939406 , 0.5498456 , 0.64882714, 0.6762704 ,\n",
      "        0.6145358 , 0.58808035],\n",
      "       [0.5518251 , 0.5920081 , 0.63219106, 0.6410148 , 0.6498385 ,\n",
      "        0.6763018 , 0.578308  , 0.5449927 , 0.6116351 , 0.6449582 ,\n",
      "        0.65966177, 0.5969472 ],\n",
      "       [0.5195329 , 0.6361541 , 0.5773594 , 0.61068255, 0.6048066 ,\n",
      "        0.68418866, 0.56561536, 0.6146181 , 0.4960448 , 0.5744469 ,\n",
      "        0.6234497 , 0.5803346 ],\n",
      "       [0.56269896, 0.6234614 , 0.5999459 , 0.5989699 , 0.6185733 ,\n",
      "        0.627397  , 0.63622075, 0.5529266 , 0.5627303 , 0.5931135 ,\n",
      "        0.6411363 , 0.6264406 ],\n",
      "       [0.5666659 , 0.60782886, 0.5872532 , 0.50297916, 0.52160263,\n",
      "        0.6470436 , 0.6666471 , 0.580413  , 0.63039577, 0.46870345,\n",
      "        0.58140475, 0.57454884],\n",
      "       [0.48341486, 0.6068959 , 0.5392814 , 0.55496496, 0.45305127,\n",
      "        0.52851343, 0.5265574 , 0.44228327, 0.50402576, 0.3315537 ,\n",
      "        0.56087226, 0.60399514],\n",
      "       [0.52070105, 0.5265848 , 0.48248976, 0.5207128 , 0.5608958 ,\n",
      "        0.4668219 , 0.4766256 , 0.5315082 , 0.6099103 , 0.5119165 ,\n",
      "        0.5138804 , 0.53936374],\n",
      "       [0.45410964, 0.49821252, 0.45705742, 0.47764084, 0.5256636 ,\n",
      "        0.5276275 , 0.63052905, 0.5717343 , 0.6011376 , 0.53058314,\n",
      "        0.5119675 , 0.48453203]], dtype=float32), 0.0: array([[3.9199085e-06, 7.9385988e-02, 4.1160214e-01, 5.0470388e-01,\n",
      "        5.2528733e-01, 5.4489082e-01, 5.5861437e-01, 5.1353937e-01,\n",
      "        4.6650440e-01, 4.2828920e-01, 2.1269815e-01, 1.6706649e-02],\n",
      "       [3.5330135e-02, 4.3614468e-01, 5.0670695e-01, 5.8706903e-01,\n",
      "        5.8707291e-01, 6.4587545e-01, 6.5077931e-01, 6.3412356e-01,\n",
      "        5.5768931e-01, 5.2241403e-01, 4.0776062e-01, 1.2063126e-01],\n",
      "       [2.1177305e-01, 5.1360995e-01, 5.5869281e-01, 6.3415498e-01,\n",
      "        6.9883734e-01, 7.1746081e-01, 6.4004660e-01, 6.5867007e-01,\n",
      "        6.2633473e-01, 5.6460011e-01, 4.7542611e-01, 2.9609421e-01],\n",
      "       [3.5391676e-01, 5.3325653e-01, 6.4105791e-01, 7.0770025e-01,\n",
      "        6.8908465e-01, 5.7149130e-01, 4.0685907e-01, 5.1662040e-01,\n",
      "        6.3324159e-01, 5.7934678e-01, 5.3623170e-01, 3.8531917e-01],\n",
      "       [3.9316291e-01, 5.4408330e-01, 6.7736411e-01, 6.7932796e-01,\n",
      "        7.2539079e-01, 4.9804005e-01, 3.6476707e-01, 6.5190428e-01,\n",
      "        6.7052776e-01, 6.1859292e-01, 5.3235883e-01, 4.5690453e-01],\n",
      "       [3.9320993e-01, 5.2943069e-01, 6.2743229e-01, 6.8623483e-01,\n",
      "        7.0877826e-01, 7.2446179e-01, 7.4308527e-01, 6.8821049e-01,\n",
      "        7.0095408e-01, 6.6469890e-01, 5.3044593e-01, 4.5303166e-01],\n",
      "       [3.0799896e-01, 5.4809725e-01, 6.1081976e-01, 6.6766232e-01,\n",
      "        6.8530583e-01, 6.8530977e-01, 6.8335372e-01, 7.0099723e-01,\n",
      "        6.7846167e-01, 6.2162691e-01, 5.4225272e-01, 3.5704094e-01],\n",
      "       [1.2479029e-01, 4.7268608e-01, 5.6578785e-01, 6.3635010e-01,\n",
      "        6.7849302e-01, 6.3831788e-01, 6.3930178e-01, 5.5894756e-01,\n",
      "        6.5694922e-01, 6.0501432e-01, 4.9134094e-01, 1.3267322e-01],\n",
      "       [3.6639385e-02, 3.2769650e-01, 4.9723646e-01, 5.5015916e-01,\n",
      "        5.6682271e-01, 5.8936608e-01, 6.3248897e-01, 6.0897344e-01,\n",
      "        5.9819764e-01, 5.5018264e-01, 3.6007103e-01, 1.7082961e-02]],\n",
      "      dtype=float32), 5.0: array([[0.7555663 , 0.78202957, 0.7918333 , 0.80555683, 0.7702816 ,\n",
      "        0.7732255 , 0.7595097 , 0.7506938 , 0.7732372 , 0.78696084,\n",
      "        0.78794473, 0.7507095 ],\n",
      "       [0.78207266, 0.7967763 , 0.78992033, 0.77326465, 0.69781035,\n",
      "        0.70271415, 0.73799723, 0.74192107, 0.7683844 , 0.780148  ,\n",
      "        0.7860318 , 0.7693761 ],\n",
      "       [0.7879996 , 0.81936276, 0.80466706, 0.65179455, 0.60181963,\n",
      "        0.6086834 , 0.6420065 , 0.70668894, 0.7517718 , 0.75177574,\n",
      "        0.7958786 , 0.77824295],\n",
      "       [0.7978464 , 0.82136977, 0.8047141 , 0.72141993, 0.66850513,\n",
      "        0.60481054, 0.6028545 , 0.7361353 , 0.77435833, 0.7969017 ,\n",
      "        0.8037655 , 0.77143013],\n",
      "       [0.79299355, 0.813577  , 0.81554085, 0.77438575, 0.65189254,\n",
      "        0.6097574 , 0.6763998 , 0.7234426 , 0.7871451 , 0.82144815,\n",
      "        0.824392  , 0.7744171 ],\n",
      "       [0.7803009 , 0.81656396, 0.8342075 , 0.7871725 , 0.676439  ,\n",
      "        0.63626385, 0.67154694, 0.7205497 , 0.705854  , 0.8048356 ,\n",
      "        0.8107194 , 0.780344  ],\n",
      "       [0.7940676 , 0.8107311 , 0.82935464, 0.80387914, 0.8225026 ,\n",
      "        0.7078492 , 0.70393324, 0.68727756, 0.66572195, 0.80096275,\n",
      "        0.8244861 , 0.7578516 ],\n",
      "       [0.7588355 , 0.81175816, 0.813722  , 0.812746  , 0.8382293 ,\n",
      "        0.8313734 , 0.75199914, 0.70300424, 0.73632735, 0.8010098 ,\n",
      "        0.8000337 , 0.76083857],\n",
      "       [0.7461428 , 0.7980855 , 0.79612947, 0.8059332 , 0.82945657,\n",
      "        0.8412202 , 0.8059449 , 0.8030089 , 0.7834133 , 0.7785173 ,\n",
      "        0.7677415 , 0.7559857 ]], dtype=float32), 3.0: array([[0.65462863, 0.6830519 , 0.58603805, 0.7692977 , 0.75656193,\n",
      "        0.72520655, 0.7252105 , 0.7526538 , 0.74677783, 0.6154648 ,\n",
      "        0.5155111 , 0.58999324],\n",
      "       [0.6331162 , 0.7497374 , 0.75660115, 0.83010334, 0.7938481 ,\n",
      "        0.69095445, 0.748777  , 0.8046396 , 0.67920643, 0.64589113,\n",
      "        0.63805526, 0.5557411 ],\n",
      "       [0.64394295, 0.7448845 , 0.805647  , 0.66355425, 0.77429557,\n",
      "        0.7566599 , 0.69590527, 0.7292284 , 0.7164926 , 0.5949794 ,\n",
      "        0.5450045 , 0.5704878 ],\n",
      "       [0.7165083 , 0.8360694 , 0.8458731 , 0.8262775 , 0.7665028 ,\n",
      "        0.7498471 , 0.43233845, 0.70869595, 0.6744006 , 0.6018863 ,\n",
      "        0.55975115, 0.5479954 ],\n",
      "       [0.7694741 , 0.8037772 , 0.79496133, 0.7077473 , 0.71265113,\n",
      "        0.6068175 , 0.582322  , 0.493148  , 0.705807  , 0.7273704 ,\n",
      "        0.6166369 , 0.6431002 ],\n",
      "       [0.7499216 , 0.79010457, 0.85380703, 0.8008922 , 0.72053796,\n",
      "        0.6882026 , 0.7156459 , 0.6578312 , 0.6362756 , 0.6931182 ,\n",
      "        0.59414446, 0.5696489 ],\n",
      "       [0.7568285 , 0.8048513 , 0.76467615, 0.78133965, 0.7460644 ,\n",
      "        0.5520329 , 0.5716363 , 0.7156969 , 0.68434155, 0.6843454 ,\n",
      "        0.61771095, 0.46679837],\n",
      "       [0.6814173 , 0.74021983, 0.7931425 , 0.8490051 , 0.8401893 ,\n",
      "        0.7539552 , 0.71476   , 0.7157439 , 0.6932084 , 0.6736128 ,\n",
      "        0.60501826, 0.53348386],\n",
      "       [0.6432452 , 0.64324915, 0.6932319 , 0.76673406, 0.81279695,\n",
      "        0.67168415, 0.6638483 , 0.67365193, 0.62857693, 0.6344607 ,\n",
      "        0.51784736, 0.5413707 ]], dtype=float32), 6.0: array([[0.5811303 , 0.63405305, 0.674236  , 0.68599963, 0.68600357,\n",
      "        0.6977672 , 0.69385123, 0.6948351 , 0.6732795 , 0.65760386,\n",
      "        0.6066489 , 0.36655846],\n",
      "       [0.6311562 , 0.66545933, 0.71348214, 0.69584644, 0.7046702 ,\n",
      "        0.6919344 , 0.55376154, 0.57140505, 0.67626655, 0.67921036,\n",
      "        0.6605947 , 0.60278   ],\n",
      "       [0.6468829 , 0.7154852 , 0.70078945, 0.68805367, 0.68315774,\n",
      "        0.18043339, 0.0736198 , 0.061864  , 0.5685161 , 0.6880772 ,\n",
      "        0.6675016 , 0.63026637],\n",
      "       [0.69200885, 0.7223921 , 0.69495666, 0.6675212 , 0.44311038,\n",
      "        0.13834141, 0.0452475 , 0.18440817, 0.2226312 , 0.66656476,\n",
      "        0.694988  , 0.6538329 ],\n",
      "       [0.7067556 , 0.68422   , 0.6322852 , 0.59309   , 0.4392375 ,\n",
      "        0.25892562, 0.26774934, 0.29813257, 0.36281496, 0.62055284,\n",
      "        0.6803354 , 0.67347944],\n",
      "       [0.6695635 , 0.685247  , 0.65487164, 0.5333584 , 0.49416324,\n",
      "        0.29229188, 0.28935587, 0.34815842, 0.48535913, 0.62255985,\n",
      "        0.6882222 , 0.6862662 ],\n",
      "       [0.71076953, 0.69901377, 0.643159  , 0.5882842 , 0.39621258,\n",
      "        0.38249683, 0.3109624 , 0.2776471 , 0.47462642, 0.6657259 ,\n",
      "        0.72452843, 0.6784734 ],\n",
      "       [0.6755374 , 0.6951409 , 0.68828493, 0.6275303 , 0.57559544,\n",
      "        0.5177807 , 0.4668258 , 0.5236684 , 0.57855105, 0.67459273,\n",
      "        0.6892963 , 0.64422125],\n",
      "       [0.6648047 , 0.7147875 , 0.67461234, 0.66187656, 0.64620084,\n",
      "        0.6040657 , 0.5864301 , 0.61779326, 0.63445675, 0.6903194 ,\n",
      "        0.65504414, 0.5982094 ]], dtype=float32)}\n",
      "x_test_each_class tensor has shape: (7, 9, 12)\n"
     ]
    }
   ],
   "source": [
    "# Save an example of each class from the test set\n",
    "x_test_dict = dict()\n",
    "for i, l in enumerate(y3):\n",
    "  # print(l)\n",
    "  if len(x_test_dict)==7:\n",
    "    break\n",
    "  if l not in x_test_dict.keys():\n",
    "    x_test_dict[l] = x3[i]\n",
    "print(x_test_dict)\n",
    "# Convert to list preserving order of classes\n",
    "x_test_each_class = [x_test_dict[i] for i in sorted(x_test_dict)]\n",
    "\n",
    "# Convert to tensor\n",
    "x_test_each_class = np.asarray(x_test_each_class)\n",
    "\n",
    "# Print shape of tensor\n",
    "print(f\"x_test_each_class tensor has shape: {x_test_each_class.shape}\")"
   ]
  },
  {
   "cell_type": "code",
   "execution_count": 74,
   "metadata": {},
   "outputs": [],
   "source": [
    "# Compute predictions\n",
    "predictions = model.predict(x_test_each_class)"
   ]
  },
  {
   "cell_type": "code",
   "execution_count": 75,
   "metadata": {},
   "outputs": [
    {
     "data": {
      "text/plain": [
       "array([0, 0, 0, 3, 3, 2, 0], dtype=int64)"
      ]
     },
     "execution_count": 75,
     "metadata": {},
     "output_type": "execute_result"
    }
   ],
   "source": [
    "# Apply argmax to get predicted class\n",
    "np.argmax(predictions, axis=1)"
   ]
  },
  {
   "cell_type": "code",
   "execution_count": 59,
   "metadata": {},
   "outputs": [],
   "source": [
    "shap.explainers._deep.deep_tf.op_handlers[\"AddV2\"] = shap.explainers._deep.deep_tf.passthrough"
   ]
  },
  {
   "cell_type": "code",
   "execution_count": 61,
   "metadata": {},
   "outputs": [],
   "source": [
    "tf.compat.v1.disable_v2_behavior()"
   ]
  },
  {
   "cell_type": "code",
   "execution_count": 56,
   "metadata": {},
   "outputs": [
    {
     "data": {
      "text/plain": [
       "(750, 9, 12)"
      ]
     },
     "execution_count": 56,
     "metadata": {},
     "output_type": "execute_result"
    }
   ],
   "source": [
    "x3.shape"
   ]
  },
  {
   "cell_type": "code",
   "execution_count": 76,
   "metadata": {},
   "outputs": [
    {
     "ename": "TypeError",
     "evalue": "'numpy.ndarray' object is not callable",
     "output_type": "error",
     "traceback": [
      "\u001b[1;31m---------------------------------------------------------------------------\u001b[0m",
      "\u001b[1;31mTypeError\u001b[0m                                 Traceback (most recent call last)",
      "\u001b[1;32me:\\projects\\python\\Mac-Neural-Network-Project\\shap-analysis.ipynb Cell 15'\u001b[0m in \u001b[0;36m<cell line: 1>\u001b[1;34m()\u001b[0m\n\u001b[1;32m----> <a href='vscode-notebook-cell:/e%3A/projects/python/Mac-Neural-Network-Project/shap-analysis.ipynb#ch0000019?line=0'>1</a>\u001b[0m shap_values \u001b[39m=\u001b[39m e(x3, max_evals\u001b[39m=\u001b[39;49m\u001b[39m5000\u001b[39;49m, batch_size\u001b[39m=\u001b[39;49m\u001b[39m50\u001b[39;49m, outputs\u001b[39m=\u001b[39;49mshap\u001b[39m.\u001b[39;49mExplanation\u001b[39m.\u001b[39;49margsort\u001b[39m.\u001b[39;49mflip[:\u001b[39m1\u001b[39;49m])\n\u001b[0;32m      <a href='vscode-notebook-cell:/e%3A/projects/python/Mac-Neural-Network-Project/shap-analysis.ipynb#ch0000019?line=1'>2</a>\u001b[0m shap\u001b[39m.\u001b[39mimage_plot(shap_values)\n",
      "File \u001b[1;32mc:\\Users\\Acer\\AppData\\Local\\Programs\\Python\\Python310\\lib\\site-packages\\shap\\explainers\\_permutation.py:82\u001b[0m, in \u001b[0;36mPermutation.__call__\u001b[1;34m(self, max_evals, main_effects, error_bounds, batch_size, outputs, silent, *args)\u001b[0m\n\u001b[0;32m     78\u001b[0m \u001b[39mdef\u001b[39;00m \u001b[39m__call__\u001b[39m(\u001b[39mself\u001b[39m, \u001b[39m*\u001b[39margs, max_evals\u001b[39m=\u001b[39m\u001b[39m500\u001b[39m, main_effects\u001b[39m=\u001b[39m\u001b[39mFalse\u001b[39;00m, error_bounds\u001b[39m=\u001b[39m\u001b[39mFalse\u001b[39;00m, batch_size\u001b[39m=\u001b[39m\u001b[39m\"\u001b[39m\u001b[39mauto\u001b[39m\u001b[39m\"\u001b[39m,\n\u001b[0;32m     79\u001b[0m              outputs\u001b[39m=\u001b[39m\u001b[39mNone\u001b[39;00m, silent\u001b[39m=\u001b[39m\u001b[39mFalse\u001b[39;00m):\n\u001b[0;32m     80\u001b[0m     \u001b[39m\"\"\" Explain the output of the model on the given arguments.\u001b[39;00m\n\u001b[0;32m     81\u001b[0m \u001b[39m    \"\"\"\u001b[39;00m\n\u001b[1;32m---> 82\u001b[0m     \u001b[39mreturn\u001b[39;00m \u001b[39msuper\u001b[39;49m()\u001b[39m.\u001b[39;49m\u001b[39m__call__\u001b[39;49m(\n\u001b[0;32m     83\u001b[0m         \u001b[39m*\u001b[39;49margs, max_evals\u001b[39m=\u001b[39;49mmax_evals, main_effects\u001b[39m=\u001b[39;49mmain_effects, error_bounds\u001b[39m=\u001b[39;49merror_bounds, batch_size\u001b[39m=\u001b[39;49mbatch_size,\n\u001b[0;32m     84\u001b[0m         outputs\u001b[39m=\u001b[39;49moutputs, silent\u001b[39m=\u001b[39;49msilent\n\u001b[0;32m     85\u001b[0m     )\n",
      "File \u001b[1;32mc:\\Users\\Acer\\AppData\\Local\\Programs\\Python\\Python310\\lib\\site-packages\\shap\\explainers\\_explainer.py:266\u001b[0m, in \u001b[0;36mExplainer.__call__\u001b[1;34m(self, max_evals, main_effects, error_bounds, batch_size, outputs, silent, *args, **kwargs)\u001b[0m\n\u001b[0;32m    264\u001b[0m     feature_names \u001b[39m=\u001b[39m [[] \u001b[39mfor\u001b[39;00m _ \u001b[39min\u001b[39;00m \u001b[39mrange\u001b[39m(\u001b[39mlen\u001b[39m(args))]\n\u001b[0;32m    265\u001b[0m \u001b[39mfor\u001b[39;00m row_args \u001b[39min\u001b[39;00m show_progress(\u001b[39mzip\u001b[39m(\u001b[39m*\u001b[39margs), num_rows, \u001b[39mself\u001b[39m\u001b[39m.\u001b[39m\u001b[39m__class__\u001b[39m\u001b[39m.\u001b[39m\u001b[39m__name__\u001b[39m\u001b[39m+\u001b[39m\u001b[39m\"\u001b[39m\u001b[39m explainer\u001b[39m\u001b[39m\"\u001b[39m, silent):\n\u001b[1;32m--> 266\u001b[0m     row_result \u001b[39m=\u001b[39m \u001b[39mself\u001b[39m\u001b[39m.\u001b[39mexplain_row(\n\u001b[0;32m    267\u001b[0m         \u001b[39m*\u001b[39mrow_args, max_evals\u001b[39m=\u001b[39mmax_evals, main_effects\u001b[39m=\u001b[39mmain_effects, error_bounds\u001b[39m=\u001b[39merror_bounds,\n\u001b[0;32m    268\u001b[0m         batch_size\u001b[39m=\u001b[39mbatch_size, outputs\u001b[39m=\u001b[39moutputs, silent\u001b[39m=\u001b[39msilent, \u001b[39m*\u001b[39m\u001b[39m*\u001b[39mkwargs\n\u001b[0;32m    269\u001b[0m     )\n\u001b[0;32m    270\u001b[0m     values\u001b[39m.\u001b[39mappend(row_result\u001b[39m.\u001b[39mget(\u001b[39m\"\u001b[39m\u001b[39mvalues\u001b[39m\u001b[39m\"\u001b[39m, \u001b[39mNone\u001b[39;00m))\n\u001b[0;32m    271\u001b[0m     output_indices\u001b[39m.\u001b[39mappend(row_result\u001b[39m.\u001b[39mget(\u001b[39m\"\u001b[39m\u001b[39moutput_indices\u001b[39m\u001b[39m\"\u001b[39m, \u001b[39mNone\u001b[39;00m))\n",
      "File \u001b[1;32mc:\\Users\\Acer\\AppData\\Local\\Programs\\Python\\Python310\\lib\\site-packages\\shap\\explainers\\_permutation.py:140\u001b[0m, in \u001b[0;36mPermutation.explain_row\u001b[1;34m(self, max_evals, main_effects, error_bounds, batch_size, outputs, silent, *row_args)\u001b[0m\n\u001b[0;32m    137\u001b[0m     i \u001b[39m+\u001b[39m\u001b[39m=\u001b[39m \u001b[39m1\u001b[39m\n\u001b[0;32m    139\u001b[0m \u001b[39m# evaluate the masked model\u001b[39;00m\n\u001b[1;32m--> 140\u001b[0m outputs \u001b[39m=\u001b[39m fm(masks, zero_index\u001b[39m=\u001b[39;49m\u001b[39m0\u001b[39;49m, batch_size\u001b[39m=\u001b[39;49mbatch_size)\n\u001b[0;32m    142\u001b[0m \u001b[39mif\u001b[39;00m row_values \u001b[39mis\u001b[39;00m \u001b[39mNone\u001b[39;00m:\n\u001b[0;32m    143\u001b[0m     row_values \u001b[39m=\u001b[39m np\u001b[39m.\u001b[39mzeros((\u001b[39mlen\u001b[39m(fm),) \u001b[39m+\u001b[39m outputs\u001b[39m.\u001b[39mshape[\u001b[39m1\u001b[39m:])\n",
      "File \u001b[1;32mc:\\Users\\Acer\\AppData\\Local\\Programs\\Python\\Python310\\lib\\site-packages\\shap\\utils\\_masked_model.py:64\u001b[0m, in \u001b[0;36mMaskedModel.__call__\u001b[1;34m(self, masks, zero_index, batch_size)\u001b[0m\n\u001b[0;32m     62\u001b[0m         full_masks \u001b[39m=\u001b[39m np\u001b[39m.\u001b[39mzeros((\u001b[39mint\u001b[39m(np\u001b[39m.\u001b[39msum(masks \u001b[39m>\u001b[39m\u001b[39m=\u001b[39m \u001b[39m0\u001b[39m)), \u001b[39mself\u001b[39m\u001b[39m.\u001b[39m_masker_cols), dtype\u001b[39m=\u001b[39mnp\u001b[39m.\u001b[39mbool)\n\u001b[0;32m     63\u001b[0m         _convert_delta_mask_to_full(masks, full_masks)\n\u001b[1;32m---> 64\u001b[0m         \u001b[39mreturn\u001b[39;00m \u001b[39mself\u001b[39;49m\u001b[39m.\u001b[39;49m_full_masking_call(full_masks, zero_index\u001b[39m=\u001b[39;49mzero_index, batch_size\u001b[39m=\u001b[39;49mbatch_size)\n\u001b[0;32m     66\u001b[0m \u001b[39melse\u001b[39;00m:\n\u001b[0;32m     67\u001b[0m     \u001b[39mreturn\u001b[39;00m \u001b[39mself\u001b[39m\u001b[39m.\u001b[39m_full_masking_call(masks, batch_size\u001b[39m=\u001b[39mbatch_size)\n",
      "File \u001b[1;32mc:\\Users\\Acer\\AppData\\Local\\Programs\\Python\\Python310\\lib\\site-packages\\shap\\utils\\_masked_model.py:93\u001b[0m, in \u001b[0;36mMaskedModel._full_masking_call\u001b[1;34m(self, masks, zero_index, batch_size)\u001b[0m\n\u001b[0;32m     91\u001b[0m     masked_inputs \u001b[39m=\u001b[39m \u001b[39mself\u001b[39m\u001b[39m.\u001b[39mmasker(delta_ind, \u001b[39m*\u001b[39m\u001b[39mself\u001b[39m\u001b[39m.\u001b[39margs)\u001b[39m.\u001b[39mcopy()\n\u001b[0;32m     92\u001b[0m \u001b[39melse\u001b[39;00m:\n\u001b[1;32m---> 93\u001b[0m     masked_inputs \u001b[39m=\u001b[39m \u001b[39mself\u001b[39;49m\u001b[39m.\u001b[39;49mmasker(mask, \u001b[39m*\u001b[39;49m\u001b[39mself\u001b[39;49m\u001b[39m.\u001b[39;49margs)\n\u001b[0;32m     95\u001b[0m \u001b[39m# get a copy that won't get overwritten by the next iteration \u001b[39;00m\n\u001b[0;32m     96\u001b[0m \u001b[39mif\u001b[39;00m \u001b[39mnot\u001b[39;00m \u001b[39mgetattr\u001b[39m(\u001b[39mself\u001b[39m\u001b[39m.\u001b[39mmasker, \u001b[39m\"\u001b[39m\u001b[39mimmutable_outputs\u001b[39m\u001b[39m\"\u001b[39m, \u001b[39mFalse\u001b[39;00m):\n",
      "\u001b[1;31mTypeError\u001b[0m: 'numpy.ndarray' object is not callable"
     ]
    }
   ],
   "source": [
    "shap_values = e(x3, max_evals=5000, batch_size=50, outputs=shap.Explanation.argsort.flip[:1])\n",
    "shap.image_plot(shap_values)"
   ]
  },
  {
   "cell_type": "code",
   "execution_count": 69,
   "metadata": {},
   "outputs": [
    {
     "ename": "TypeError",
     "evalue": "Argument `fetch` = None has invalid type \"NoneType\". Cannot be None",
     "output_type": "error",
     "traceback": [
      "\u001b[1;31m---------------------------------------------------------------------------\u001b[0m",
      "\u001b[1;31mTypeError\u001b[0m                                 Traceback (most recent call last)",
      "\u001b[1;32me:\\projects\\python\\Mac-Neural-Network-Project\\shap-analysis.ipynb Cell 15'\u001b[0m in \u001b[0;36m<cell line: 2>\u001b[1;34m()\u001b[0m\n\u001b[0;32m      <a href='vscode-notebook-cell:/e%3A/projects/python/Mac-Neural-Network-Project/shap-analysis.ipynb#ch0000011?line=0'>1</a>\u001b[0m \u001b[39m# Compute shap values using DeepExplainer instance\u001b[39;00m\n\u001b[1;32m----> <a href='vscode-notebook-cell:/e%3A/projects/python/Mac-Neural-Network-Project/shap-analysis.ipynb#ch0000011?line=1'>2</a>\u001b[0m shap_values \u001b[39m=\u001b[39m e\u001b[39m.\u001b[39;49mshap_values(x_test_each_class)\n",
      "File \u001b[1;32mc:\\Users\\Acer\\AppData\\Local\\Programs\\Python\\Python310\\lib\\site-packages\\shap\\explainers\\_deep\\__init__.py:124\u001b[0m, in \u001b[0;36mDeep.shap_values\u001b[1;34m(self, X, ranked_outputs, output_rank_order, check_additivity)\u001b[0m\n\u001b[0;32m     90\u001b[0m \u001b[39mdef\u001b[39;00m \u001b[39mshap_values\u001b[39m(\u001b[39mself\u001b[39m, X, ranked_outputs\u001b[39m=\u001b[39m\u001b[39mNone\u001b[39;00m, output_rank_order\u001b[39m=\u001b[39m\u001b[39m'\u001b[39m\u001b[39mmax\u001b[39m\u001b[39m'\u001b[39m, check_additivity\u001b[39m=\u001b[39m\u001b[39mTrue\u001b[39;00m):\n\u001b[0;32m     91\u001b[0m     \u001b[39m\"\"\" Return approximate SHAP values for the model applied to the data given by X.\u001b[39;00m\n\u001b[0;32m     92\u001b[0m \n\u001b[0;32m     93\u001b[0m \u001b[39m    Parameters\u001b[39;00m\n\u001b[1;32m   (...)\u001b[0m\n\u001b[0;32m    122\u001b[0m \u001b[39m        were chosen as \"top\".\u001b[39;00m\n\u001b[0;32m    123\u001b[0m \u001b[39m    \"\"\"\u001b[39;00m\n\u001b[1;32m--> 124\u001b[0m     \u001b[39mreturn\u001b[39;00m \u001b[39mself\u001b[39;49m\u001b[39m.\u001b[39;49mexplainer\u001b[39m.\u001b[39;49mshap_values(X, ranked_outputs, output_rank_order, check_additivity\u001b[39m=\u001b[39;49mcheck_additivity)\n",
      "File \u001b[1;32mc:\\Users\\Acer\\AppData\\Local\\Programs\\Python\\Python310\\lib\\site-packages\\shap\\explainers\\_deep\\deep_tf.py:312\u001b[0m, in \u001b[0;36mTFDeep.shap_values\u001b[1;34m(self, X, ranked_outputs, output_rank_order, check_additivity)\u001b[0m\n\u001b[0;32m    310\u001b[0m \u001b[39m# run attribution computation graph\u001b[39;00m\n\u001b[0;32m    311\u001b[0m feature_ind \u001b[39m=\u001b[39m model_output_ranks[j,i]\n\u001b[1;32m--> 312\u001b[0m sample_phis \u001b[39m=\u001b[39m \u001b[39mself\u001b[39;49m\u001b[39m.\u001b[39;49mrun(\u001b[39mself\u001b[39;49m\u001b[39m.\u001b[39;49mphi_symbolic(feature_ind), \u001b[39mself\u001b[39;49m\u001b[39m.\u001b[39;49mmodel_inputs, joint_input)\n\u001b[0;32m    314\u001b[0m \u001b[39m# assign the attributions to the right part of the output arrays\u001b[39;00m\n\u001b[0;32m    315\u001b[0m \u001b[39mfor\u001b[39;00m l \u001b[39min\u001b[39;00m \u001b[39mrange\u001b[39m(\u001b[39mlen\u001b[39m(X)):\n",
      "File \u001b[1;32mc:\\Users\\Acer\\AppData\\Local\\Programs\\Python\\Python310\\lib\\site-packages\\shap\\explainers\\_deep\\deep_tf.py:352\u001b[0m, in \u001b[0;36mTFDeep.run\u001b[1;34m(self, out, model_inputs, X)\u001b[0m\n\u001b[0;32m    350\u001b[0m     \u001b[39mfor\u001b[39;00m t \u001b[39min\u001b[39;00m \u001b[39mself\u001b[39m\u001b[39m.\u001b[39mlearning_phase_flags:\n\u001b[0;32m    351\u001b[0m         feed_dict[t] \u001b[39m=\u001b[39m \u001b[39mFalse\u001b[39;00m\n\u001b[1;32m--> 352\u001b[0m     \u001b[39mreturn\u001b[39;00m \u001b[39mself\u001b[39;49m\u001b[39m.\u001b[39;49msession\u001b[39m.\u001b[39;49mrun(out, feed_dict)\n\u001b[0;32m    353\u001b[0m \u001b[39melse\u001b[39;00m:\n\u001b[0;32m    354\u001b[0m     \u001b[39mdef\u001b[39;00m \u001b[39manon\u001b[39m():\n",
      "File \u001b[1;32mc:\\Users\\Acer\\AppData\\Local\\Programs\\Python\\Python310\\lib\\site-packages\\tensorflow\\python\\client\\session.py:967\u001b[0m, in \u001b[0;36mBaseSession.run\u001b[1;34m(self, fetches, feed_dict, options, run_metadata)\u001b[0m\n\u001b[0;32m    964\u001b[0m run_metadata_ptr \u001b[39m=\u001b[39m tf_session\u001b[39m.\u001b[39mTF_NewBuffer() \u001b[39mif\u001b[39;00m run_metadata \u001b[39melse\u001b[39;00m \u001b[39mNone\u001b[39;00m\n\u001b[0;32m    966\u001b[0m \u001b[39mtry\u001b[39;00m:\n\u001b[1;32m--> 967\u001b[0m   result \u001b[39m=\u001b[39m \u001b[39mself\u001b[39;49m\u001b[39m.\u001b[39;49m_run(\u001b[39mNone\u001b[39;49;00m, fetches, feed_dict, options_ptr,\n\u001b[0;32m    968\u001b[0m                      run_metadata_ptr)\n\u001b[0;32m    969\u001b[0m   \u001b[39mif\u001b[39;00m run_metadata:\n\u001b[0;32m    970\u001b[0m     proto_data \u001b[39m=\u001b[39m tf_session\u001b[39m.\u001b[39mTF_GetBuffer(run_metadata_ptr)\n",
      "File \u001b[1;32mc:\\Users\\Acer\\AppData\\Local\\Programs\\Python\\Python310\\lib\\site-packages\\tensorflow\\python\\client\\session.py:1175\u001b[0m, in \u001b[0;36mBaseSession._run\u001b[1;34m(self, handle, fetches, feed_dict, options, run_metadata)\u001b[0m\n\u001b[0;32m   1172\u001b[0m       feed_map[compat\u001b[39m.\u001b[39mas_bytes(subfeed_t\u001b[39m.\u001b[39mname)] \u001b[39m=\u001b[39m (subfeed_t, subfeed_val)\n\u001b[0;32m   1174\u001b[0m \u001b[39m# Create a fetch handler to take care of the structure of fetches.\u001b[39;00m\n\u001b[1;32m-> 1175\u001b[0m fetch_handler \u001b[39m=\u001b[39m _FetchHandler(\n\u001b[0;32m   1176\u001b[0m     \u001b[39mself\u001b[39;49m\u001b[39m.\u001b[39;49m_graph, fetches, feed_dict_tensor, feed_handles\u001b[39m=\u001b[39;49mfeed_handles)\n\u001b[0;32m   1178\u001b[0m \u001b[39m# Run request and get response.\u001b[39;00m\n\u001b[0;32m   1179\u001b[0m \u001b[39m# We need to keep the returned movers alive for the following _do_run().\u001b[39;00m\n\u001b[0;32m   1180\u001b[0m \u001b[39m# These movers are no longer needed when _do_run() completes, and\u001b[39;00m\n\u001b[0;32m   1181\u001b[0m \u001b[39m# are deleted when `movers` goes out of scope when this _run() ends.\u001b[39;00m\n\u001b[0;32m   1182\u001b[0m \u001b[39m# TODO(yuanbyu, keveman): Revisit whether we should just treat feeding\u001b[39;00m\n\u001b[0;32m   1183\u001b[0m \u001b[39m# of a handle from a different device as an error.\u001b[39;00m\n\u001b[0;32m   1184\u001b[0m _ \u001b[39m=\u001b[39m \u001b[39mself\u001b[39m\u001b[39m.\u001b[39m_update_with_movers(feed_dict_tensor, feed_map)\n",
      "File \u001b[1;32mc:\\Users\\Acer\\AppData\\Local\\Programs\\Python\\Python310\\lib\\site-packages\\tensorflow\\python\\client\\session.py:485\u001b[0m, in \u001b[0;36m_FetchHandler.__init__\u001b[1;34m(self, graph, fetches, feeds, feed_handles)\u001b[0m\n\u001b[0;32m    473\u001b[0m \u001b[39m\"\"\"Creates a fetch handler.\u001b[39;00m\n\u001b[0;32m    474\u001b[0m \n\u001b[0;32m    475\u001b[0m \u001b[39mArgs:\u001b[39;00m\n\u001b[1;32m   (...)\u001b[0m\n\u001b[0;32m    482\u001b[0m \u001b[39m    direct feeds.\u001b[39;00m\n\u001b[0;32m    483\u001b[0m \u001b[39m\"\"\"\u001b[39;00m\n\u001b[0;32m    484\u001b[0m \u001b[39mwith\u001b[39;00m graph\u001b[39m.\u001b[39mas_default():\n\u001b[1;32m--> 485\u001b[0m   \u001b[39mself\u001b[39m\u001b[39m.\u001b[39m_fetch_mapper \u001b[39m=\u001b[39m _FetchMapper\u001b[39m.\u001b[39;49mfor_fetch(fetches)\n\u001b[0;32m    486\u001b[0m \u001b[39mself\u001b[39m\u001b[39m.\u001b[39m_fetches \u001b[39m=\u001b[39m []\n\u001b[0;32m    487\u001b[0m \u001b[39mself\u001b[39m\u001b[39m.\u001b[39m_targets \u001b[39m=\u001b[39m []\n",
      "File \u001b[1;32mc:\\Users\\Acer\\AppData\\Local\\Programs\\Python\\Python310\\lib\\site-packages\\tensorflow\\python\\client\\session.py:266\u001b[0m, in \u001b[0;36m_FetchMapper.for_fetch\u001b[1;34m(fetch)\u001b[0m\n\u001b[0;32m    262\u001b[0m   \u001b[39mraise\u001b[39;00m \u001b[39mTypeError\u001b[39;00m(\u001b[39mf\u001b[39m\u001b[39m'\u001b[39m\u001b[39mArgument `fetch` = \u001b[39m\u001b[39m{\u001b[39;00mfetch\u001b[39m}\u001b[39;00m\u001b[39m has invalid type \u001b[39m\u001b[39m'\u001b[39m\n\u001b[0;32m    263\u001b[0m                   \u001b[39mf\u001b[39m\u001b[39m'\u001b[39m\u001b[39m\"\u001b[39m\u001b[39m{\u001b[39;00m\u001b[39mtype\u001b[39m(fetch)\u001b[39m.\u001b[39m\u001b[39m__name__\u001b[39m\u001b[39m}\u001b[39;00m\u001b[39m\"\u001b[39m\u001b[39m. Cannot be None\u001b[39m\u001b[39m'\u001b[39m)\n\u001b[0;32m    264\u001b[0m \u001b[39melif\u001b[39;00m \u001b[39misinstance\u001b[39m(fetch, (\u001b[39mlist\u001b[39m, \u001b[39mtuple\u001b[39m)):\n\u001b[0;32m    265\u001b[0m   \u001b[39m# NOTE(touts): This is also the code path for namedtuples.\u001b[39;00m\n\u001b[1;32m--> 266\u001b[0m   \u001b[39mreturn\u001b[39;00m _ListFetchMapper(fetch)\n\u001b[0;32m    267\u001b[0m \u001b[39melif\u001b[39;00m \u001b[39misinstance\u001b[39m(fetch, collections_abc\u001b[39m.\u001b[39mMapping):\n\u001b[0;32m    268\u001b[0m   \u001b[39mreturn\u001b[39;00m _DictFetchMapper(fetch)\n",
      "File \u001b[1;32mc:\\Users\\Acer\\AppData\\Local\\Programs\\Python\\Python310\\lib\\site-packages\\tensorflow\\python\\client\\session.py:378\u001b[0m, in \u001b[0;36m_ListFetchMapper.__init__\u001b[1;34m(self, fetches)\u001b[0m\n\u001b[0;32m    376\u001b[0m \u001b[39melse\u001b[39;00m:\n\u001b[0;32m    377\u001b[0m   \u001b[39mself\u001b[39m\u001b[39m.\u001b[39m_fetch_type \u001b[39m=\u001b[39m \u001b[39mtype\u001b[39m(fetches)\n\u001b[1;32m--> 378\u001b[0m \u001b[39mself\u001b[39m\u001b[39m.\u001b[39m_mappers \u001b[39m=\u001b[39m [_FetchMapper\u001b[39m.\u001b[39mfor_fetch(fetch) \u001b[39mfor\u001b[39;00m fetch \u001b[39min\u001b[39;00m fetches]\n\u001b[0;32m    379\u001b[0m \u001b[39mself\u001b[39m\u001b[39m.\u001b[39m_unique_fetches, \u001b[39mself\u001b[39m\u001b[39m.\u001b[39m_value_indices \u001b[39m=\u001b[39m _uniquify_fetches(\u001b[39mself\u001b[39m\u001b[39m.\u001b[39m_mappers)\n",
      "File \u001b[1;32mc:\\Users\\Acer\\AppData\\Local\\Programs\\Python\\Python310\\lib\\site-packages\\tensorflow\\python\\client\\session.py:378\u001b[0m, in \u001b[0;36m<listcomp>\u001b[1;34m(.0)\u001b[0m\n\u001b[0;32m    376\u001b[0m \u001b[39melse\u001b[39;00m:\n\u001b[0;32m    377\u001b[0m   \u001b[39mself\u001b[39m\u001b[39m.\u001b[39m_fetch_type \u001b[39m=\u001b[39m \u001b[39mtype\u001b[39m(fetches)\n\u001b[1;32m--> 378\u001b[0m \u001b[39mself\u001b[39m\u001b[39m.\u001b[39m_mappers \u001b[39m=\u001b[39m [_FetchMapper\u001b[39m.\u001b[39;49mfor_fetch(fetch) \u001b[39mfor\u001b[39;00m fetch \u001b[39min\u001b[39;00m fetches]\n\u001b[0;32m    379\u001b[0m \u001b[39mself\u001b[39m\u001b[39m.\u001b[39m_unique_fetches, \u001b[39mself\u001b[39m\u001b[39m.\u001b[39m_value_indices \u001b[39m=\u001b[39m _uniquify_fetches(\u001b[39mself\u001b[39m\u001b[39m.\u001b[39m_mappers)\n",
      "File \u001b[1;32mc:\\Users\\Acer\\AppData\\Local\\Programs\\Python\\Python310\\lib\\site-packages\\tensorflow\\python\\client\\session.py:262\u001b[0m, in \u001b[0;36m_FetchMapper.for_fetch\u001b[1;34m(fetch)\u001b[0m\n\u001b[0;32m    249\u001b[0m \u001b[39m\"\"\"Creates fetch mapper that handles the structure of `fetch`.\u001b[39;00m\n\u001b[0;32m    250\u001b[0m \n\u001b[0;32m    251\u001b[0m \u001b[39mThe default graph must be the one from which we want to fetch values when\u001b[39;00m\n\u001b[1;32m   (...)\u001b[0m\n\u001b[0;32m    259\u001b[0m \u001b[39m  An instance of a subclass of `_FetchMapper` that handles the shape.\u001b[39;00m\n\u001b[0;32m    260\u001b[0m \u001b[39m\"\"\"\u001b[39;00m\n\u001b[0;32m    261\u001b[0m \u001b[39mif\u001b[39;00m fetch \u001b[39mis\u001b[39;00m \u001b[39mNone\u001b[39;00m:\n\u001b[1;32m--> 262\u001b[0m   \u001b[39mraise\u001b[39;00m \u001b[39mTypeError\u001b[39;00m(\u001b[39mf\u001b[39m\u001b[39m'\u001b[39m\u001b[39mArgument `fetch` = \u001b[39m\u001b[39m{\u001b[39;00mfetch\u001b[39m}\u001b[39;00m\u001b[39m has invalid type \u001b[39m\u001b[39m'\u001b[39m\n\u001b[0;32m    263\u001b[0m                   \u001b[39mf\u001b[39m\u001b[39m'\u001b[39m\u001b[39m\"\u001b[39m\u001b[39m{\u001b[39;00m\u001b[39mtype\u001b[39m(fetch)\u001b[39m.\u001b[39m\u001b[39m__name__\u001b[39m\u001b[39m}\u001b[39;00m\u001b[39m\"\u001b[39m\u001b[39m. Cannot be None\u001b[39m\u001b[39m'\u001b[39m)\n\u001b[0;32m    264\u001b[0m \u001b[39melif\u001b[39;00m \u001b[39misinstance\u001b[39m(fetch, (\u001b[39mlist\u001b[39m, \u001b[39mtuple\u001b[39m)):\n\u001b[0;32m    265\u001b[0m   \u001b[39m# NOTE(touts): This is also the code path for namedtuples.\u001b[39;00m\n\u001b[0;32m    266\u001b[0m   \u001b[39mreturn\u001b[39;00m _ListFetchMapper(fetch)\n",
      "\u001b[1;31mTypeError\u001b[0m: Argument `fetch` = None has invalid type \"NoneType\". Cannot be None"
     ]
    }
   ],
   "source": [
    "# Compute shap values using DeepExplainer instance\n",
    "shap_values = e.shap_values(x_test_each_class)"
   ]
  },
  {
   "cell_type": "code",
   "execution_count": null,
   "metadata": {},
   "outputs": [],
   "source": [
    "# Plot reference column\n",
    "plot_categories(images_dict)\n",
    "\n",
    "# Print an empty line to separate the two plots\n",
    "print()\n",
    "\n",
    "# Plot shap values\n",
    "shap.image_plot(shap_values, -x_test_each_class)"
   ]
  },
  {
   "cell_type": "code",
   "execution_count": null,
   "metadata": {},
   "outputs": [],
   "source": [
    "# Save the probability of belonging to each class for the fifth element of the set\n",
    "coat_probs = predictions[4]\n",
    "\n",
    "# Order the probabilities in ascending order\n",
    "coat_args = np.argsort(coat_probs)\n",
    "\n",
    "# Reverse the list and get the top 3 probabilities\n",
    "top_coat_args = coat_args[::-1][:3]\n",
    "\n",
    "# Print (ordered) top 3 classes\n",
    "for i in list(top_coat_args):\n",
    "  print(class_names[i])"
   ]
  },
  {
   "cell_type": "code",
   "execution_count": null,
   "metadata": {},
   "outputs": [],
   "source": []
  }
 ],
 "metadata": {
  "kernelspec": {
   "display_name": "Python 3.10.4 64-bit",
   "language": "python",
   "name": "python3"
  },
  "language_info": {
   "codemirror_mode": {
    "name": "ipython",
    "version": 3
   },
   "file_extension": ".py",
   "mimetype": "text/x-python",
   "name": "python",
   "nbconvert_exporter": "python",
   "pygments_lexer": "ipython3",
   "version": "3.10.4"
  },
  "orig_nbformat": 4,
  "vscode": {
   "interpreter": {
    "hash": "58837b1b657ea91009af8409fc244ae3b5ccf93ea980d6fb6b80adc5f697f4cc"
   }
  }
 },
 "nbformat": 4,
 "nbformat_minor": 2
}
