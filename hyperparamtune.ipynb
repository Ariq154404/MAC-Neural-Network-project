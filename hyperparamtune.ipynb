{
 "cells": [
  {
   "cell_type": "code",
   "execution_count": 1,
   "metadata": {},
   "outputs": [],
   "source": [
    "import tensorflow as tf\n",
    "import numpy as np\n",
    "import pandas as pd\n",
    "import math as mt\n",
    "import os\n",
    "import pickle\n",
    "import mlflow\n",
    "import mlflow.keras\n",
    "import keras_tuner as kt"
   ]
  },
  {
   "cell_type": "code",
   "execution_count": 3,
   "metadata": {},
   "outputs": [
    {
     "name": "stdout",
     "output_type": "stream",
     "text": [
      "Requirement already satisfied: keras-tuner in /Users/ariqrahman/miniforge3/lib/python3.9/site-packages (1.1.2)\n",
      "Requirement already satisfied: tensorboard in /Users/ariqrahman/miniforge3/lib/python3.9/site-packages (from keras-tuner) (2.8.0)\n",
      "Requirement already satisfied: ipython in /Users/ariqrahman/miniforge3/lib/python3.9/site-packages (from keras-tuner) (8.0.1)\n",
      "Requirement already satisfied: packaging in /Users/ariqrahman/miniforge3/lib/python3.9/site-packages (from keras-tuner) (21.3)\n",
      "Requirement already satisfied: requests in /Users/ariqrahman/miniforge3/lib/python3.9/site-packages (from keras-tuner) (2.26.0)\n",
      "Requirement already satisfied: numpy in /Users/ariqrahman/miniforge3/lib/python3.9/site-packages (from keras-tuner) (1.20.3)\n",
      "Requirement already satisfied: kt-legacy in /Users/ariqrahman/miniforge3/lib/python3.9/site-packages (from keras-tuner) (1.0.4)\n",
      "Requirement already satisfied: prompt-toolkit!=3.0.0,!=3.0.1,<3.1.0,>=2.0.0 in /Users/ariqrahman/miniforge3/lib/python3.9/site-packages (from ipython->keras-tuner) (3.0.27)\n",
      "Requirement already satisfied: pexpect>4.3 in /Users/ariqrahman/miniforge3/lib/python3.9/site-packages (from ipython->keras-tuner) (4.8.0)\n",
      "Requirement already satisfied: stack-data in /Users/ariqrahman/miniforge3/lib/python3.9/site-packages (from ipython->keras-tuner) (0.2.0)\n",
      "Requirement already satisfied: backcall in /Users/ariqrahman/miniforge3/lib/python3.9/site-packages (from ipython->keras-tuner) (0.2.0)\n",
      "Requirement already satisfied: matplotlib-inline in /Users/ariqrahman/miniforge3/lib/python3.9/site-packages (from ipython->keras-tuner) (0.1.3)\n",
      "Requirement already satisfied: appnope in /Users/ariqrahman/miniforge3/lib/python3.9/site-packages (from ipython->keras-tuner) (0.1.2)\n",
      "Requirement already satisfied: jedi>=0.16 in /Users/ariqrahman/miniforge3/lib/python3.9/site-packages (from ipython->keras-tuner) (0.18.1)\n",
      "Requirement already satisfied: decorator in /Users/ariqrahman/miniforge3/lib/python3.9/site-packages (from ipython->keras-tuner) (5.1.1)\n",
      "Requirement already satisfied: setuptools>=18.5 in /Users/ariqrahman/miniforge3/lib/python3.9/site-packages (from ipython->keras-tuner) (59.4.0)\n",
      "Requirement already satisfied: black in /Users/ariqrahman/miniforge3/lib/python3.9/site-packages (from ipython->keras-tuner) (22.3.0)\n",
      "Requirement already satisfied: pickleshare in /Users/ariqrahman/miniforge3/lib/python3.9/site-packages (from ipython->keras-tuner) (0.7.5)\n",
      "Requirement already satisfied: traitlets>=5 in /Users/ariqrahman/miniforge3/lib/python3.9/site-packages (from ipython->keras-tuner) (5.1.1)\n",
      "Requirement already satisfied: pygments in /Users/ariqrahman/miniforge3/lib/python3.9/site-packages (from ipython->keras-tuner) (2.11.2)\n",
      "Requirement already satisfied: pyparsing!=3.0.5,>=2.0.2 in /Users/ariqrahman/miniforge3/lib/python3.9/site-packages (from packaging->keras-tuner) (3.0.7)\n",
      "Requirement already satisfied: certifi>=2017.4.17 in /Users/ariqrahman/miniforge3/lib/python3.9/site-packages (from requests->keras-tuner) (2022.5.18.1)\n",
      "Requirement already satisfied: urllib3<1.27,>=1.21.1 in /Users/ariqrahman/miniforge3/lib/python3.9/site-packages (from requests->keras-tuner) (1.26.7)\n",
      "Requirement already satisfied: idna<4,>=2.5 in /Users/ariqrahman/miniforge3/lib/python3.9/site-packages (from requests->keras-tuner) (3.1)\n",
      "Requirement already satisfied: charset-normalizer~=2.0.0 in /Users/ariqrahman/miniforge3/lib/python3.9/site-packages (from requests->keras-tuner) (2.0.9)\n",
      "Requirement already satisfied: tensorboard-plugin-wit>=1.6.0 in /Users/ariqrahman/miniforge3/lib/python3.9/site-packages (from tensorboard->keras-tuner) (1.6.0)\n",
      "Requirement already satisfied: wheel>=0.26 in /Users/ariqrahman/miniforge3/lib/python3.9/site-packages (from tensorboard->keras-tuner) (0.35.1)\n",
      "Requirement already satisfied: grpcio>=1.24.3 in /Users/ariqrahman/miniforge3/lib/python3.9/site-packages (from tensorboard->keras-tuner) (1.42.0)\n",
      "Requirement already satisfied: google-auth-oauthlib<0.5,>=0.4.1 in /Users/ariqrahman/miniforge3/lib/python3.9/site-packages (from tensorboard->keras-tuner) (0.4.1)\n",
      "Requirement already satisfied: absl-py>=0.4 in /Users/ariqrahman/miniforge3/lib/python3.9/site-packages (from tensorboard->keras-tuner) (0.10.0)\n",
      "Requirement already satisfied: markdown>=2.6.8 in /Users/ariqrahman/miniforge3/lib/python3.9/site-packages (from tensorboard->keras-tuner) (3.3.4)\n",
      "Requirement already satisfied: protobuf>=3.6.0 in /Users/ariqrahman/miniforge3/lib/python3.9/site-packages (from tensorboard->keras-tuner) (3.19.1)\n",
      "Requirement already satisfied: werkzeug>=0.11.15 in /Users/ariqrahman/miniforge3/lib/python3.9/site-packages (from tensorboard->keras-tuner) (2.0.2)\n",
      "Requirement already satisfied: google-auth<3,>=1.6.3 in /Users/ariqrahman/miniforge3/lib/python3.9/site-packages (from tensorboard->keras-tuner) (1.33.0)\n",
      "Requirement already satisfied: tensorboard-data-server<0.7.0,>=0.6.0 in /Users/ariqrahman/miniforge3/lib/python3.9/site-packages (from tensorboard->keras-tuner) (0.6.0)\n",
      "Requirement already satisfied: six in /Users/ariqrahman/miniforge3/lib/python3.9/site-packages (from absl-py>=0.4->tensorboard->keras-tuner) (1.15.0)\n",
      "Requirement already satisfied: rsa<5,>=3.1.4 in /Users/ariqrahman/miniforge3/lib/python3.9/site-packages (from google-auth<3,>=1.6.3->tensorboard->keras-tuner) (4.7.2)\n",
      "Requirement already satisfied: cachetools<5.0,>=2.0.0 in /Users/ariqrahman/miniforge3/lib/python3.9/site-packages (from google-auth<3,>=1.6.3->tensorboard->keras-tuner) (4.2.2)\n",
      "Requirement already satisfied: pyasn1-modules>=0.2.1 in /Users/ariqrahman/miniforge3/lib/python3.9/site-packages (from google-auth<3,>=1.6.3->tensorboard->keras-tuner) (0.2.8)\n",
      "Requirement already satisfied: requests-oauthlib>=0.7.0 in /Users/ariqrahman/miniforge3/lib/python3.9/site-packages (from google-auth-oauthlib<0.5,>=0.4.1->tensorboard->keras-tuner) (1.3.0)\n",
      "Requirement already satisfied: parso<0.9.0,>=0.8.0 in /Users/ariqrahman/miniforge3/lib/python3.9/site-packages (from jedi>=0.16->ipython->keras-tuner) (0.8.3)\n",
      "Requirement already satisfied: ptyprocess>=0.5 in /Users/ariqrahman/miniforge3/lib/python3.9/site-packages (from pexpect>4.3->ipython->keras-tuner) (0.7.0)\n",
      "Requirement already satisfied: wcwidth in /Users/ariqrahman/miniforge3/lib/python3.9/site-packages (from prompt-toolkit!=3.0.0,!=3.0.1,<3.1.0,>=2.0.0->ipython->keras-tuner) (0.2.5)\n",
      "Requirement already satisfied: platformdirs>=2 in /Users/ariqrahman/miniforge3/lib/python3.9/site-packages (from black->ipython->keras-tuner) (2.5.2)\n",
      "Requirement already satisfied: typing-extensions>=3.10.0.0 in /Users/ariqrahman/miniforge3/lib/python3.9/site-packages (from black->ipython->keras-tuner) (4.2.0)\n",
      "Requirement already satisfied: pathspec>=0.9.0 in /Users/ariqrahman/miniforge3/lib/python3.9/site-packages (from black->ipython->keras-tuner) (0.9.0)\n",
      "Requirement already satisfied: mypy-extensions>=0.4.3 in /Users/ariqrahman/miniforge3/lib/python3.9/site-packages (from black->ipython->keras-tuner) (0.4.3)\n",
      "Requirement already satisfied: click>=8.0.0 in /Users/ariqrahman/miniforge3/lib/python3.9/site-packages (from black->ipython->keras-tuner) (8.0.3)\n",
      "Requirement already satisfied: tomli>=1.1.0 in /Users/ariqrahman/miniforge3/lib/python3.9/site-packages (from black->ipython->keras-tuner) (2.0.1)\n",
      "Requirement already satisfied: asttokens in /Users/ariqrahman/miniforge3/lib/python3.9/site-packages (from stack-data->ipython->keras-tuner) (2.0.5)\n",
      "Requirement already satisfied: pure-eval in /Users/ariqrahman/miniforge3/lib/python3.9/site-packages (from stack-data->ipython->keras-tuner) (0.2.2)\n",
      "Requirement already satisfied: executing in /Users/ariqrahman/miniforge3/lib/python3.9/site-packages (from stack-data->ipython->keras-tuner) (0.8.2)\n",
      "Requirement already satisfied: pyasn1<0.5.0,>=0.4.6 in /Users/ariqrahman/miniforge3/lib/python3.9/site-packages (from pyasn1-modules>=0.2.1->google-auth<3,>=1.6.3->tensorboard->keras-tuner) (0.4.8)\n",
      "Requirement already satisfied: oauthlib>=3.0.0 in /Users/ariqrahman/miniforge3/lib/python3.9/site-packages (from requests-oauthlib>=0.7.0->google-auth-oauthlib<0.5,>=0.4.1->tensorboard->keras-tuner) (3.1.0)\n",
      "Note: you may need to restart the kernel to use updated packages.\n"
     ]
    }
   ],
   "source": [
    "pip install keras-tuner --upgrade"
   ]
  },
  {
   "cell_type": "code",
   "execution_count": 2,
   "metadata": {},
   "outputs": [
    {
     "name": "stdout",
     "output_type": "stream",
     "text": [
      "1Metal device set to: Apple M1 Pro\n",
      "\n",
      "systemMemory: 16.00 GB\n",
      "maxCacheSize: 5.33 GB\n",
      "\n",
      " Physical GPUs, 1 Logical GPUs\n"
     ]
    },
    {
     "name": "stderr",
     "output_type": "stream",
     "text": [
      "2022-06-29 18:59:15.381164: I tensorflow/core/common_runtime/pluggable_device/pluggable_device_factory.cc:305] Could not identify NUMA node of platform GPU ID 0, defaulting to 0. Your kernel may not have been built with NUMA support.\n",
      "2022-06-29 18:59:15.381271: I tensorflow/core/common_runtime/pluggable_device/pluggable_device_factory.cc:271] Created TensorFlow device (/job:localhost/replica:0/task:0/device:GPU:0 with 0 MB memory) -> physical PluggableDevice (device: 0, name: METAL, pci bus id: <undefined>)\n"
     ]
    }
   ],
   "source": [
    "gpus = tf.config.list_physical_devices('GPU')\n",
    "if gpus:\n",
    "  try:\n",
    "    # Currently, memory growth needs to be the same across GPUs\n",
    "    for gpu in gpus:\n",
    "      tf.config.experimental.set_memory_growth(gpu, True)\n",
    "    logical_gpus = tf.config.list_logical_devices('GPU')\n",
    "    print(len(gpus), \"Physical GPUs,\", len(logical_gpus), \"Logical GPUs\")\n",
    "  except RuntimeError as e:\n",
    "    # Memory growth must be set before GPUs have been initialized\n",
    "    print(e)"
   ]
  },
  {
   "cell_type": "code",
   "execution_count": 2,
   "metadata": {},
   "outputs": [
    {
     "name": "stderr",
     "output_type": "stream",
     "text": [
      "2022/06/29 19:40:12 INFO mlflow.tracking.fluent: Experiment with name 'graph-neural-hyperparameter-trial-6' does not exist. Creating a new experiment.\n"
     ]
    },
    {
     "data": {
      "text/plain": [
       "<Experiment: artifact_location='./mlruns/10', experiment_id='10', lifecycle_stage='active', name='graph-neural-hyperparameter-trial-6', tags={}>"
      ]
     },
     "execution_count": 2,
     "metadata": {},
     "output_type": "execute_result"
    }
   ],
   "source": [
    "\n",
    "\n",
    "mlflow.set_tracking_uri(\"sqlite:///mlflow.db\")\n",
    "mlflow.set_experiment(\"graph-neural-hyperparameter-trial-6\")"
   ]
  },
  {
   "cell_type": "code",
   "execution_count": 3,
   "metadata": {},
   "outputs": [],
   "source": [
    "mlflow.tensorflow.autolog()"
   ]
  },
  {
   "cell_type": "code",
   "execution_count": 4,
   "metadata": {},
   "outputs": [],
   "source": [
    "with open('data/train/x_train.pkl','rb') as f:\n",
    "        x1=pickle.load(f)\n",
    "with open('data/train/y_train.pkl','rb') as f:\n",
    "        y1=pickle.load( f)\n",
    "with open('data/valid/x_valid.pkl','rb') as f:\n",
    "        x2=pickle.load(f)\n",
    "with open('data/valid/y_valid.pkl','rb') as f:\n",
    "        y2=pickle.load( f)\n",
    "with open('data/test/x_test.pkl','rb') as f:\n",
    "        x3=pickle.load(f)\n",
    "with open('data/test/y_test.pkl','rb') as f:\n",
    "        y3=pickle.load( f)"
   ]
  },
  {
   "cell_type": "code",
   "execution_count": 5,
   "metadata": {},
   "outputs": [],
   "source": [
    "class GCN(tf.keras.layers.Layer):\n",
    "    def __init__(self,inp_shape=45*60,out_shape=45*60,h=45, w=60,near=3):\n",
    "        super(GCN, self).__init__()\n",
    "        self.am=[[0 for i in range(w*h)] for j in range(h*w)]\n",
    "        self.img=[[0 for i in range(w)] for j in range(h)]\n",
    "  \n",
    "        self.dr=[[1,0],[0,1],[1,1],[-1,-1],[-1,0],[0,-1],[-1,1],[1,-1]]\n",
    "\n",
    "        for i,v in enumerate(self.img):\n",
    "           for j,v2 in enumerate(self.img[i]):\n",
    "        # timg=[[0 for i in range(w)] for j in range(h)]\n",
    "              for k in range(0,near+1):\n",
    "                for d in self.dr:\n",
    "                  posy=i+d[0]*k\n",
    "                  posx=j+d[1]*k\n",
    "                  if posy>=0 and posy<h and posx>=0 and posx<w:\n",
    "            # timg[posy][posx]=1\n",
    "                    self.am[i*w+j][posy*w+posx]=1\n",
    "        # print(timg) \n",
    "        self.am=np.array(self.am) \n",
    "        self.D = np.diag(np.sum(self.am, axis=0)) \n",
    "        self.Dinv=np.linalg.inv(self.D)\n",
    "        self.am=tf.Variable(self.am,trainable=True,dtype=tf.float32,name=\"ajm\")\n",
    "        self.Dinv=tf.Variable(self.Dinv,trainable=True,dtype=tf.float32,name=\"dm\")\n",
    "        # self.norm=tf.matmul(self.Dinv*self.am)\n",
    "        self.w = self.add_weight(\n",
    "            shape=(inp_shape, out_shape), initializer=\"random_normal\", trainable=True,dtype=tf.float32,name='adjw'\n",
    "        )\n",
    "        # self.b = self.add_weight(shape=(units,), initializer=\"zeros\", trainable=True)\n",
    "    \n",
    "    def call(self, inputs):\n",
    "        inputs=tf.cast(inputs,dtype=tf.float32)\n",
    "        # inputs=tf.transpose()\n",
    "        # print(inputs.shape)\n",
    "        # print(\"inpshape\",tf.transpose(inputs,perm=[1,0]).shape)\n",
    "        # print(self.Dinv.shape)\n",
    "        # print(self.am.shape)\n",
    "        # print(self.w.shape)\n",
    "        first_half=tf.matmul(inputs,tf.matmul(self.Dinv,self.am))\n",
    "    \n",
    "        return tf.matmul(first_half, self.w) "
   ]
  },
  {
   "cell_type": "code",
   "execution_count": 6,
   "metadata": {},
   "outputs": [],
   "source": [
    "def build_model(hp,near=3,lay=2,bs=2,n_out=7):\n",
    "    inputs = tf.keras.Input( shape=(45,60,3))\n",
    "    input=tf.transpose(inputs,perm=[3,0,1,2])\n",
    "    r=input[0][:][:][:]\n",
    "    g=input[1][:][:][:]\n",
    "    b=input[2][:][:][:]\n",
    "    r=tf.keras.layers.Flatten()(r)\n",
    "    g=tf.keras.layers.Flatten()(g)\n",
    "    b=tf.keras.layers.Flatten()(b)\n",
    "    # print(inputs.shape)\n",
    "    near=hp.Choice(\"number of nearest neighbour\", [2, 3,4])\n",
    "    grl=hp.Int( \"no of layers for graph\",min_value=lay, max_value=lay+15, step=4)\n",
    "    for i in range(grl):\n",
    "        r=GCN(near=near)(r)\n",
    "        r=tf.keras.layers.Activation('relu',name=\"graph_layerr\"+str(i+1))(r)\n",
    "    r=tf.keras.layers.BatchNormalization()(r)\n",
    "    for i in range(grl):\n",
    "        g=GCN(near=near)(g)\n",
    "        g=tf.keras.layers.Activation('relu',name=\"graph_layerg\"+str(i+1))(g)\n",
    "    g=tf.keras.layers.BatchNormalization()(g)\n",
    "    \n",
    "    for i in range(grl):\n",
    "        b=GCN(near=near)(b)\n",
    "        b=tf.keras.layers.Activation('relu',name=\"graph_layerb\"+str(i+1))(b)\n",
    "    b=tf.keras.layers.BatchNormalization()(b)\n",
    "    x=tf.stack([r,g,b])\n",
    "    x=tf.transpose(x,perm=[1,2,0])\n",
    "    x=tf.keras.layers.Dense(units=1,activation=\"relu\",name=\"denseshrink\")(x)\n",
    "    # print(\"at\",x.shape)\n",
    "    x=tf.squeeze(x,axis=-1)\n",
    "   \n",
    "    val=hp.Int( \"no of layers for graph\",min_value=lay, max_value=lay+15, step=4)\n",
    "    for i in range(val):\n",
    "        ut=hp.Int('units', min_value=32, max_value=128, step=32)\n",
    "        al=hp.Choice(\"activation\", [\"relu\", \"tanh\"])\n",
    "        x=tf.keras.layers.Dense(units=ut,activation=al,name=\"dense\"+str(i))(x)\n",
    "        with mlflow.start_run(nested=True):\n",
    "            mlflow.log_param(\"no of layers for dense\", val)\n",
    "            mlflow.log_param(\"no of units\", ut)\n",
    "            mlflow.log_param(\"type of activation in dense\", al)\n",
    "    output=tf.keras.layers.Dense(n_out,activation=\"softmax\",name=\"out_layer\")(x)\n",
    "    model = tf.keras.Model(inputs=inputs, outputs=output, name=\"graph_neuralnetwork\")\n",
    "    lr = hp.Choice('learning_rate', values=[1e-2, 1e-3, 1e-4])\n",
    "    model.compile(\n",
    "    loss=tf.keras.losses.SparseCategoricalCrossentropy(),\n",
    "    optimizer=tf.keras.optimizers.Adam(learning_rate=lr),\n",
    "    metrics=[\"accuracy\"],\n",
    "     )\n",
    "    with mlflow.start_run(nested=True):\n",
    "         mlflow.log_param(\"nearest\", near)\n",
    "         mlflow.log_param(\"no of layers for dense\", val)\n",
    "         mlflow.log_param(\"no of layers for graph\", grl)\n",
    "         mlflow.log_param(\"learning_rate\", val)\n",
    "    return model"
   ]
  },
  {
   "cell_type": "code",
   "execution_count": 28,
   "metadata": {},
   "outputs": [],
   "source": [
    "\n",
    "hp = kt.HyperParameters()"
   ]
  },
  {
   "cell_type": "code",
   "execution_count": 19,
   "metadata": {},
   "outputs": [],
   "source": [
    "with mlflow.start_run(nested=True):\n",
    "    model=build_model(hp)"
   ]
  },
  {
   "cell_type": "code",
   "execution_count": 11,
   "metadata": {},
   "outputs": [],
   "source": [
    "with mlflow.start_run(nested=True):\n",
    "    tuner = kt.RandomSearch(\n",
    "    hypermodel=build_model,\n",
    "    objective=\"val_accuracy\",\n",
    "    max_trials=2,\n",
    "    executions_per_trial=1,\n",
    "    overwrite=True,\n",
    "    directory=\"model/hyperparam\",\n",
    "    project_name=\"graph_neural_net\",\n",
    ")"
   ]
  },
  {
   "cell_type": "code",
   "execution_count": 12,
   "metadata": {},
   "outputs": [
    {
     "name": "stdout",
     "output_type": "stream",
     "text": [
      "Search space summary\n",
      "Default search space size: 5\n",
      "number of nearest neighbour (Choice)\n",
      "{'default': 2, 'conditions': [], 'values': [2, 3, 4], 'ordered': True}\n",
      "no of layers for graph (Int)\n",
      "{'default': None, 'conditions': [], 'min_value': 2, 'max_value': 17, 'step': 4, 'sampling': None}\n",
      "units (Int)\n",
      "{'default': None, 'conditions': [], 'min_value': 32, 'max_value': 128, 'step': 32, 'sampling': None}\n",
      "activation (Choice)\n",
      "{'default': 'relu', 'conditions': [], 'values': ['relu', 'tanh'], 'ordered': False}\n",
      "learning_rate (Choice)\n",
      "{'default': 0.01, 'conditions': [], 'values': [0.01, 0.001, 0.0001], 'ordered': True}\n"
     ]
    }
   ],
   "source": [
    "tuner.search_space_summary()"
   ]
  },
  {
   "cell_type": "code",
   "execution_count": 13,
   "metadata": {},
   "outputs": [
    {
     "name": "stdout",
     "output_type": "stream",
     "text": [
      "Trial 2 Complete [00h 13m 25s]\n",
      "val_accuracy: 0.16262754797935486\n",
      "\n",
      "Best val_accuracy So Far: 0.16262754797935486\n",
      "Total elapsed time: 00h 26m 18s\n",
      "INFO:tensorflow:Oracle triggered exit\n"
     ]
    }
   ],
   "source": [
    "\n",
    "tuner.search(x1, y1, epochs=2, validation_data=(x2, y2))"
   ]
  },
  {
   "cell_type": "code",
   "execution_count": 14,
   "metadata": {},
   "outputs": [],
   "source": [
    "models = tuner.get_best_models(num_models=2)\n",
    "best_model = models[0]"
   ]
  },
  {
   "cell_type": "code",
   "execution_count": 15,
   "metadata": {},
   "outputs": [
    {
     "name": "stdout",
     "output_type": "stream",
     "text": [
      "Model: \"graph_neuralnetwork\"\n",
      "__________________________________________________________________________________________________\n",
      " Layer (type)                   Output Shape         Param #     Connected to                     \n",
      "==================================================================================================\n",
      " input_1 (InputLayer)           [(None, 45, 60, 3)]  0           []                               \n",
      "                                                                                                  \n",
      " tf.compat.v1.transpose (TFOpLa  (3, None, 45, 60)   0           ['input_1[0][0]']                \n",
      " mbda)                                                                                            \n",
      "                                                                                                  \n",
      " tf.__operators__.getitem (Slic  (None, 45, 60)      0           ['tf.compat.v1.transpose[0][0]'] \n",
      " ingOpLambda)                                                                                     \n",
      "                                                                                                  \n",
      " tf.__operators__.getitem_4 (Sl  (None, 45, 60)      0           ['tf.compat.v1.transpose[0][0]'] \n",
      " icingOpLambda)                                                                                   \n",
      "                                                                                                  \n",
      " tf.__operators__.getitem_8 (Sl  (None, 45, 60)      0           ['tf.compat.v1.transpose[0][0]'] \n",
      " icingOpLambda)                                                                                   \n",
      "                                                                                                  \n",
      " tf.__operators__.getitem_1 (Sl  (None, 45, 60)      0           ['tf.__operators__.getitem[0][0]'\n",
      " icingOpLambda)                                                  ]                                \n",
      "                                                                                                  \n",
      " tf.__operators__.getitem_5 (Sl  (None, 45, 60)      0           ['tf.__operators__.getitem_4[0][0\n",
      " icingOpLambda)                                                  ]']                              \n",
      "                                                                                                  \n",
      " tf.__operators__.getitem_9 (Sl  (None, 45, 60)      0           ['tf.__operators__.getitem_8[0][0\n",
      " icingOpLambda)                                                  ]']                              \n",
      "                                                                                                  \n",
      " tf.__operators__.getitem_2 (Sl  (None, 45, 60)      0           ['tf.__operators__.getitem_1[0][0\n",
      " icingOpLambda)                                                  ]']                              \n",
      "                                                                                                  \n",
      " tf.__operators__.getitem_6 (Sl  (None, 45, 60)      0           ['tf.__operators__.getitem_5[0][0\n",
      " icingOpLambda)                                                  ]']                              \n",
      "                                                                                                  \n",
      " tf.__operators__.getitem_10 (S  (None, 45, 60)      0           ['tf.__operators__.getitem_9[0][0\n",
      " licingOpLambda)                                                 ]']                              \n",
      "                                                                                                  \n",
      " tf.__operators__.getitem_3 (Sl  (None, 45, 60)      0           ['tf.__operators__.getitem_2[0][0\n",
      " icingOpLambda)                                                  ]']                              \n",
      "                                                                                                  \n",
      " tf.__operators__.getitem_7 (Sl  (None, 45, 60)      0           ['tf.__operators__.getitem_6[0][0\n",
      " icingOpLambda)                                                  ]']                              \n",
      "                                                                                                  \n",
      " tf.__operators__.getitem_11 (S  (None, 45, 60)      0           ['tf.__operators__.getitem_10[0][\n",
      " licingOpLambda)                                                 0]']                             \n",
      "                                                                                                  \n",
      " flatten (Flatten)              (None, 2700)         0           ['tf.__operators__.getitem_3[0][0\n",
      "                                                                 ]']                              \n",
      "                                                                                                  \n",
      " flatten_1 (Flatten)            (None, 2700)         0           ['tf.__operators__.getitem_7[0][0\n",
      "                                                                 ]']                              \n",
      "                                                                                                  \n",
      " flatten_2 (Flatten)            (None, 2700)         0           ['tf.__operators__.getitem_11[0][\n",
      "                                                                 0]']                             \n",
      "                                                                                                  \n",
      " gcn (GCN)                      (None, 2700)         21870000    ['flatten[0][0]']                \n",
      "                                                                                                  \n",
      " gcn_6 (GCN)                    (None, 2700)         21870000    ['flatten_1[0][0]']              \n",
      "                                                                                                  \n",
      " gcn_12 (GCN)                   (None, 2700)         21870000    ['flatten_2[0][0]']              \n",
      "                                                                                                  \n",
      " graph_layerr1 (Activation)     (None, 2700)         0           ['gcn[0][0]']                    \n",
      "                                                                                                  \n",
      " graph_layerg1 (Activation)     (None, 2700)         0           ['gcn_6[0][0]']                  \n",
      "                                                                                                  \n",
      " graph_layerb1 (Activation)     (None, 2700)         0           ['gcn_12[0][0]']                 \n",
      "                                                                                                  \n",
      " gcn_1 (GCN)                    (None, 2700)         21870000    ['graph_layerr1[0][0]']          \n",
      "                                                                                                  \n",
      " gcn_7 (GCN)                    (None, 2700)         21870000    ['graph_layerg1[0][0]']          \n",
      "                                                                                                  \n",
      " gcn_13 (GCN)                   (None, 2700)         21870000    ['graph_layerb1[0][0]']          \n",
      "                                                                                                  \n",
      " graph_layerr2 (Activation)     (None, 2700)         0           ['gcn_1[0][0]']                  \n",
      "                                                                                                  \n",
      " graph_layerg2 (Activation)     (None, 2700)         0           ['gcn_7[0][0]']                  \n",
      "                                                                                                  \n",
      " graph_layerb2 (Activation)     (None, 2700)         0           ['gcn_13[0][0]']                 \n",
      "                                                                                                  \n",
      " gcn_2 (GCN)                    (None, 2700)         21870000    ['graph_layerr2[0][0]']          \n",
      "                                                                                                  \n",
      " gcn_8 (GCN)                    (None, 2700)         21870000    ['graph_layerg2[0][0]']          \n",
      "                                                                                                  \n",
      " gcn_14 (GCN)                   (None, 2700)         21870000    ['graph_layerb2[0][0]']          \n",
      "                                                                                                  \n",
      " graph_layerr3 (Activation)     (None, 2700)         0           ['gcn_2[0][0]']                  \n",
      "                                                                                                  \n",
      " graph_layerg3 (Activation)     (None, 2700)         0           ['gcn_8[0][0]']                  \n",
      "                                                                                                  \n",
      " graph_layerb3 (Activation)     (None, 2700)         0           ['gcn_14[0][0]']                 \n",
      "                                                                                                  \n",
      " gcn_3 (GCN)                    (None, 2700)         21870000    ['graph_layerr3[0][0]']          \n",
      "                                                                                                  \n",
      " gcn_9 (GCN)                    (None, 2700)         21870000    ['graph_layerg3[0][0]']          \n",
      "                                                                                                  \n",
      " gcn_15 (GCN)                   (None, 2700)         21870000    ['graph_layerb3[0][0]']          \n",
      "                                                                                                  \n",
      " graph_layerr4 (Activation)     (None, 2700)         0           ['gcn_3[0][0]']                  \n",
      "                                                                                                  \n",
      " graph_layerg4 (Activation)     (None, 2700)         0           ['gcn_9[0][0]']                  \n",
      "                                                                                                  \n",
      " graph_layerb4 (Activation)     (None, 2700)         0           ['gcn_15[0][0]']                 \n",
      "                                                                                                  \n",
      " gcn_4 (GCN)                    (None, 2700)         21870000    ['graph_layerr4[0][0]']          \n",
      "                                                                                                  \n",
      " gcn_10 (GCN)                   (None, 2700)         21870000    ['graph_layerg4[0][0]']          \n",
      "                                                                                                  \n",
      " gcn_16 (GCN)                   (None, 2700)         21870000    ['graph_layerb4[0][0]']          \n",
      "                                                                                                  \n",
      " graph_layerr5 (Activation)     (None, 2700)         0           ['gcn_4[0][0]']                  \n",
      "                                                                                                  \n",
      " graph_layerg5 (Activation)     (None, 2700)         0           ['gcn_10[0][0]']                 \n",
      "                                                                                                  \n",
      " graph_layerb5 (Activation)     (None, 2700)         0           ['gcn_16[0][0]']                 \n",
      "                                                                                                  \n",
      " gcn_5 (GCN)                    (None, 2700)         21870000    ['graph_layerr5[0][0]']          \n",
      "                                                                                                  \n",
      " gcn_11 (GCN)                   (None, 2700)         21870000    ['graph_layerg5[0][0]']          \n",
      "                                                                                                  \n",
      " gcn_17 (GCN)                   (None, 2700)         21870000    ['graph_layerb5[0][0]']          \n",
      "                                                                                                  \n",
      " graph_layerr6 (Activation)     (None, 2700)         0           ['gcn_5[0][0]']                  \n",
      "                                                                                                  \n",
      " graph_layerg6 (Activation)     (None, 2700)         0           ['gcn_11[0][0]']                 \n",
      "                                                                                                  \n",
      " graph_layerb6 (Activation)     (None, 2700)         0           ['gcn_17[0][0]']                 \n",
      "                                                                                                  \n",
      " batch_normalization (BatchNorm  (None, 2700)        10800       ['graph_layerr6[0][0]']          \n",
      " alization)                                                                                       \n",
      "                                                                                                  \n",
      " batch_normalization_1 (BatchNo  (None, 2700)        10800       ['graph_layerg6[0][0]']          \n",
      " rmalization)                                                                                     \n",
      "                                                                                                  \n",
      " batch_normalization_2 (BatchNo  (None, 2700)        10800       ['graph_layerb6[0][0]']          \n",
      " rmalization)                                                                                     \n",
      "                                                                                                  \n",
      " tf.stack (TFOpLambda)          (3, None, 2700)      0           ['batch_normalization[0][0]',    \n",
      "                                                                  'batch_normalization_1[0][0]',  \n",
      "                                                                  'batch_normalization_2[0][0]']  \n",
      "                                                                                                  \n",
      " tf.compat.v1.transpose_1 (TFOp  (None, 2700, 3)     0           ['tf.stack[0][0]']               \n",
      " Lambda)                                                                                          \n",
      "                                                                                                  \n",
      " denseshrink (Dense)            (None, 2700, 1)      4           ['tf.compat.v1.transpose_1[0][0]'\n",
      "                                                                 ]                                \n",
      "                                                                                                  \n",
      " tf.compat.v1.squeeze (TFOpLamb  (None, 2700)        0           ['denseshrink[0][0]']            \n",
      " da)                                                                                              \n",
      "                                                                                                  \n",
      " dense0 (Dense)                 (None, 64)           172864      ['tf.compat.v1.squeeze[0][0]']   \n",
      "                                                                                                  \n",
      " dense1 (Dense)                 (None, 64)           4160        ['dense0[0][0]']                 \n",
      "                                                                                                  \n",
      " dense2 (Dense)                 (None, 64)           4160        ['dense1[0][0]']                 \n",
      "                                                                                                  \n",
      " dense3 (Dense)                 (None, 64)           4160        ['dense2[0][0]']                 \n",
      "                                                                                                  \n",
      " dense4 (Dense)                 (None, 64)           4160        ['dense3[0][0]']                 \n",
      "                                                                                                  \n",
      " dense5 (Dense)                 (None, 64)           4160        ['dense4[0][0]']                 \n",
      "                                                                                                  \n",
      " out_layer (Dense)              (None, 7)            455         ['dense5[0][0]']                 \n",
      "                                                                                                  \n",
      "==================================================================================================\n",
      "Total params: 393,886,523\n",
      "Trainable params: 393,870,323\n",
      "Non-trainable params: 16,200\n",
      "__________________________________________________________________________________________________\n"
     ]
    }
   ],
   "source": [
    "best_model.summary()"
   ]
  },
  {
   "cell_type": "code",
   "execution_count": 16,
   "metadata": {},
   "outputs": [
    {
     "name": "stdout",
     "output_type": "stream",
     "text": [
      "INFO:tensorflow:Assets written to: /Users/ariqrahman/Desktop/Mac-Neural-Network-Project/model/hyperparam/gcn-hyp/assets\n"
     ]
    }
   ],
   "source": [
    "best_model.save('/Users/ariqrahman/Desktop/Mac-Neural-Network-Project/model/hyperparam/gcn-hyp')"
   ]
  }
 ],
 "metadata": {
  "interpreter": {
   "hash": "5ccd6447379f5e6f7b170904fd40d7e61f0af72b45d9bab3c3472de833a965dd"
  },
  "kernelspec": {
   "display_name": "Python 3.9.7 ('base')",
   "language": "python",
   "name": "python3"
  },
  "language_info": {
   "codemirror_mode": {
    "name": "ipython",
    "version": 3
   },
   "file_extension": ".py",
   "mimetype": "text/x-python",
   "name": "python",
   "nbconvert_exporter": "python",
   "pygments_lexer": "ipython3",
   "version": "3.9.7"
  },
  "orig_nbformat": 4
 },
 "nbformat": 4,
 "nbformat_minor": 2
}
