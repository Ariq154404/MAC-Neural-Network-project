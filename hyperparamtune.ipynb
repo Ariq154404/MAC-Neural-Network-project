{
 "cells": [
  {
   "cell_type": "code",
   "execution_count": 2,
   "metadata": {},
   "outputs": [],
   "source": [
    "import tensorflow as tf\n",
    "import numpy as np\n",
    "import pandas as pd\n",
    "import math as mt\n",
    "import os\n",
    "import pickle\n",
    "import mlflow\n",
    "import mlflow.keras\n",
    "import keras_tuner as kt"
   ]
  },
  {
   "cell_type": "code",
   "execution_count": 3,
   "metadata": {},
   "outputs": [
    {
     "name": "stdout",
     "output_type": "stream",
     "text": [
      "Requirement already satisfied: keras-tuner in /Users/ariqrahman/miniforge3/lib/python3.9/site-packages (1.1.2)\n",
      "Requirement already satisfied: tensorboard in /Users/ariqrahman/miniforge3/lib/python3.9/site-packages (from keras-tuner) (2.8.0)\n",
      "Requirement already satisfied: ipython in /Users/ariqrahman/miniforge3/lib/python3.9/site-packages (from keras-tuner) (8.0.1)\n",
      "Requirement already satisfied: packaging in /Users/ariqrahman/miniforge3/lib/python3.9/site-packages (from keras-tuner) (21.3)\n",
      "Requirement already satisfied: requests in /Users/ariqrahman/miniforge3/lib/python3.9/site-packages (from keras-tuner) (2.26.0)\n",
      "Requirement already satisfied: numpy in /Users/ariqrahman/miniforge3/lib/python3.9/site-packages (from keras-tuner) (1.20.3)\n",
      "Requirement already satisfied: kt-legacy in /Users/ariqrahman/miniforge3/lib/python3.9/site-packages (from keras-tuner) (1.0.4)\n",
      "Requirement already satisfied: prompt-toolkit!=3.0.0,!=3.0.1,<3.1.0,>=2.0.0 in /Users/ariqrahman/miniforge3/lib/python3.9/site-packages (from ipython->keras-tuner) (3.0.27)\n",
      "Requirement already satisfied: pexpect>4.3 in /Users/ariqrahman/miniforge3/lib/python3.9/site-packages (from ipython->keras-tuner) (4.8.0)\n",
      "Requirement already satisfied: stack-data in /Users/ariqrahman/miniforge3/lib/python3.9/site-packages (from ipython->keras-tuner) (0.2.0)\n",
      "Requirement already satisfied: backcall in /Users/ariqrahman/miniforge3/lib/python3.9/site-packages (from ipython->keras-tuner) (0.2.0)\n",
      "Requirement already satisfied: matplotlib-inline in /Users/ariqrahman/miniforge3/lib/python3.9/site-packages (from ipython->keras-tuner) (0.1.3)\n",
      "Requirement already satisfied: appnope in /Users/ariqrahman/miniforge3/lib/python3.9/site-packages (from ipython->keras-tuner) (0.1.2)\n",
      "Requirement already satisfied: jedi>=0.16 in /Users/ariqrahman/miniforge3/lib/python3.9/site-packages (from ipython->keras-tuner) (0.18.1)\n",
      "Requirement already satisfied: decorator in /Users/ariqrahman/miniforge3/lib/python3.9/site-packages (from ipython->keras-tuner) (5.1.1)\n",
      "Requirement already satisfied: setuptools>=18.5 in /Users/ariqrahman/miniforge3/lib/python3.9/site-packages (from ipython->keras-tuner) (59.4.0)\n",
      "Requirement already satisfied: black in /Users/ariqrahman/miniforge3/lib/python3.9/site-packages (from ipython->keras-tuner) (22.3.0)\n",
      "Requirement already satisfied: pickleshare in /Users/ariqrahman/miniforge3/lib/python3.9/site-packages (from ipython->keras-tuner) (0.7.5)\n",
      "Requirement already satisfied: traitlets>=5 in /Users/ariqrahman/miniforge3/lib/python3.9/site-packages (from ipython->keras-tuner) (5.1.1)\n",
      "Requirement already satisfied: pygments in /Users/ariqrahman/miniforge3/lib/python3.9/site-packages (from ipython->keras-tuner) (2.11.2)\n",
      "Requirement already satisfied: pyparsing!=3.0.5,>=2.0.2 in /Users/ariqrahman/miniforge3/lib/python3.9/site-packages (from packaging->keras-tuner) (3.0.7)\n",
      "Requirement already satisfied: certifi>=2017.4.17 in /Users/ariqrahman/miniforge3/lib/python3.9/site-packages (from requests->keras-tuner) (2022.5.18.1)\n",
      "Requirement already satisfied: urllib3<1.27,>=1.21.1 in /Users/ariqrahman/miniforge3/lib/python3.9/site-packages (from requests->keras-tuner) (1.26.7)\n",
      "Requirement already satisfied: idna<4,>=2.5 in /Users/ariqrahman/miniforge3/lib/python3.9/site-packages (from requests->keras-tuner) (3.1)\n",
      "Requirement already satisfied: charset-normalizer~=2.0.0 in /Users/ariqrahman/miniforge3/lib/python3.9/site-packages (from requests->keras-tuner) (2.0.9)\n",
      "Requirement already satisfied: tensorboard-plugin-wit>=1.6.0 in /Users/ariqrahman/miniforge3/lib/python3.9/site-packages (from tensorboard->keras-tuner) (1.6.0)\n",
      "Requirement already satisfied: wheel>=0.26 in /Users/ariqrahman/miniforge3/lib/python3.9/site-packages (from tensorboard->keras-tuner) (0.35.1)\n",
      "Requirement already satisfied: grpcio>=1.24.3 in /Users/ariqrahman/miniforge3/lib/python3.9/site-packages (from tensorboard->keras-tuner) (1.42.0)\n",
      "Requirement already satisfied: google-auth-oauthlib<0.5,>=0.4.1 in /Users/ariqrahman/miniforge3/lib/python3.9/site-packages (from tensorboard->keras-tuner) (0.4.1)\n",
      "Requirement already satisfied: absl-py>=0.4 in /Users/ariqrahman/miniforge3/lib/python3.9/site-packages (from tensorboard->keras-tuner) (0.10.0)\n",
      "Requirement already satisfied: markdown>=2.6.8 in /Users/ariqrahman/miniforge3/lib/python3.9/site-packages (from tensorboard->keras-tuner) (3.3.4)\n",
      "Requirement already satisfied: protobuf>=3.6.0 in /Users/ariqrahman/miniforge3/lib/python3.9/site-packages (from tensorboard->keras-tuner) (3.19.1)\n",
      "Requirement already satisfied: werkzeug>=0.11.15 in /Users/ariqrahman/miniforge3/lib/python3.9/site-packages (from tensorboard->keras-tuner) (2.0.2)\n",
      "Requirement already satisfied: google-auth<3,>=1.6.3 in /Users/ariqrahman/miniforge3/lib/python3.9/site-packages (from tensorboard->keras-tuner) (1.33.0)\n",
      "Requirement already satisfied: tensorboard-data-server<0.7.0,>=0.6.0 in /Users/ariqrahman/miniforge3/lib/python3.9/site-packages (from tensorboard->keras-tuner) (0.6.0)\n",
      "Requirement already satisfied: six in /Users/ariqrahman/miniforge3/lib/python3.9/site-packages (from absl-py>=0.4->tensorboard->keras-tuner) (1.15.0)\n",
      "Requirement already satisfied: rsa<5,>=3.1.4 in /Users/ariqrahman/miniforge3/lib/python3.9/site-packages (from google-auth<3,>=1.6.3->tensorboard->keras-tuner) (4.7.2)\n",
      "Requirement already satisfied: cachetools<5.0,>=2.0.0 in /Users/ariqrahman/miniforge3/lib/python3.9/site-packages (from google-auth<3,>=1.6.3->tensorboard->keras-tuner) (4.2.2)\n",
      "Requirement already satisfied: pyasn1-modules>=0.2.1 in /Users/ariqrahman/miniforge3/lib/python3.9/site-packages (from google-auth<3,>=1.6.3->tensorboard->keras-tuner) (0.2.8)\n",
      "Requirement already satisfied: requests-oauthlib>=0.7.0 in /Users/ariqrahman/miniforge3/lib/python3.9/site-packages (from google-auth-oauthlib<0.5,>=0.4.1->tensorboard->keras-tuner) (1.3.0)\n",
      "Requirement already satisfied: parso<0.9.0,>=0.8.0 in /Users/ariqrahman/miniforge3/lib/python3.9/site-packages (from jedi>=0.16->ipython->keras-tuner) (0.8.3)\n",
      "Requirement already satisfied: ptyprocess>=0.5 in /Users/ariqrahman/miniforge3/lib/python3.9/site-packages (from pexpect>4.3->ipython->keras-tuner) (0.7.0)\n",
      "Requirement already satisfied: wcwidth in /Users/ariqrahman/miniforge3/lib/python3.9/site-packages (from prompt-toolkit!=3.0.0,!=3.0.1,<3.1.0,>=2.0.0->ipython->keras-tuner) (0.2.5)\n",
      "Requirement already satisfied: platformdirs>=2 in /Users/ariqrahman/miniforge3/lib/python3.9/site-packages (from black->ipython->keras-tuner) (2.5.2)\n",
      "Requirement already satisfied: typing-extensions>=3.10.0.0 in /Users/ariqrahman/miniforge3/lib/python3.9/site-packages (from black->ipython->keras-tuner) (4.2.0)\n",
      "Requirement already satisfied: pathspec>=0.9.0 in /Users/ariqrahman/miniforge3/lib/python3.9/site-packages (from black->ipython->keras-tuner) (0.9.0)\n",
      "Requirement already satisfied: mypy-extensions>=0.4.3 in /Users/ariqrahman/miniforge3/lib/python3.9/site-packages (from black->ipython->keras-tuner) (0.4.3)\n",
      "Requirement already satisfied: click>=8.0.0 in /Users/ariqrahman/miniforge3/lib/python3.9/site-packages (from black->ipython->keras-tuner) (8.0.3)\n",
      "Requirement already satisfied: tomli>=1.1.0 in /Users/ariqrahman/miniforge3/lib/python3.9/site-packages (from black->ipython->keras-tuner) (2.0.1)\n",
      "Requirement already satisfied: asttokens in /Users/ariqrahman/miniforge3/lib/python3.9/site-packages (from stack-data->ipython->keras-tuner) (2.0.5)\n",
      "Requirement already satisfied: pure-eval in /Users/ariqrahman/miniforge3/lib/python3.9/site-packages (from stack-data->ipython->keras-tuner) (0.2.2)\n",
      "Requirement already satisfied: executing in /Users/ariqrahman/miniforge3/lib/python3.9/site-packages (from stack-data->ipython->keras-tuner) (0.8.2)\n",
      "Requirement already satisfied: pyasn1<0.5.0,>=0.4.6 in /Users/ariqrahman/miniforge3/lib/python3.9/site-packages (from pyasn1-modules>=0.2.1->google-auth<3,>=1.6.3->tensorboard->keras-tuner) (0.4.8)\n",
      "Requirement already satisfied: oauthlib>=3.0.0 in /Users/ariqrahman/miniforge3/lib/python3.9/site-packages (from requests-oauthlib>=0.7.0->google-auth-oauthlib<0.5,>=0.4.1->tensorboard->keras-tuner) (3.1.0)\n",
      "Note: you may need to restart the kernel to use updated packages.\n"
     ]
    }
   ],
   "source": [
    "pip install keras-tuner --upgrade"
   ]
  },
  {
   "cell_type": "code",
   "execution_count": 23,
   "metadata": {},
   "outputs": [
    {
     "name": "stdout",
     "output_type": "stream",
     "text": [
      "Physical devices cannot be modified after being initialized\n"
     ]
    }
   ],
   "source": [
    "gpus = tf.config.list_physical_devices('GPU')\n",
    "if gpus:\n",
    "  try:\n",
    "    # Currently, memory growth needs to be the same across GPUs\n",
    "    for gpu in gpus:\n",
    "      tf.config.experimental.set_memory_growth(gpu, True)\n",
    "    logical_gpus = tf.config.list_logical_devices('GPU')\n",
    "    print(len(gpus), \"Physical GPUs,\", len(logical_gpus), \"Logical GPUs\")\n",
    "  except RuntimeError as e:\n",
    "    # Memory growth must be set before GPUs have been initialized\n",
    "    print(e)"
   ]
  },
  {
   "cell_type": "code",
   "execution_count": 3,
   "metadata": {},
   "outputs": [
    {
     "data": {
      "text/plain": [
       "<Experiment: artifact_location='./mlruns/5', experiment_id='5', lifecycle_stage='active', name='graph-neural-hyperparameter-trial-1', tags={}>"
      ]
     },
     "execution_count": 3,
     "metadata": {},
     "output_type": "execute_result"
    }
   ],
   "source": [
    "\n",
    "\n",
    "mlflow.set_tracking_uri(\"sqlite:///mlflow.db\")\n",
    "mlflow.set_experiment(\"graph-neural-hyperparameter-trial-1\")"
   ]
  },
  {
   "cell_type": "code",
   "execution_count": 4,
   "metadata": {},
   "outputs": [],
   "source": [
    "mlflow.tensorflow.autolog()"
   ]
  },
  {
   "cell_type": "code",
   "execution_count": 5,
   "metadata": {},
   "outputs": [],
   "source": [
    "with open('data/train/x_train.pkl','rb') as f:\n",
    "        x1=pickle.load(f)\n",
    "with open('data/train/y_train.pkl','rb') as f:\n",
    "        y1=pickle.load( f)\n",
    "with open('data/valid/x_valid.pkl','rb') as f:\n",
    "        x2=pickle.load(f)\n",
    "with open('data/valid/y_valid.pkl','rb') as f:\n",
    "        y2=pickle.load( f)\n",
    "with open('data/test/x_test.pkl','rb') as f:\n",
    "        x3=pickle.load(f)\n",
    "with open('data/test/y_test.pkl','rb') as f:\n",
    "        y3=pickle.load( f)"
   ]
  },
  {
   "cell_type": "code",
   "execution_count": 14,
   "metadata": {},
   "outputs": [],
   "source": [
    "class GCN(tf.keras.layers.Layer):\n",
    "    def __init__(self,inp_shape=9*12,out_shape=9*12,h=9, w=12,near=3):\n",
    "        super(GCN, self).__init__()\n",
    "        self.am=[[0 for i in range(w*h)] for j in range(h*w)]\n",
    "        self.img=[[0 for i in range(w)] for j in range(h)]\n",
    "  \n",
    "        self.dr=[[1,0],[0,1],[1,1],[-1,-1],[-1,0],[0,-1],[-1,1],[1,-1]]\n",
    "\n",
    "        for i,v in enumerate(self.img):\n",
    "           for j,v2 in enumerate(self.img[i]):\n",
    "        # timg=[[0 for i in range(w)] for j in range(h)]\n",
    "              for k in range(0,near+1):\n",
    "                for d in self.dr:\n",
    "                  posy=i+d[0]*k\n",
    "                  posx=j+d[1]*k\n",
    "                  if posy>=0 and posy<h and posx>=0 and posx<w:\n",
    "            # timg[posy][posx]=1\n",
    "                    self.am[i*w+j][posy*w+posx]=1\n",
    "        # print(timg) \n",
    "        self.am=np.array(self.am) \n",
    "        self.D = np.diag(np.sum(self.am, axis=0)) \n",
    "        self.Dinv=np.linalg.inv(self.D)\n",
    "        self.am=tf.Variable(self.am,trainable=True,dtype=tf.float32,name=\"ajm\")\n",
    "        self.Dinv=tf.Variable(self.Dinv,trainable=True,dtype=tf.float32,name=\"dm\")\n",
    "        # self.norm=tf.matmul(self.Dinv*self.am)\n",
    "        self.w = self.add_weight(\n",
    "            shape=(inp_shape, out_shape), initializer=\"random_normal\", trainable=True,dtype=tf.float32,name='adjw'\n",
    "        )\n",
    "        # self.b = self.add_weight(shape=(units,), initializer=\"zeros\", trainable=True)\n",
    "    \n",
    "    def call(self, inputs):\n",
    "        inputs=tf.cast(inputs,dtype=tf.float32)\n",
    "        # inputs=tf.transpose()\n",
    "        print(inputs.shape)\n",
    "        # print(\"inpshape\",tf.transpose(inputs,perm=[1,0]).shape)\n",
    "        # print(self.Dinv.shape)\n",
    "        # print(self.am.shape)\n",
    "        # print(self.w.shape)\n",
    "        first_half=tf.matmul(inputs,tf.matmul(self.Dinv,self.am))\n",
    "    \n",
    "        return tf.matmul(first_half, self.w) "
   ]
  },
  {
   "cell_type": "code",
   "execution_count": 18,
   "metadata": {},
   "outputs": [],
   "source": [
    "def build_model(hp,near=3,lay=2,bs=2,n_out=7):\n",
    "    inputs = tf.keras.Input( shape=(9,12),)\n",
    "    # print(inputs.shape)\n",
    "    near=hp.Choice(\"number of nearest neighbour\", [2, 3,4])\n",
    "    # mlflow.log_param(\"nearest\", near)\n",
    "    x=tf.keras.layers.Flatten()(inputs)\n",
    "    grl=hp.Int( \"no of layers for graph\",min_value=lay, max_value=lay+15, step=4)\n",
    "    for i in range(grl):\n",
    "        # mlflow.log_param(\"no of layers for graph\", val)\n",
    "        x=GCN(near=near)(x)\n",
    "        x=tf.keras.layers.Activation('relu',name=\"graph_layer\"+str(i+1))(x)\n",
    "        \n",
    "    x=tf.keras.layers.BatchNormalization()(x)\n",
    "    val=hp.Int( \"no of layers for graph\",min_value=lay, max_value=lay+15, step=4)\n",
    "    for i in range(val):\n",
    "        ut=hp.Int('units', min_value=32, max_value=128, step=32)\n",
    "        al=hp.Choice(\"activation\", [\"relu\", \"tanh\"])\n",
    "        x=tf.keras.layers.Dense(units=ut,activation=al,name=\"dense\"+str(i))(x)\n",
    "        with mlflow.start_run(nested=True):\n",
    "            mlflow.log_param(\"no of layers for dense\", val)\n",
    "            mlflow.log_param(\"no of units\", ut)\n",
    "            mlflow.log_param(\"type of activation in dense\", al)\n",
    "    output=tf.keras.layers.Dense(n_out,activation=\"softmax\",name=\"out_layer\")(x)\n",
    "    model = tf.keras.Model(inputs=inputs, outputs=output, name=\"graph_neuralnetwork\")\n",
    "    lr = hp.Choice('learning_rate', values=[1e-2, 1e-3, 1e-4])\n",
    "    model.compile(\n",
    "    loss=tf.keras.losses.SparseCategoricalCrossentropy(),\n",
    "    optimizer=tf.keras.optimizers.Adam(learning_rate=lr),\n",
    "    metrics=[\"accuracy\"],\n",
    "     )\n",
    "    with mlflow.start_run(nested=True):\n",
    "         mlflow.log_param(\"nearest\", near)\n",
    "         mlflow.log_param(\"no of layers for dense\", val)\n",
    "         mlflow.log_param(\"no of layers for graph\", grl)\n",
    "         mlflow.log_param(\"learning_rate\", val)\n",
    "    return model"
   ]
  },
  {
   "cell_type": "code",
   "execution_count": 19,
   "metadata": {},
   "outputs": [],
   "source": [
    "\n",
    "hp = kt.HyperParameters()"
   ]
  },
  {
   "cell_type": "code",
   "execution_count": 20,
   "metadata": {},
   "outputs": [
    {
     "name": "stdout",
     "output_type": "stream",
     "text": [
      "(None, 108)\n",
      "(None, 108)\n"
     ]
    }
   ],
   "source": [
    "with mlflow.start_run(nested=True):\n",
    "    model=build_model(hp)"
   ]
  },
  {
   "cell_type": "code",
   "execution_count": 21,
   "metadata": {},
   "outputs": [
    {
     "name": "stdout",
     "output_type": "stream",
     "text": [
      "(None, 108)\n",
      "(None, 108)\n"
     ]
    }
   ],
   "source": [
    "with mlflow.start_run(nested=True):\n",
    "    tuner = kt.RandomSearch(\n",
    "    hypermodel=build_model,\n",
    "    objective=\"val_accuracy\",\n",
    "    max_trials=3,\n",
    "    executions_per_trial=2,\n",
    "    overwrite=True,\n",
    "    directory=\"model/hyperparam\",\n",
    "    project_name=\"graph_neural_net\",\n",
    ")"
   ]
  },
  {
   "cell_type": "code",
   "execution_count": null,
   "metadata": {},
   "outputs": [],
   "source": [
    "tuner.search_space_summary()"
   ]
  },
  {
   "cell_type": "code",
   "execution_count": 22,
   "metadata": {},
   "outputs": [
    {
     "name": "stdout",
     "output_type": "stream",
     "text": [
      "Trial 3 Complete [00h 00m 08s]\n",
      "val_accuracy: 0.1428571492433548\n",
      "\n",
      "Best val_accuracy So Far: 0.14642857760190964\n",
      "Total elapsed time: 00h 00m 34s\n",
      "INFO:tensorflow:Oracle triggered exit\n"
     ]
    }
   ],
   "source": [
    "\n",
    "tuner.search(x1, y1, epochs=2, validation_data=(x2, y2))"
   ]
  },
  {
   "cell_type": "code",
   "execution_count": 24,
   "metadata": {},
   "outputs": [
    {
     "name": "stdout",
     "output_type": "stream",
     "text": [
      "(None, 108)\n",
      "(None, 108)\n",
      "(None, 108)\n",
      "(None, 108)\n",
      "(None, 108)\n",
      "(None, 108)\n",
      "(None, 108)\n",
      "(None, 108)\n",
      "(None, 108)\n",
      "(None, 108)\n",
      "(None, 108)\n",
      "(None, 108)\n"
     ]
    }
   ],
   "source": [
    "models = tuner.get_best_models(num_models=2)\n",
    "best_model = models[0]"
   ]
  },
  {
   "cell_type": "code",
   "execution_count": 25,
   "metadata": {},
   "outputs": [
    {
     "name": "stdout",
     "output_type": "stream",
     "text": [
      "Model: \"graph_neuralnetwork\"\n",
      "_________________________________________________________________\n",
      " Layer (type)                Output Shape              Param #   \n",
      "=================================================================\n",
      " input_1 (InputLayer)        [(None, 9, 12)]           0         \n",
      "                                                                 \n",
      " flatten (Flatten)           (None, 108)               0         \n",
      "                                                                 \n",
      " gcn (GCN)                   (None, 108)               34992     \n",
      "                                                                 \n",
      " graph_layer1 (Activation)   (None, 108)               0         \n",
      "                                                                 \n",
      " gcn_1 (GCN)                 (None, 108)               34992     \n",
      "                                                                 \n",
      " graph_layer2 (Activation)   (None, 108)               0         \n",
      "                                                                 \n",
      " gcn_2 (GCN)                 (None, 108)               34992     \n",
      "                                                                 \n",
      " graph_layer3 (Activation)   (None, 108)               0         \n",
      "                                                                 \n",
      " gcn_3 (GCN)                 (None, 108)               34992     \n",
      "                                                                 \n",
      " graph_layer4 (Activation)   (None, 108)               0         \n",
      "                                                                 \n",
      " gcn_4 (GCN)                 (None, 108)               34992     \n",
      "                                                                 \n",
      " graph_layer5 (Activation)   (None, 108)               0         \n",
      "                                                                 \n",
      " gcn_5 (GCN)                 (None, 108)               34992     \n",
      "                                                                 \n",
      " graph_layer6 (Activation)   (None, 108)               0         \n",
      "                                                                 \n",
      " batch_normalization (BatchN  (None, 108)              432       \n",
      " ormalization)                                                   \n",
      "                                                                 \n",
      " dense0 (Dense)              (None, 128)               13952     \n",
      "                                                                 \n",
      " dense1 (Dense)              (None, 128)               16512     \n",
      "                                                                 \n",
      " dense2 (Dense)              (None, 128)               16512     \n",
      "                                                                 \n",
      " dense3 (Dense)              (None, 128)               16512     \n",
      "                                                                 \n",
      " dense4 (Dense)              (None, 128)               16512     \n",
      "                                                                 \n",
      " dense5 (Dense)              (None, 128)               16512     \n",
      "                                                                 \n",
      " out_layer (Dense)           (None, 7)                 903       \n",
      "                                                                 \n",
      "=================================================================\n",
      "Total params: 307,799\n",
      "Trainable params: 307,583\n",
      "Non-trainable params: 216\n",
      "_________________________________________________________________\n"
     ]
    }
   ],
   "source": [
    "best_model.summary()"
   ]
  },
  {
   "cell_type": "code",
   "execution_count": null,
   "metadata": {},
   "outputs": [],
   "source": [
    "best_model.save('/Users/ariqrahman/Desktop/Mac-Neural-Network-Project/model/hyperparam/gcn-hyp')"
   ]
  }
 ],
 "metadata": {
  "interpreter": {
   "hash": "5ccd6447379f5e6f7b170904fd40d7e61f0af72b45d9bab3c3472de833a965dd"
  },
  "kernelspec": {
   "display_name": "Python 3.9.7 ('base')",
   "language": "python",
   "name": "python3"
  },
  "language_info": {
   "codemirror_mode": {
    "name": "ipython",
    "version": 3
   },
   "file_extension": ".py",
   "mimetype": "text/x-python",
   "name": "python",
   "nbconvert_exporter": "python",
   "pygments_lexer": "ipython3",
   "version": "3.9.7"
  },
  "orig_nbformat": 4
 },
 "nbformat": 4,
 "nbformat_minor": 2
}
